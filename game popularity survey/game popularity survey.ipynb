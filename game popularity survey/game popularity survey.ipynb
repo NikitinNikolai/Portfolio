{
 "cells": [
  {
   "cell_type": "markdown",
   "metadata": {},
   "source": [
    "# Исследование взаимосвязи популярности игр от жанра, платформы и региона реализации."
   ]
  },
  {
   "cell_type": "markdown",
   "metadata": {},
   "source": [
    "<a id='section1'></a>\n",
    "## 1. Знакомство с данными.\n",
    "\n",
    "Загрузим необходимые бибилиотеки, прочитаем файл и сохраним его в переменную df\n"
   ]
  },
  {
   "cell_type": "code",
   "execution_count": 1,
   "metadata": {},
   "outputs": [],
   "source": [
    "# импортируем необходимые для наших задач библиотеки\n",
    "import pandas as pd\n",
    "import numpy as np\n",
    "import matplotlib.pyplot as plt\n",
    "import seaborn as sns\n",
    "from scipy import stats as st\n",
    "pd.set_option('mode.chained_assignment', None)"
   ]
  },
  {
   "cell_type": "code",
   "execution_count": 2,
   "metadata": {},
   "outputs": [],
   "source": [
    "# прочитаем файл games.csv и запишем его в переменную df\n",
    "try:\n",
    "    df = pd.read_csv('/datasets/games.csv')\n",
    "except:\n",
    "    df = pd.read_csv('games.csv')"
   ]
  },
  {
   "cell_type": "code",
   "execution_count": 3,
   "metadata": {},
   "outputs": [
    {
     "data": {
      "text/html": [
       "<div>\n",
       "<style scoped>\n",
       "    .dataframe tbody tr th:only-of-type {\n",
       "        vertical-align: middle;\n",
       "    }\n",
       "\n",
       "    .dataframe tbody tr th {\n",
       "        vertical-align: top;\n",
       "    }\n",
       "\n",
       "    .dataframe thead th {\n",
       "        text-align: right;\n",
       "    }\n",
       "</style>\n",
       "<table border=\"1\" class=\"dataframe\">\n",
       "  <thead>\n",
       "    <tr style=\"text-align: right;\">\n",
       "      <th></th>\n",
       "      <th>Name</th>\n",
       "      <th>Platform</th>\n",
       "      <th>Year_of_Release</th>\n",
       "      <th>Genre</th>\n",
       "      <th>NA_sales</th>\n",
       "      <th>EU_sales</th>\n",
       "      <th>JP_sales</th>\n",
       "      <th>Other_sales</th>\n",
       "      <th>Critic_Score</th>\n",
       "      <th>User_Score</th>\n",
       "      <th>Rating</th>\n",
       "    </tr>\n",
       "  </thead>\n",
       "  <tbody>\n",
       "    <tr>\n",
       "      <th>0</th>\n",
       "      <td>Wii Sports</td>\n",
       "      <td>Wii</td>\n",
       "      <td>2006.0</td>\n",
       "      <td>Sports</td>\n",
       "      <td>41.36</td>\n",
       "      <td>28.96</td>\n",
       "      <td>3.77</td>\n",
       "      <td>8.45</td>\n",
       "      <td>76.0</td>\n",
       "      <td>8</td>\n",
       "      <td>E</td>\n",
       "    </tr>\n",
       "    <tr>\n",
       "      <th>1</th>\n",
       "      <td>Super Mario Bros.</td>\n",
       "      <td>NES</td>\n",
       "      <td>1985.0</td>\n",
       "      <td>Platform</td>\n",
       "      <td>29.08</td>\n",
       "      <td>3.58</td>\n",
       "      <td>6.81</td>\n",
       "      <td>0.77</td>\n",
       "      <td>NaN</td>\n",
       "      <td>NaN</td>\n",
       "      <td>NaN</td>\n",
       "    </tr>\n",
       "    <tr>\n",
       "      <th>2</th>\n",
       "      <td>Mario Kart Wii</td>\n",
       "      <td>Wii</td>\n",
       "      <td>2008.0</td>\n",
       "      <td>Racing</td>\n",
       "      <td>15.68</td>\n",
       "      <td>12.76</td>\n",
       "      <td>3.79</td>\n",
       "      <td>3.29</td>\n",
       "      <td>82.0</td>\n",
       "      <td>8.3</td>\n",
       "      <td>E</td>\n",
       "    </tr>\n",
       "    <tr>\n",
       "      <th>3</th>\n",
       "      <td>Wii Sports Resort</td>\n",
       "      <td>Wii</td>\n",
       "      <td>2009.0</td>\n",
       "      <td>Sports</td>\n",
       "      <td>15.61</td>\n",
       "      <td>10.93</td>\n",
       "      <td>3.28</td>\n",
       "      <td>2.95</td>\n",
       "      <td>80.0</td>\n",
       "      <td>8</td>\n",
       "      <td>E</td>\n",
       "    </tr>\n",
       "    <tr>\n",
       "      <th>4</th>\n",
       "      <td>Pokemon Red/Pokemon Blue</td>\n",
       "      <td>GB</td>\n",
       "      <td>1996.0</td>\n",
       "      <td>Role-Playing</td>\n",
       "      <td>11.27</td>\n",
       "      <td>8.89</td>\n",
       "      <td>10.22</td>\n",
       "      <td>1.00</td>\n",
       "      <td>NaN</td>\n",
       "      <td>NaN</td>\n",
       "      <td>NaN</td>\n",
       "    </tr>\n",
       "    <tr>\n",
       "      <th>5</th>\n",
       "      <td>Tetris</td>\n",
       "      <td>GB</td>\n",
       "      <td>1989.0</td>\n",
       "      <td>Puzzle</td>\n",
       "      <td>23.20</td>\n",
       "      <td>2.26</td>\n",
       "      <td>4.22</td>\n",
       "      <td>0.58</td>\n",
       "      <td>NaN</td>\n",
       "      <td>NaN</td>\n",
       "      <td>NaN</td>\n",
       "    </tr>\n",
       "    <tr>\n",
       "      <th>6</th>\n",
       "      <td>New Super Mario Bros.</td>\n",
       "      <td>DS</td>\n",
       "      <td>2006.0</td>\n",
       "      <td>Platform</td>\n",
       "      <td>11.28</td>\n",
       "      <td>9.14</td>\n",
       "      <td>6.50</td>\n",
       "      <td>2.88</td>\n",
       "      <td>89.0</td>\n",
       "      <td>8.5</td>\n",
       "      <td>E</td>\n",
       "    </tr>\n",
       "    <tr>\n",
       "      <th>7</th>\n",
       "      <td>Wii Play</td>\n",
       "      <td>Wii</td>\n",
       "      <td>2006.0</td>\n",
       "      <td>Misc</td>\n",
       "      <td>13.96</td>\n",
       "      <td>9.18</td>\n",
       "      <td>2.93</td>\n",
       "      <td>2.84</td>\n",
       "      <td>58.0</td>\n",
       "      <td>6.6</td>\n",
       "      <td>E</td>\n",
       "    </tr>\n",
       "    <tr>\n",
       "      <th>8</th>\n",
       "      <td>New Super Mario Bros. Wii</td>\n",
       "      <td>Wii</td>\n",
       "      <td>2009.0</td>\n",
       "      <td>Platform</td>\n",
       "      <td>14.44</td>\n",
       "      <td>6.94</td>\n",
       "      <td>4.70</td>\n",
       "      <td>2.24</td>\n",
       "      <td>87.0</td>\n",
       "      <td>8.4</td>\n",
       "      <td>E</td>\n",
       "    </tr>\n",
       "    <tr>\n",
       "      <th>9</th>\n",
       "      <td>Duck Hunt</td>\n",
       "      <td>NES</td>\n",
       "      <td>1984.0</td>\n",
       "      <td>Shooter</td>\n",
       "      <td>26.93</td>\n",
       "      <td>0.63</td>\n",
       "      <td>0.28</td>\n",
       "      <td>0.47</td>\n",
       "      <td>NaN</td>\n",
       "      <td>NaN</td>\n",
       "      <td>NaN</td>\n",
       "    </tr>\n",
       "  </tbody>\n",
       "</table>\n",
       "</div>"
      ],
      "text/plain": [
       "                        Name Platform  Year_of_Release         Genre  \\\n",
       "0                 Wii Sports      Wii           2006.0        Sports   \n",
       "1          Super Mario Bros.      NES           1985.0      Platform   \n",
       "2             Mario Kart Wii      Wii           2008.0        Racing   \n",
       "3          Wii Sports Resort      Wii           2009.0        Sports   \n",
       "4   Pokemon Red/Pokemon Blue       GB           1996.0  Role-Playing   \n",
       "5                     Tetris       GB           1989.0        Puzzle   \n",
       "6      New Super Mario Bros.       DS           2006.0      Platform   \n",
       "7                   Wii Play      Wii           2006.0          Misc   \n",
       "8  New Super Mario Bros. Wii      Wii           2009.0      Platform   \n",
       "9                  Duck Hunt      NES           1984.0       Shooter   \n",
       "\n",
       "   NA_sales  EU_sales  JP_sales  Other_sales  Critic_Score User_Score Rating  \n",
       "0     41.36     28.96      3.77         8.45          76.0          8      E  \n",
       "1     29.08      3.58      6.81         0.77           NaN        NaN    NaN  \n",
       "2     15.68     12.76      3.79         3.29          82.0        8.3      E  \n",
       "3     15.61     10.93      3.28         2.95          80.0          8      E  \n",
       "4     11.27      8.89     10.22         1.00           NaN        NaN    NaN  \n",
       "5     23.20      2.26      4.22         0.58           NaN        NaN    NaN  \n",
       "6     11.28      9.14      6.50         2.88          89.0        8.5      E  \n",
       "7     13.96      9.18      2.93         2.84          58.0        6.6      E  \n",
       "8     14.44      6.94      4.70         2.24          87.0        8.4      E  \n",
       "9     26.93      0.63      0.28         0.47           NaN        NaN    NaN  "
      ]
     },
     "execution_count": 3,
     "metadata": {},
     "output_type": "execute_result"
    }
   ],
   "source": [
    "# выведем для просмотра и ознакомления первые 10 строк датасета\n",
    "df.head(10)"
   ]
  },
  {
   "cell_type": "code",
   "execution_count": 4,
   "metadata": {},
   "outputs": [
    {
     "name": "stdout",
     "output_type": "stream",
     "text": [
      "<class 'pandas.core.frame.DataFrame'>\n",
      "RangeIndex: 16715 entries, 0 to 16714\n",
      "Data columns (total 11 columns):\n",
      " #   Column           Non-Null Count  Dtype  \n",
      "---  ------           --------------  -----  \n",
      " 0   Name             16713 non-null  object \n",
      " 1   Platform         16715 non-null  object \n",
      " 2   Year_of_Release  16446 non-null  float64\n",
      " 3   Genre            16713 non-null  object \n",
      " 4   NA_sales         16715 non-null  float64\n",
      " 5   EU_sales         16715 non-null  float64\n",
      " 6   JP_sales         16715 non-null  float64\n",
      " 7   Other_sales      16715 non-null  float64\n",
      " 8   Critic_Score     8137 non-null   float64\n",
      " 9   User_Score       10014 non-null  object \n",
      " 10  Rating           9949 non-null   object \n",
      "dtypes: float64(6), object(5)\n",
      "memory usage: 1.4+ MB\n"
     ]
    }
   ],
   "source": [
    "df.info()"
   ]
  },
  {
   "cell_type": "markdown",
   "metadata": {},
   "source": [
    "**Вывод:** По результатам знакомства с данными мы видим, что большая часть данных присутствует в датасете в полном объеме, а такжечто не все данные находятся в корректном и удобном для дальнейшего анализа виде. Поэтому на следующем этапе мы оценим какие данные мы сможем дополнить на основании имеющихся, от каких строк с пропущенными значениями мы сможем избавиться, и какие данные нам следует преобразовать. Ну и, соотвтетсвенно, проведем все эти манипуляции"
   ]
  },
  {
   "cell_type": "markdown",
   "metadata": {},
   "source": [
    "<a id='section2'></a>\n",
    "## 2. Предобработка данных."
   ]
  },
  {
   "cell_type": "markdown",
   "metadata": {},
   "source": [
    "Проведем первичную предобработку данных, а именно переименуем столбцы в более удобный для обработки вид, уберем по возможности пропущенные значения, и устраним дубликаты"
   ]
  },
  {
   "cell_type": "markdown",
   "metadata": {},
   "source": [
    "### 2.1. Переименование столбцов."
   ]
  },
  {
   "cell_type": "code",
   "execution_count": 5,
   "metadata": {},
   "outputs": [
    {
     "data": {
      "text/plain": [
       "Index(['name', 'platform', 'release', 'genre', 'na_sales', 'eu_sales',\n",
       "       'jp_sales', 'other_sales', 'critic_score', 'user_score', 'rating'],\n",
       "      dtype='object')"
      ]
     },
     "execution_count": 5,
     "metadata": {},
     "output_type": "execute_result"
    }
   ],
   "source": [
    "# переводим названия всех столбцов в нижний регистр \n",
    "# и меняем название столбца Year_of_Release на release для дальнейшего удобства обращения к нему\n",
    "df = df.rename(columns=lambda x: x.lower())\n",
    "df = df.rename(columns={'year_of_release':'release'})\n",
    "# проверяем изменились ли названия\n",
    "df.columns "
   ]
  },
  {
   "cell_type": "markdown",
   "metadata": {},
   "source": [
    "### 2.2. Проверка дубликатов и заполнение пропусков."
   ]
  },
  {
   "cell_type": "code",
   "execution_count": 6,
   "metadata": {},
   "outputs": [
    {
     "data": {
      "text/plain": [
       "name               2\n",
       "platform           0\n",
       "release          269\n",
       "genre              2\n",
       "na_sales           0\n",
       "eu_sales           0\n",
       "jp_sales           0\n",
       "other_sales        0\n",
       "critic_score    8578\n",
       "user_score      6701\n",
       "rating          6766\n",
       "dtype: int64"
      ]
     },
     "execution_count": 6,
     "metadata": {},
     "output_type": "execute_result"
    }
   ],
   "source": [
    "# предварительно посмотрим в каких столбцах есть пропуски и в каком количестве\n",
    "df.isna().sum()"
   ]
  },
  {
   "cell_type": "markdown",
   "metadata": {},
   "source": [
    "Как мы видим, в последних трех столбцах с оценками от покупателей, критиков и рейтингом игры присутствует довольно большое количество пропущенных значений. Удалить такое количество пропущенных значений мы не можем, т.к. это довольно сильно скажется на репрезентативности наших данных и может исказить картину, также мы не можем заполнить данные пропущенные значения на основании имеющихся данных. Соответственно мы вынуждены оставить данные пропуски как есть.\n",
    "\n",
    "Пропуски могли возникнуть в связи с тем, что:\n",
    "* данные не были полностью выгружены для анализа\n",
    "* игра была настолько не популярна, что количество ее оценок среди пользователей и/или критиков было недостаточным, чтобы попасть в глобальный рейтинг\n",
    "* возрастной рейтинг мог быть не указан либо по причине, описанной выше, либо потом, что организация, занимающаяся оценкой игр находилась на одном рынке, а игра была выпущена для другого рынка \n",
    "* также из таблицы ниже видно, что в большинстве своем пропущены оценки на портативных консолях или приставках первых поколений, т.е. пропуски могут быть связаны с тем, какие консоли более актуальны в каком регионе и насколько старые эти консоли были на момент составления рейтинга\n",
    "\n",
    "Аббревиатура tbd, как и RP, означает, что значение отсутствует. Их мы обработаем далее."
   ]
  },
  {
   "cell_type": "code",
   "execution_count": 7,
   "metadata": {},
   "outputs": [
    {
     "data": {
      "text/html": [
       "<div>\n",
       "<style scoped>\n",
       "    .dataframe tbody tr th:only-of-type {\n",
       "        vertical-align: middle;\n",
       "    }\n",
       "\n",
       "    .dataframe tbody tr th {\n",
       "        vertical-align: top;\n",
       "    }\n",
       "\n",
       "    .dataframe thead th {\n",
       "        text-align: right;\n",
       "    }\n",
       "</style>\n",
       "<table border=\"1\" class=\"dataframe\">\n",
       "  <thead>\n",
       "    <tr style=\"text-align: right;\">\n",
       "      <th></th>\n",
       "      <th>eu_sales</th>\n",
       "      <th>jp_sales</th>\n",
       "      <th>na_sales</th>\n",
       "      <th>other_sales</th>\n",
       "    </tr>\n",
       "    <tr>\n",
       "      <th>platform</th>\n",
       "      <th></th>\n",
       "      <th></th>\n",
       "      <th></th>\n",
       "      <th></th>\n",
       "    </tr>\n",
       "  </thead>\n",
       "  <tbody>\n",
       "    <tr>\n",
       "      <th>NES</th>\n",
       "      <td>0.08</td>\n",
       "      <td>0.770</td>\n",
       "      <td>0.405</td>\n",
       "      <td>0.01</td>\n",
       "    </tr>\n",
       "    <tr>\n",
       "      <th>GB</th>\n",
       "      <td>0.00</td>\n",
       "      <td>0.405</td>\n",
       "      <td>0.000</td>\n",
       "      <td>0.01</td>\n",
       "    </tr>\n",
       "    <tr>\n",
       "      <th>SNES</th>\n",
       "      <td>0.00</td>\n",
       "      <td>0.290</td>\n",
       "      <td>0.000</td>\n",
       "      <td>0.00</td>\n",
       "    </tr>\n",
       "    <tr>\n",
       "      <th>WS</th>\n",
       "      <td>0.00</td>\n",
       "      <td>0.215</td>\n",
       "      <td>0.000</td>\n",
       "      <td>0.00</td>\n",
       "    </tr>\n",
       "    <tr>\n",
       "      <th>SAT</th>\n",
       "      <td>0.00</td>\n",
       "      <td>0.120</td>\n",
       "      <td>0.000</td>\n",
       "      <td>0.00</td>\n",
       "    </tr>\n",
       "    <tr>\n",
       "      <th>NG</th>\n",
       "      <td>0.00</td>\n",
       "      <td>0.100</td>\n",
       "      <td>0.000</td>\n",
       "      <td>0.00</td>\n",
       "    </tr>\n",
       "    <tr>\n",
       "      <th>DC</th>\n",
       "      <td>0.00</td>\n",
       "      <td>0.100</td>\n",
       "      <td>0.000</td>\n",
       "      <td>0.00</td>\n",
       "    </tr>\n",
       "    <tr>\n",
       "      <th>TG16</th>\n",
       "      <td>0.00</td>\n",
       "      <td>0.080</td>\n",
       "      <td>0.000</td>\n",
       "      <td>0.00</td>\n",
       "    </tr>\n",
       "    <tr>\n",
       "      <th>GEN</th>\n",
       "      <td>0.00</td>\n",
       "      <td>0.070</td>\n",
       "      <td>0.000</td>\n",
       "      <td>0.00</td>\n",
       "    </tr>\n",
       "    <tr>\n",
       "      <th>SCD</th>\n",
       "      <td>0.00</td>\n",
       "      <td>0.065</td>\n",
       "      <td>0.000</td>\n",
       "      <td>0.00</td>\n",
       "    </tr>\n",
       "  </tbody>\n",
       "</table>\n",
       "</div>"
      ],
      "text/plain": [
       "          eu_sales  jp_sales  na_sales  other_sales\n",
       "platform                                           \n",
       "NES           0.08     0.770     0.405         0.01\n",
       "GB            0.00     0.405     0.000         0.01\n",
       "SNES          0.00     0.290     0.000         0.00\n",
       "WS            0.00     0.215     0.000         0.00\n",
       "SAT           0.00     0.120     0.000         0.00\n",
       "NG            0.00     0.100     0.000         0.00\n",
       "DC            0.00     0.100     0.000         0.00\n",
       "TG16          0.00     0.080     0.000         0.00\n",
       "GEN           0.00     0.070     0.000         0.00\n",
       "SCD           0.00     0.065     0.000         0.00"
      ]
     },
     "execution_count": 7,
     "metadata": {},
     "output_type": "execute_result"
    }
   ],
   "source": [
    "# построим таблицу с суммарными продажами по рынкам для игр с пропущенными оценками\n",
    "df[(df.rating.isna()) & \n",
    "    (df.critic_score.isna()) &\n",
    "    (df.user_score.isna())] \\\n",
    "    .pivot_table(index='platform',\n",
    "                 values=['na_sales','eu_sales', 'jp_sales', 'other_sales'],\n",
    "                 aggfunc='median') \\\n",
    "    .sort_values('jp_sales', ascending=False).head(10) #отсортируемся по медианному значению на JP рынке (на других рынка картина примерно та же)"
   ]
  },
  {
   "cell_type": "code",
   "execution_count": 8,
   "metadata": {},
   "outputs": [
    {
     "data": {
      "text/plain": [
       "0"
      ]
     },
     "execution_count": 8,
     "metadata": {},
     "output_type": "execute_result"
    }
   ],
   "source": [
    "# Проверяем датасет на наличие явных дубликатов\n",
    "df.duplicated().sum()"
   ]
  },
  {
   "cell_type": "markdown",
   "metadata": {},
   "source": [
    "Явных дубликатов в нашем датасете нет, поэтому проверим названия игр на наличие неявных дубликатов."
   ]
  },
  {
   "cell_type": "code",
   "execution_count": 9,
   "metadata": {},
   "outputs": [
    {
     "data": {
      "text/plain": [
       "Need for Speed: Most Wanted                         12\n",
       "Ratatouille                                          9\n",
       "LEGO Marvel Super Heroes                             9\n",
       "FIFA 14                                              9\n",
       "Madden NFL 07                                        9\n",
       "                                                    ..\n",
       "Jewels of the Tropical Lost Island                   1\n",
       "Sherlock Holmes and the Mystery of Osborne House     1\n",
       "The King of Fighters '95 (CD)                        1\n",
       "Megamind: Mega Team Unite                            1\n",
       "Haitaka no Psychedelica                              1\n",
       "Name: name, Length: 11559, dtype: int64"
      ]
     },
     "execution_count": 9,
     "metadata": {},
     "output_type": "execute_result"
    }
   ],
   "source": [
    "# посчитаем количество каждого уникального значения в столбце name\n",
    "df.name.value_counts()"
   ]
  },
  {
   "cell_type": "markdown",
   "metadata": {},
   "source": [
    "Как мы видим в данном столбце присутствуют повторяющиеся полностью идентичные названия игр, проверим к какой платформе и году выпуска данные игры относятся на примере 3х первых игр"
   ]
  },
  {
   "cell_type": "code",
   "execution_count": 10,
   "metadata": {},
   "outputs": [
    {
     "data": {
      "text/html": [
       "<div>\n",
       "<style scoped>\n",
       "    .dataframe tbody tr th:only-of-type {\n",
       "        vertical-align: middle;\n",
       "    }\n",
       "\n",
       "    .dataframe tbody tr th {\n",
       "        vertical-align: top;\n",
       "    }\n",
       "\n",
       "    .dataframe thead th {\n",
       "        text-align: right;\n",
       "    }\n",
       "</style>\n",
       "<table border=\"1\" class=\"dataframe\">\n",
       "  <thead>\n",
       "    <tr style=\"text-align: right;\">\n",
       "      <th></th>\n",
       "      <th>name</th>\n",
       "      <th>platform</th>\n",
       "      <th>release</th>\n",
       "      <th>genre</th>\n",
       "      <th>na_sales</th>\n",
       "      <th>eu_sales</th>\n",
       "      <th>jp_sales</th>\n",
       "      <th>other_sales</th>\n",
       "      <th>critic_score</th>\n",
       "      <th>user_score</th>\n",
       "      <th>rating</th>\n",
       "    </tr>\n",
       "  </thead>\n",
       "  <tbody>\n",
       "    <tr>\n",
       "      <th>253</th>\n",
       "      <td>Need for Speed: Most Wanted</td>\n",
       "      <td>PS2</td>\n",
       "      <td>2005.0</td>\n",
       "      <td>Racing</td>\n",
       "      <td>2.03</td>\n",
       "      <td>1.79</td>\n",
       "      <td>0.08</td>\n",
       "      <td>0.47</td>\n",
       "      <td>82.0</td>\n",
       "      <td>9.1</td>\n",
       "      <td>T</td>\n",
       "    </tr>\n",
       "    <tr>\n",
       "      <th>523</th>\n",
       "      <td>Need for Speed: Most Wanted</td>\n",
       "      <td>PS3</td>\n",
       "      <td>2012.0</td>\n",
       "      <td>Racing</td>\n",
       "      <td>0.71</td>\n",
       "      <td>1.46</td>\n",
       "      <td>0.06</td>\n",
       "      <td>0.58</td>\n",
       "      <td>NaN</td>\n",
       "      <td>NaN</td>\n",
       "      <td>NaN</td>\n",
       "    </tr>\n",
       "    <tr>\n",
       "      <th>1190</th>\n",
       "      <td>Need for Speed: Most Wanted</td>\n",
       "      <td>X360</td>\n",
       "      <td>2012.0</td>\n",
       "      <td>Racing</td>\n",
       "      <td>0.62</td>\n",
       "      <td>0.78</td>\n",
       "      <td>0.01</td>\n",
       "      <td>0.15</td>\n",
       "      <td>83.0</td>\n",
       "      <td>8.5</td>\n",
       "      <td>T</td>\n",
       "    </tr>\n",
       "    <tr>\n",
       "      <th>1591</th>\n",
       "      <td>Need for Speed: Most Wanted</td>\n",
       "      <td>X360</td>\n",
       "      <td>2005.0</td>\n",
       "      <td>Racing</td>\n",
       "      <td>1.00</td>\n",
       "      <td>0.13</td>\n",
       "      <td>0.02</td>\n",
       "      <td>0.10</td>\n",
       "      <td>83.0</td>\n",
       "      <td>8.5</td>\n",
       "      <td>T</td>\n",
       "    </tr>\n",
       "    <tr>\n",
       "      <th>1998</th>\n",
       "      <td>Need for Speed: Most Wanted</td>\n",
       "      <td>XB</td>\n",
       "      <td>2005.0</td>\n",
       "      <td>Racing</td>\n",
       "      <td>0.53</td>\n",
       "      <td>0.46</td>\n",
       "      <td>0.00</td>\n",
       "      <td>0.05</td>\n",
       "      <td>83.0</td>\n",
       "      <td>8.8</td>\n",
       "      <td>T</td>\n",
       "    </tr>\n",
       "    <tr>\n",
       "      <th>2048</th>\n",
       "      <td>Need for Speed: Most Wanted</td>\n",
       "      <td>PSV</td>\n",
       "      <td>2012.0</td>\n",
       "      <td>Racing</td>\n",
       "      <td>0.33</td>\n",
       "      <td>0.45</td>\n",
       "      <td>0.01</td>\n",
       "      <td>0.22</td>\n",
       "      <td>NaN</td>\n",
       "      <td>NaN</td>\n",
       "      <td>NaN</td>\n",
       "    </tr>\n",
       "    <tr>\n",
       "      <th>3581</th>\n",
       "      <td>Need for Speed: Most Wanted</td>\n",
       "      <td>GC</td>\n",
       "      <td>2005.0</td>\n",
       "      <td>Racing</td>\n",
       "      <td>0.43</td>\n",
       "      <td>0.11</td>\n",
       "      <td>0.00</td>\n",
       "      <td>0.02</td>\n",
       "      <td>80.0</td>\n",
       "      <td>9.1</td>\n",
       "      <td>T</td>\n",
       "    </tr>\n",
       "    <tr>\n",
       "      <th>5972</th>\n",
       "      <td>Need for Speed: Most Wanted</td>\n",
       "      <td>PC</td>\n",
       "      <td>2005.0</td>\n",
       "      <td>Racing</td>\n",
       "      <td>0.02</td>\n",
       "      <td>0.23</td>\n",
       "      <td>0.00</td>\n",
       "      <td>0.04</td>\n",
       "      <td>82.0</td>\n",
       "      <td>8.5</td>\n",
       "      <td>T</td>\n",
       "    </tr>\n",
       "    <tr>\n",
       "      <th>6273</th>\n",
       "      <td>Need for Speed: Most Wanted</td>\n",
       "      <td>WiiU</td>\n",
       "      <td>2013.0</td>\n",
       "      <td>Racing</td>\n",
       "      <td>0.13</td>\n",
       "      <td>0.12</td>\n",
       "      <td>0.00</td>\n",
       "      <td>0.02</td>\n",
       "      <td>NaN</td>\n",
       "      <td>NaN</td>\n",
       "      <td>NaN</td>\n",
       "    </tr>\n",
       "    <tr>\n",
       "      <th>6410</th>\n",
       "      <td>Need for Speed: Most Wanted</td>\n",
       "      <td>DS</td>\n",
       "      <td>2005.0</td>\n",
       "      <td>Racing</td>\n",
       "      <td>0.24</td>\n",
       "      <td>0.01</td>\n",
       "      <td>0.00</td>\n",
       "      <td>0.02</td>\n",
       "      <td>45.0</td>\n",
       "      <td>6.1</td>\n",
       "      <td>E</td>\n",
       "    </tr>\n",
       "    <tr>\n",
       "      <th>6473</th>\n",
       "      <td>Need for Speed: Most Wanted</td>\n",
       "      <td>GBA</td>\n",
       "      <td>2005.0</td>\n",
       "      <td>Racing</td>\n",
       "      <td>0.19</td>\n",
       "      <td>0.07</td>\n",
       "      <td>0.00</td>\n",
       "      <td>0.00</td>\n",
       "      <td>NaN</td>\n",
       "      <td>8.3</td>\n",
       "      <td>E</td>\n",
       "    </tr>\n",
       "    <tr>\n",
       "      <th>11715</th>\n",
       "      <td>Need for Speed: Most Wanted</td>\n",
       "      <td>PC</td>\n",
       "      <td>2012.0</td>\n",
       "      <td>Racing</td>\n",
       "      <td>0.00</td>\n",
       "      <td>0.06</td>\n",
       "      <td>0.00</td>\n",
       "      <td>0.02</td>\n",
       "      <td>82.0</td>\n",
       "      <td>8.5</td>\n",
       "      <td>T</td>\n",
       "    </tr>\n",
       "  </tbody>\n",
       "</table>\n",
       "</div>"
      ],
      "text/plain": [
       "                              name platform  release   genre  na_sales  \\\n",
       "253    Need for Speed: Most Wanted      PS2   2005.0  Racing      2.03   \n",
       "523    Need for Speed: Most Wanted      PS3   2012.0  Racing      0.71   \n",
       "1190   Need for Speed: Most Wanted     X360   2012.0  Racing      0.62   \n",
       "1591   Need for Speed: Most Wanted     X360   2005.0  Racing      1.00   \n",
       "1998   Need for Speed: Most Wanted       XB   2005.0  Racing      0.53   \n",
       "2048   Need for Speed: Most Wanted      PSV   2012.0  Racing      0.33   \n",
       "3581   Need for Speed: Most Wanted       GC   2005.0  Racing      0.43   \n",
       "5972   Need for Speed: Most Wanted       PC   2005.0  Racing      0.02   \n",
       "6273   Need for Speed: Most Wanted     WiiU   2013.0  Racing      0.13   \n",
       "6410   Need for Speed: Most Wanted       DS   2005.0  Racing      0.24   \n",
       "6473   Need for Speed: Most Wanted      GBA   2005.0  Racing      0.19   \n",
       "11715  Need for Speed: Most Wanted       PC   2012.0  Racing      0.00   \n",
       "\n",
       "       eu_sales  jp_sales  other_sales  critic_score user_score rating  \n",
       "253        1.79      0.08         0.47          82.0        9.1      T  \n",
       "523        1.46      0.06         0.58           NaN        NaN    NaN  \n",
       "1190       0.78      0.01         0.15          83.0        8.5      T  \n",
       "1591       0.13      0.02         0.10          83.0        8.5      T  \n",
       "1998       0.46      0.00         0.05          83.0        8.8      T  \n",
       "2048       0.45      0.01         0.22           NaN        NaN    NaN  \n",
       "3581       0.11      0.00         0.02          80.0        9.1      T  \n",
       "5972       0.23      0.00         0.04          82.0        8.5      T  \n",
       "6273       0.12      0.00         0.02           NaN        NaN    NaN  \n",
       "6410       0.01      0.00         0.02          45.0        6.1      E  \n",
       "6473       0.07      0.00         0.00           NaN        8.3      E  \n",
       "11715      0.06      0.00         0.02          82.0        8.5      T  "
      ]
     },
     "execution_count": 10,
     "metadata": {},
     "output_type": "execute_result"
    }
   ],
   "source": [
    "df[df.name == 'Need for Speed: Most Wanted']"
   ]
  },
  {
   "cell_type": "code",
   "execution_count": 11,
   "metadata": {},
   "outputs": [
    {
     "data": {
      "text/html": [
       "<div>\n",
       "<style scoped>\n",
       "    .dataframe tbody tr th:only-of-type {\n",
       "        vertical-align: middle;\n",
       "    }\n",
       "\n",
       "    .dataframe tbody tr th {\n",
       "        vertical-align: top;\n",
       "    }\n",
       "\n",
       "    .dataframe thead th {\n",
       "        text-align: right;\n",
       "    }\n",
       "</style>\n",
       "<table border=\"1\" class=\"dataframe\">\n",
       "  <thead>\n",
       "    <tr style=\"text-align: right;\">\n",
       "      <th></th>\n",
       "      <th>name</th>\n",
       "      <th>platform</th>\n",
       "      <th>release</th>\n",
       "      <th>genre</th>\n",
       "      <th>na_sales</th>\n",
       "      <th>eu_sales</th>\n",
       "      <th>jp_sales</th>\n",
       "      <th>other_sales</th>\n",
       "      <th>critic_score</th>\n",
       "      <th>user_score</th>\n",
       "      <th>rating</th>\n",
       "    </tr>\n",
       "  </thead>\n",
       "  <tbody>\n",
       "    <tr>\n",
       "      <th>730</th>\n",
       "      <td>LEGO Marvel Super Heroes</td>\n",
       "      <td>X360</td>\n",
       "      <td>2013.0</td>\n",
       "      <td>Action</td>\n",
       "      <td>1.24</td>\n",
       "      <td>0.79</td>\n",
       "      <td>0.00</td>\n",
       "      <td>0.19</td>\n",
       "      <td>80.0</td>\n",
       "      <td>7.6</td>\n",
       "      <td>E10+</td>\n",
       "    </tr>\n",
       "    <tr>\n",
       "      <th>945</th>\n",
       "      <td>LEGO Marvel Super Heroes</td>\n",
       "      <td>PS3</td>\n",
       "      <td>2013.0</td>\n",
       "      <td>Action</td>\n",
       "      <td>0.77</td>\n",
       "      <td>0.76</td>\n",
       "      <td>0.01</td>\n",
       "      <td>0.29</td>\n",
       "      <td>82.0</td>\n",
       "      <td>7.9</td>\n",
       "      <td>E10+</td>\n",
       "    </tr>\n",
       "    <tr>\n",
       "      <th>1139</th>\n",
       "      <td>LEGO Marvel Super Heroes</td>\n",
       "      <td>PS4</td>\n",
       "      <td>2013.0</td>\n",
       "      <td>Action</td>\n",
       "      <td>0.59</td>\n",
       "      <td>0.76</td>\n",
       "      <td>0.01</td>\n",
       "      <td>0.26</td>\n",
       "      <td>83.0</td>\n",
       "      <td>7.7</td>\n",
       "      <td>E10+</td>\n",
       "    </tr>\n",
       "    <tr>\n",
       "      <th>1959</th>\n",
       "      <td>LEGO Marvel Super Heroes</td>\n",
       "      <td>XOne</td>\n",
       "      <td>2013.0</td>\n",
       "      <td>Action</td>\n",
       "      <td>0.61</td>\n",
       "      <td>0.35</td>\n",
       "      <td>0.00</td>\n",
       "      <td>0.09</td>\n",
       "      <td>NaN</td>\n",
       "      <td>6.8</td>\n",
       "      <td>E10+</td>\n",
       "    </tr>\n",
       "    <tr>\n",
       "      <th>2313</th>\n",
       "      <td>LEGO Marvel Super Heroes</td>\n",
       "      <td>3DS</td>\n",
       "      <td>2013.0</td>\n",
       "      <td>Action</td>\n",
       "      <td>0.42</td>\n",
       "      <td>0.36</td>\n",
       "      <td>0.04</td>\n",
       "      <td>0.07</td>\n",
       "      <td>61.0</td>\n",
       "      <td>5.2</td>\n",
       "      <td>E10+</td>\n",
       "    </tr>\n",
       "    <tr>\n",
       "      <th>2778</th>\n",
       "      <td>LEGO Marvel Super Heroes</td>\n",
       "      <td>WiiU</td>\n",
       "      <td>2013.0</td>\n",
       "      <td>Action</td>\n",
       "      <td>0.31</td>\n",
       "      <td>0.35</td>\n",
       "      <td>0.02</td>\n",
       "      <td>0.06</td>\n",
       "      <td>82.0</td>\n",
       "      <td>8</td>\n",
       "      <td>E10+</td>\n",
       "    </tr>\n",
       "    <tr>\n",
       "      <th>3876</th>\n",
       "      <td>LEGO Marvel Super Heroes</td>\n",
       "      <td>PSV</td>\n",
       "      <td>2013.0</td>\n",
       "      <td>Action</td>\n",
       "      <td>0.11</td>\n",
       "      <td>0.29</td>\n",
       "      <td>0.00</td>\n",
       "      <td>0.11</td>\n",
       "      <td>NaN</td>\n",
       "      <td>NaN</td>\n",
       "      <td>NaN</td>\n",
       "    </tr>\n",
       "    <tr>\n",
       "      <th>5054</th>\n",
       "      <td>LEGO Marvel Super Heroes</td>\n",
       "      <td>DS</td>\n",
       "      <td>2013.0</td>\n",
       "      <td>Action</td>\n",
       "      <td>0.22</td>\n",
       "      <td>0.13</td>\n",
       "      <td>0.00</td>\n",
       "      <td>0.03</td>\n",
       "      <td>NaN</td>\n",
       "      <td>4.8</td>\n",
       "      <td>E10+</td>\n",
       "    </tr>\n",
       "    <tr>\n",
       "      <th>8369</th>\n",
       "      <td>LEGO Marvel Super Heroes</td>\n",
       "      <td>PC</td>\n",
       "      <td>2013.0</td>\n",
       "      <td>Action</td>\n",
       "      <td>0.04</td>\n",
       "      <td>0.12</td>\n",
       "      <td>0.00</td>\n",
       "      <td>0.01</td>\n",
       "      <td>78.0</td>\n",
       "      <td>8.1</td>\n",
       "      <td>E10+</td>\n",
       "    </tr>\n",
       "  </tbody>\n",
       "</table>\n",
       "</div>"
      ],
      "text/plain": [
       "                          name platform  release   genre  na_sales  eu_sales  \\\n",
       "730   LEGO Marvel Super Heroes     X360   2013.0  Action      1.24      0.79   \n",
       "945   LEGO Marvel Super Heroes      PS3   2013.0  Action      0.77      0.76   \n",
       "1139  LEGO Marvel Super Heroes      PS4   2013.0  Action      0.59      0.76   \n",
       "1959  LEGO Marvel Super Heroes     XOne   2013.0  Action      0.61      0.35   \n",
       "2313  LEGO Marvel Super Heroes      3DS   2013.0  Action      0.42      0.36   \n",
       "2778  LEGO Marvel Super Heroes     WiiU   2013.0  Action      0.31      0.35   \n",
       "3876  LEGO Marvel Super Heroes      PSV   2013.0  Action      0.11      0.29   \n",
       "5054  LEGO Marvel Super Heroes       DS   2013.0  Action      0.22      0.13   \n",
       "8369  LEGO Marvel Super Heroes       PC   2013.0  Action      0.04      0.12   \n",
       "\n",
       "      jp_sales  other_sales  critic_score user_score rating  \n",
       "730       0.00         0.19          80.0        7.6   E10+  \n",
       "945       0.01         0.29          82.0        7.9   E10+  \n",
       "1139      0.01         0.26          83.0        7.7   E10+  \n",
       "1959      0.00         0.09           NaN        6.8   E10+  \n",
       "2313      0.04         0.07          61.0        5.2   E10+  \n",
       "2778      0.02         0.06          82.0          8   E10+  \n",
       "3876      0.00         0.11           NaN        NaN    NaN  \n",
       "5054      0.00         0.03           NaN        4.8   E10+  \n",
       "8369      0.00         0.01          78.0        8.1   E10+  "
      ]
     },
     "execution_count": 11,
     "metadata": {},
     "output_type": "execute_result"
    }
   ],
   "source": [
    "df[df.name == 'LEGO Marvel Super Heroes']"
   ]
  },
  {
   "cell_type": "markdown",
   "metadata": {},
   "source": [
    "Как мы видим, даже в случае полного совпадения названий игр и года их выпуска они различается платформой, для которой они были выпущены. Соответственно данные строки мы не можем считать дубликатами.\n"
   ]
  },
  {
   "cell_type": "code",
   "execution_count": 12,
   "metadata": {},
   "outputs": [
    {
     "data": {
      "text/html": [
       "<div>\n",
       "<style scoped>\n",
       "    .dataframe tbody tr th:only-of-type {\n",
       "        vertical-align: middle;\n",
       "    }\n",
       "\n",
       "    .dataframe tbody tr th {\n",
       "        vertical-align: top;\n",
       "    }\n",
       "\n",
       "    .dataframe thead th {\n",
       "        text-align: right;\n",
       "    }\n",
       "</style>\n",
       "<table border=\"1\" class=\"dataframe\">\n",
       "  <thead>\n",
       "    <tr style=\"text-align: right;\">\n",
       "      <th></th>\n",
       "      <th>name</th>\n",
       "      <th>platform</th>\n",
       "      <th>release</th>\n",
       "      <th>genre</th>\n",
       "      <th>na_sales</th>\n",
       "      <th>eu_sales</th>\n",
       "      <th>jp_sales</th>\n",
       "      <th>other_sales</th>\n",
       "      <th>critic_score</th>\n",
       "      <th>user_score</th>\n",
       "      <th>rating</th>\n",
       "    </tr>\n",
       "  </thead>\n",
       "  <tbody>\n",
       "    <tr>\n",
       "      <th>604</th>\n",
       "      <td>Madden NFL 13</td>\n",
       "      <td>PS3</td>\n",
       "      <td>2012.0</td>\n",
       "      <td>Sports</td>\n",
       "      <td>2.11</td>\n",
       "      <td>0.22</td>\n",
       "      <td>0.00</td>\n",
       "      <td>0.23</td>\n",
       "      <td>83.0</td>\n",
       "      <td>5.5</td>\n",
       "      <td>E</td>\n",
       "    </tr>\n",
       "    <tr>\n",
       "      <th>659</th>\n",
       "      <td>NaN</td>\n",
       "      <td>GEN</td>\n",
       "      <td>1993.0</td>\n",
       "      <td>NaN</td>\n",
       "      <td>1.78</td>\n",
       "      <td>0.53</td>\n",
       "      <td>0.00</td>\n",
       "      <td>0.08</td>\n",
       "      <td>NaN</td>\n",
       "      <td>NaN</td>\n",
       "      <td>NaN</td>\n",
       "    </tr>\n",
       "    <tr>\n",
       "      <th>1190</th>\n",
       "      <td>Need for Speed: Most Wanted</td>\n",
       "      <td>X360</td>\n",
       "      <td>2012.0</td>\n",
       "      <td>Racing</td>\n",
       "      <td>0.62</td>\n",
       "      <td>0.78</td>\n",
       "      <td>0.01</td>\n",
       "      <td>0.15</td>\n",
       "      <td>83.0</td>\n",
       "      <td>8.5</td>\n",
       "      <td>T</td>\n",
       "    </tr>\n",
       "    <tr>\n",
       "      <th>1591</th>\n",
       "      <td>Need for Speed: Most Wanted</td>\n",
       "      <td>X360</td>\n",
       "      <td>2005.0</td>\n",
       "      <td>Racing</td>\n",
       "      <td>1.00</td>\n",
       "      <td>0.13</td>\n",
       "      <td>0.02</td>\n",
       "      <td>0.10</td>\n",
       "      <td>83.0</td>\n",
       "      <td>8.5</td>\n",
       "      <td>T</td>\n",
       "    </tr>\n",
       "    <tr>\n",
       "      <th>1745</th>\n",
       "      <td>Sonic the Hedgehog</td>\n",
       "      <td>PS3</td>\n",
       "      <td>2006.0</td>\n",
       "      <td>Platform</td>\n",
       "      <td>0.41</td>\n",
       "      <td>0.06</td>\n",
       "      <td>0.04</td>\n",
       "      <td>0.66</td>\n",
       "      <td>43.0</td>\n",
       "      <td>4.1</td>\n",
       "      <td>E10+</td>\n",
       "    </tr>\n",
       "    <tr>\n",
       "      <th>4127</th>\n",
       "      <td>Sonic the Hedgehog</td>\n",
       "      <td>PS3</td>\n",
       "      <td>NaN</td>\n",
       "      <td>Platform</td>\n",
       "      <td>0.00</td>\n",
       "      <td>0.48</td>\n",
       "      <td>0.00</td>\n",
       "      <td>0.00</td>\n",
       "      <td>43.0</td>\n",
       "      <td>4.1</td>\n",
       "      <td>E10+</td>\n",
       "    </tr>\n",
       "    <tr>\n",
       "      <th>5972</th>\n",
       "      <td>Need for Speed: Most Wanted</td>\n",
       "      <td>PC</td>\n",
       "      <td>2005.0</td>\n",
       "      <td>Racing</td>\n",
       "      <td>0.02</td>\n",
       "      <td>0.23</td>\n",
       "      <td>0.00</td>\n",
       "      <td>0.04</td>\n",
       "      <td>82.0</td>\n",
       "      <td>8.5</td>\n",
       "      <td>T</td>\n",
       "    </tr>\n",
       "    <tr>\n",
       "      <th>11715</th>\n",
       "      <td>Need for Speed: Most Wanted</td>\n",
       "      <td>PC</td>\n",
       "      <td>2012.0</td>\n",
       "      <td>Racing</td>\n",
       "      <td>0.00</td>\n",
       "      <td>0.06</td>\n",
       "      <td>0.00</td>\n",
       "      <td>0.02</td>\n",
       "      <td>82.0</td>\n",
       "      <td>8.5</td>\n",
       "      <td>T</td>\n",
       "    </tr>\n",
       "    <tr>\n",
       "      <th>14244</th>\n",
       "      <td>NaN</td>\n",
       "      <td>GEN</td>\n",
       "      <td>1993.0</td>\n",
       "      <td>NaN</td>\n",
       "      <td>0.00</td>\n",
       "      <td>0.00</td>\n",
       "      <td>0.03</td>\n",
       "      <td>0.00</td>\n",
       "      <td>NaN</td>\n",
       "      <td>NaN</td>\n",
       "      <td>NaN</td>\n",
       "    </tr>\n",
       "    <tr>\n",
       "      <th>16230</th>\n",
       "      <td>Madden NFL 13</td>\n",
       "      <td>PS3</td>\n",
       "      <td>2012.0</td>\n",
       "      <td>Sports</td>\n",
       "      <td>0.00</td>\n",
       "      <td>0.01</td>\n",
       "      <td>0.00</td>\n",
       "      <td>0.00</td>\n",
       "      <td>83.0</td>\n",
       "      <td>5.5</td>\n",
       "      <td>E</td>\n",
       "    </tr>\n",
       "  </tbody>\n",
       "</table>\n",
       "</div>"
      ],
      "text/plain": [
       "                              name platform  release     genre  na_sales  \\\n",
       "604                  Madden NFL 13      PS3   2012.0    Sports      2.11   \n",
       "659                            NaN      GEN   1993.0       NaN      1.78   \n",
       "1190   Need for Speed: Most Wanted     X360   2012.0    Racing      0.62   \n",
       "1591   Need for Speed: Most Wanted     X360   2005.0    Racing      1.00   \n",
       "1745            Sonic the Hedgehog      PS3   2006.0  Platform      0.41   \n",
       "4127            Sonic the Hedgehog      PS3      NaN  Platform      0.00   \n",
       "5972   Need for Speed: Most Wanted       PC   2005.0    Racing      0.02   \n",
       "11715  Need for Speed: Most Wanted       PC   2012.0    Racing      0.00   \n",
       "14244                          NaN      GEN   1993.0       NaN      0.00   \n",
       "16230                Madden NFL 13      PS3   2012.0    Sports      0.00   \n",
       "\n",
       "       eu_sales  jp_sales  other_sales  critic_score user_score rating  \n",
       "604        0.22      0.00         0.23          83.0        5.5      E  \n",
       "659        0.53      0.00         0.08           NaN        NaN    NaN  \n",
       "1190       0.78      0.01         0.15          83.0        8.5      T  \n",
       "1591       0.13      0.02         0.10          83.0        8.5      T  \n",
       "1745       0.06      0.04         0.66          43.0        4.1   E10+  \n",
       "4127       0.48      0.00         0.00          43.0        4.1   E10+  \n",
       "5972       0.23      0.00         0.04          82.0        8.5      T  \n",
       "11715      0.06      0.00         0.02          82.0        8.5      T  \n",
       "14244      0.00      0.03         0.00           NaN        NaN    NaN  \n",
       "16230      0.01      0.00         0.00          83.0        5.5      E  "
      ]
     },
     "execution_count": 12,
     "metadata": {},
     "output_type": "execute_result"
    }
   ],
   "source": [
    "df[df.duplicated(subset=['name', 'platform'], keep=False)]"
   ]
  },
  {
   "cell_type": "code",
   "execution_count": 13,
   "metadata": {},
   "outputs": [
    {
     "data": {
      "text/html": [
       "<style type=\"text/css\">\n",
       "#T_76ca4_row0_col0, #T_76ca4_row1_col0, #T_76ca4_row3_col0, #T_76ca4_row4_col0, #T_76ca4_row5_col0, #T_76ca4_row6_col0, #T_76ca4_row7_col0 {\n",
       "  background-color: #3b4cc0;\n",
       "  color: #f1f1f1;\n",
       "}\n",
       "#T_76ca4_row2_col0 {\n",
       "  background-color: #445acc;\n",
       "  color: #f1f1f1;\n",
       "}\n",
       "#T_76ca4_row8_col0 {\n",
       "  background-color: #b40426;\n",
       "  color: #f1f1f1;\n",
       "}\n",
       "#T_76ca4_row9_col0 {\n",
       "  background-color: #f18d6f;\n",
       "  color: #f1f1f1;\n",
       "}\n",
       "#T_76ca4_row10_col0 {\n",
       "  background-color: #f08a6c;\n",
       "  color: #f1f1f1;\n",
       "}\n",
       "</style>\n",
       "<table id=\"T_76ca4\">\n",
       "  <thead>\n",
       "    <tr>\n",
       "      <th class=\"blank level0\" >&nbsp;</th>\n",
       "      <th id=\"T_76ca4_level0_col0\" class=\"col_heading level0 col0\" >percents</th>\n",
       "    </tr>\n",
       "  </thead>\n",
       "  <tbody>\n",
       "    <tr>\n",
       "      <th id=\"T_76ca4_level0_row0\" class=\"row_heading level0 row0\" >name</th>\n",
       "      <td id=\"T_76ca4_row0_col0\" class=\"data row0 col0\" >0.010000</td>\n",
       "    </tr>\n",
       "    <tr>\n",
       "      <th id=\"T_76ca4_level0_row1\" class=\"row_heading level0 row1\" >platform</th>\n",
       "      <td id=\"T_76ca4_row1_col0\" class=\"data row1 col0\" >0.000000</td>\n",
       "    </tr>\n",
       "    <tr>\n",
       "      <th id=\"T_76ca4_level0_row2\" class=\"row_heading level0 row2\" >release</th>\n",
       "      <td id=\"T_76ca4_row2_col0\" class=\"data row2 col0\" >1.610000</td>\n",
       "    </tr>\n",
       "    <tr>\n",
       "      <th id=\"T_76ca4_level0_row3\" class=\"row_heading level0 row3\" >genre</th>\n",
       "      <td id=\"T_76ca4_row3_col0\" class=\"data row3 col0\" >0.010000</td>\n",
       "    </tr>\n",
       "    <tr>\n",
       "      <th id=\"T_76ca4_level0_row4\" class=\"row_heading level0 row4\" >na_sales</th>\n",
       "      <td id=\"T_76ca4_row4_col0\" class=\"data row4 col0\" >0.000000</td>\n",
       "    </tr>\n",
       "    <tr>\n",
       "      <th id=\"T_76ca4_level0_row5\" class=\"row_heading level0 row5\" >eu_sales</th>\n",
       "      <td id=\"T_76ca4_row5_col0\" class=\"data row5 col0\" >0.000000</td>\n",
       "    </tr>\n",
       "    <tr>\n",
       "      <th id=\"T_76ca4_level0_row6\" class=\"row_heading level0 row6\" >jp_sales</th>\n",
       "      <td id=\"T_76ca4_row6_col0\" class=\"data row6 col0\" >0.000000</td>\n",
       "    </tr>\n",
       "    <tr>\n",
       "      <th id=\"T_76ca4_level0_row7\" class=\"row_heading level0 row7\" >other_sales</th>\n",
       "      <td id=\"T_76ca4_row7_col0\" class=\"data row7 col0\" >0.000000</td>\n",
       "    </tr>\n",
       "    <tr>\n",
       "      <th id=\"T_76ca4_level0_row8\" class=\"row_heading level0 row8\" >critic_score</th>\n",
       "      <td id=\"T_76ca4_row8_col0\" class=\"data row8 col0\" >51.320000</td>\n",
       "    </tr>\n",
       "    <tr>\n",
       "      <th id=\"T_76ca4_level0_row9\" class=\"row_heading level0 row9\" >user_score</th>\n",
       "      <td id=\"T_76ca4_row9_col0\" class=\"data row9 col0\" >40.090000</td>\n",
       "    </tr>\n",
       "    <tr>\n",
       "      <th id=\"T_76ca4_level0_row10\" class=\"row_heading level0 row10\" >rating</th>\n",
       "      <td id=\"T_76ca4_row10_col0\" class=\"data row10 col0\" >40.480000</td>\n",
       "    </tr>\n",
       "  </tbody>\n",
       "</table>\n"
      ],
      "text/plain": [
       "<pandas.io.formats.style.Styler at 0x1c0fa7ca5b0>"
      ]
     },
     "execution_count": 13,
     "metadata": {},
     "output_type": "execute_result"
    }
   ],
   "source": [
    "# вычисляем какой процент пропуски в столбах составляют от общего кол-ва:\n",
    "pd.DataFrame(round((df.isna().mean()*100),2)).rename(columns={0:'percents'}).style.background_gradient('coolwarm')"
   ]
  },
  {
   "cell_type": "markdown",
   "metadata": {},
   "source": [
    "Т.к. пропущенных значений в столбце чуть больше release 1.5% от общего количества, а в столбце name менее 0.01%, считаю допустимым исключить данные значения из дальнейшего анализа, т.к. в противном случае данные пропуски не дадут привести столбец release к числовому формату и будут давать шум при дальнейшем анализе.\n",
    "\n",
    "Данные изменения мы сохраним в другую переменную, чтобы не менять изначальный датасет. С новой переменной в дальнейшем и будем работать."
   ]
  },
  {
   "cell_type": "markdown",
   "metadata": {},
   "source": [
    "Прежде, чем удалить игры, у которых отсутствует значение в столбце release, посмотрим какие значения преобладают в этих данных.\n"
   ]
  },
  {
   "cell_type": "code",
   "execution_count": 14,
   "metadata": {},
   "outputs": [
    {
     "data": {
      "text/html": [
       "<div>\n",
       "<style scoped>\n",
       "    .dataframe tbody tr th:only-of-type {\n",
       "        vertical-align: middle;\n",
       "    }\n",
       "\n",
       "    .dataframe tbody tr th {\n",
       "        vertical-align: top;\n",
       "    }\n",
       "\n",
       "    .dataframe thead th {\n",
       "        text-align: right;\n",
       "    }\n",
       "</style>\n",
       "<table border=\"1\" class=\"dataframe\">\n",
       "  <thead>\n",
       "    <tr style=\"text-align: right;\">\n",
       "      <th></th>\n",
       "      <th>release</th>\n",
       "      <th>na_sales</th>\n",
       "      <th>eu_sales</th>\n",
       "      <th>jp_sales</th>\n",
       "      <th>other_sales</th>\n",
       "      <th>critic_score</th>\n",
       "    </tr>\n",
       "  </thead>\n",
       "  <tbody>\n",
       "    <tr>\n",
       "      <th>count</th>\n",
       "      <td>0.0</td>\n",
       "      <td>269.000000</td>\n",
       "      <td>269.000000</td>\n",
       "      <td>269.000000</td>\n",
       "      <td>269.000000</td>\n",
       "      <td>154.000000</td>\n",
       "    </tr>\n",
       "    <tr>\n",
       "      <th>mean</th>\n",
       "      <td>NaN</td>\n",
       "      <td>0.219888</td>\n",
       "      <td>0.090929</td>\n",
       "      <td>0.024907</td>\n",
       "      <td>0.032007</td>\n",
       "      <td>67.584416</td>\n",
       "    </tr>\n",
       "    <tr>\n",
       "      <th>std</th>\n",
       "      <td>NaN</td>\n",
       "      <td>0.424907</td>\n",
       "      <td>0.207933</td>\n",
       "      <td>0.090160</td>\n",
       "      <td>0.075546</td>\n",
       "      <td>14.828740</td>\n",
       "    </tr>\n",
       "    <tr>\n",
       "      <th>min</th>\n",
       "      <td>NaN</td>\n",
       "      <td>0.000000</td>\n",
       "      <td>0.000000</td>\n",
       "      <td>0.000000</td>\n",
       "      <td>0.000000</td>\n",
       "      <td>22.000000</td>\n",
       "    </tr>\n",
       "    <tr>\n",
       "      <th>25%</th>\n",
       "      <td>NaN</td>\n",
       "      <td>0.010000</td>\n",
       "      <td>0.000000</td>\n",
       "      <td>0.000000</td>\n",
       "      <td>0.000000</td>\n",
       "      <td>57.000000</td>\n",
       "    </tr>\n",
       "    <tr>\n",
       "      <th>50%</th>\n",
       "      <td>NaN</td>\n",
       "      <td>0.090000</td>\n",
       "      <td>0.020000</td>\n",
       "      <td>0.000000</td>\n",
       "      <td>0.010000</td>\n",
       "      <td>70.000000</td>\n",
       "    </tr>\n",
       "    <tr>\n",
       "      <th>75%</th>\n",
       "      <td>NaN</td>\n",
       "      <td>0.240000</td>\n",
       "      <td>0.100000</td>\n",
       "      <td>0.000000</td>\n",
       "      <td>0.030000</td>\n",
       "      <td>78.000000</td>\n",
       "    </tr>\n",
       "    <tr>\n",
       "      <th>max</th>\n",
       "      <td>NaN</td>\n",
       "      <td>4.260000</td>\n",
       "      <td>2.360000</td>\n",
       "      <td>0.770000</td>\n",
       "      <td>0.710000</td>\n",
       "      <td>94.000000</td>\n",
       "    </tr>\n",
       "  </tbody>\n",
       "</table>\n",
       "</div>"
      ],
      "text/plain": [
       "       release    na_sales    eu_sales    jp_sales  other_sales  critic_score\n",
       "count      0.0  269.000000  269.000000  269.000000   269.000000    154.000000\n",
       "mean       NaN    0.219888    0.090929    0.024907     0.032007     67.584416\n",
       "std        NaN    0.424907    0.207933    0.090160     0.075546     14.828740\n",
       "min        NaN    0.000000    0.000000    0.000000     0.000000     22.000000\n",
       "25%        NaN    0.010000    0.000000    0.000000     0.000000     57.000000\n",
       "50%        NaN    0.090000    0.020000    0.000000     0.010000     70.000000\n",
       "75%        NaN    0.240000    0.100000    0.000000     0.030000     78.000000\n",
       "max        NaN    4.260000    2.360000    0.770000     0.710000     94.000000"
      ]
     },
     "execution_count": 14,
     "metadata": {},
     "output_type": "execute_result"
    }
   ],
   "source": [
    "df[df.release.isna()].describe()"
   ]
  },
  {
   "cell_type": "markdown",
   "metadata": {},
   "source": [
    "Как мы видим, большая часть игр, которая не имеет года выпуска, имеет в основном низкие продажи на всех рынках. Соответственно удаление этих данных с учетом их небольшого количества относительно общего количества позиций в датасете не должно сильно повлиять на общую картину наших данных"
   ]
  },
  {
   "cell_type": "code",
   "execution_count": 15,
   "metadata": {},
   "outputs": [
    {
     "data": {
      "text/plain": [
       "(16444, 11)"
      ]
     },
     "execution_count": 15,
     "metadata": {},
     "output_type": "execute_result"
    }
   ],
   "source": [
    "# исключаем пропущенные значения столбца release из датасета\n",
    "good_df = df[(df.release.notna()) & (df.name.notna())]\n",
    "# проверяем изменилось ли количество строк\n",
    "good_df.shape"
   ]
  },
  {
   "cell_type": "code",
   "execution_count": 16,
   "metadata": {},
   "outputs": [
    {
     "data": {
      "text/plain": [
       "array(['E', nan, 'M', 'T', 'E10+', 'K-A', 'AO', 'EC', 'RP'], dtype=object)"
      ]
     },
     "execution_count": 16,
     "metadata": {},
     "output_type": "execute_result"
    }
   ],
   "source": [
    "good_df.rating.unique()"
   ]
  },
  {
   "cell_type": "markdown",
   "metadata": {},
   "source": [
    "Аббревиатура tbd расшифровывается как To Be Determined или проще говоря - \"Будет определено\". Т.е. в контексте данной задачи это означает, что значение также отсутствует на момент анализа, как и в том случае, если указано NaN.\n"
   ]
  },
  {
   "cell_type": "code",
   "execution_count": 17,
   "metadata": {},
   "outputs": [
    {
     "data": {
      "text/plain": [
       "40.01"
      ]
     },
     "execution_count": 17,
     "metadata": {},
     "output_type": "execute_result"
    }
   ],
   "source": [
    "# Проверяем в каком проценте строк от общего количества пропущены значения во всех трех последних столбцах.\n",
    "round(good_df[(good_df.critic_score.isna()) & \\\n",
    "        ((good_df.user_score.isna()) | \\\n",
    "         (good_df.user_score == 'tbd')) & (good_df.rating.isna())] \\\n",
    "        .shape[0] / good_df.name.count() * 100, 2)\n"
   ]
  },
  {
   "cell_type": "code",
   "execution_count": 18,
   "metadata": {},
   "outputs": [
    {
     "data": {
      "text/html": [
       "<div>\n",
       "<style scoped>\n",
       "    .dataframe tbody tr th:only-of-type {\n",
       "        vertical-align: middle;\n",
       "    }\n",
       "\n",
       "    .dataframe tbody tr th {\n",
       "        vertical-align: top;\n",
       "    }\n",
       "\n",
       "    .dataframe thead th {\n",
       "        text-align: right;\n",
       "    }\n",
       "</style>\n",
       "<table border=\"1\" class=\"dataframe\">\n",
       "  <thead>\n",
       "    <tr style=\"text-align: right;\">\n",
       "      <th></th>\n",
       "      <th>name</th>\n",
       "      <th>platform</th>\n",
       "      <th>release</th>\n",
       "      <th>genre</th>\n",
       "      <th>na_sales</th>\n",
       "      <th>eu_sales</th>\n",
       "      <th>jp_sales</th>\n",
       "      <th>other_sales</th>\n",
       "      <th>critic_score</th>\n",
       "      <th>user_score</th>\n",
       "      <th>rating</th>\n",
       "    </tr>\n",
       "  </thead>\n",
       "  <tbody>\n",
       "  </tbody>\n",
       "</table>\n",
       "</div>"
      ],
      "text/plain": [
       "Empty DataFrame\n",
       "Columns: [name, platform, release, genre, na_sales, eu_sales, jp_sales, other_sales, critic_score, user_score, rating]\n",
       "Index: []"
      ]
     },
     "execution_count": 18,
     "metadata": {},
     "output_type": "execute_result"
    }
   ],
   "source": [
    "# заменим данные значения также на NaN для дальнейшего удобства обработки\n",
    "good_df.loc[good_df['user_score'] == 'tbd', 'user_score'] = np.nan\n",
    "# проверим удачно ли прошла замена\n",
    "good_df[good_df['user_score'] == 'tbd']"
   ]
  },
  {
   "cell_type": "markdown",
   "metadata": {},
   "source": [
    "Мы не можем исключить настолько большое количество пропусков и также не можем заполнить их на основании каких-либо других значений. Поэтому на данном этапе оставим их как есть."
   ]
  },
  {
   "cell_type": "markdown",
   "metadata": {},
   "source": [
    "### 2.3. Предварительный подсчет и категоризация данных."
   ]
  },
  {
   "cell_type": "markdown",
   "metadata": {},
   "source": [
    "В столбце rating данные указаны в абсолютно не репрезентативном виде. Для большей наглядности и лучшего понимания переведем их из шкалы ESRB в шкалу PEGI с прямым указанием возраста. Аббревиатура RP расшифровывается как \"Rating Pending\", т.е. \"Рейтинг ожидается\", поэтому данные значения также отнесем к категории неопознанных значений. Исходя из этого будем считать, что во всех строках, где указано RP или NaN рейтинг игры не определен"
   ]
  },
  {
   "cell_type": "code",
   "execution_count": 19,
   "metadata": {},
   "outputs": [],
   "source": [
    "# создадим функцию, которая выполнит переименование обозначений.\n",
    "def change_rating(row):\n",
    "    try:\n",
    "        if row.rating == 'EC':\n",
    "            return '3+'\n",
    "        elif row.rating == 'E' or row.rating == 'K-A':\n",
    "            return '6+'\n",
    "        elif row.rating == 'E10+':\n",
    "            return '10+'\n",
    "        elif row.rating == 'T':\n",
    "            return '13+'\n",
    "        elif row.rating == 'M':\n",
    "            return '17+'\n",
    "        elif row.rating == 'AO':\n",
    "            return '18+'\n",
    "        else:\n",
    "            return 'Рейтинг не определен'\n",
    "    except:\n",
    "        return 'Ошибка переименования'\n",
    "# применим данную функцию к новому столбцу, в котором и запишем новое обозначение рейтинга\n",
    "good_df['age_rating'] = good_df.apply(change_rating, axis=1)"
   ]
  },
  {
   "cell_type": "code",
   "execution_count": 20,
   "metadata": {},
   "outputs": [
    {
     "data": {
      "text/plain": [
       "array(['6+', 'Рейтинг не определен', '17+', '13+', '10+', '18+', '3+'],\n",
       "      dtype=object)"
      ]
     },
     "execution_count": 20,
     "metadata": {},
     "output_type": "execute_result"
    }
   ],
   "source": [
    "# проверяем удачно ли присвоились все значения и не сработал ли except\n",
    "good_df.age_rating.unique()"
   ]
  },
  {
   "cell_type": "markdown",
   "metadata": {},
   "source": [
    "Посчитаем общую сумму продаж по всем регионам для каждой игры и запишем ее в отдельный столбец"
   ]
  },
  {
   "cell_type": "code",
   "execution_count": 21,
   "metadata": {
    "scrolled": true
   },
   "outputs": [
    {
     "data": {
      "text/html": [
       "<div>\n",
       "<style scoped>\n",
       "    .dataframe tbody tr th:only-of-type {\n",
       "        vertical-align: middle;\n",
       "    }\n",
       "\n",
       "    .dataframe tbody tr th {\n",
       "        vertical-align: top;\n",
       "    }\n",
       "\n",
       "    .dataframe thead th {\n",
       "        text-align: right;\n",
       "    }\n",
       "</style>\n",
       "<table border=\"1\" class=\"dataframe\">\n",
       "  <thead>\n",
       "    <tr style=\"text-align: right;\">\n",
       "      <th></th>\n",
       "      <th>name</th>\n",
       "      <th>platform</th>\n",
       "      <th>release</th>\n",
       "      <th>genre</th>\n",
       "      <th>na_sales</th>\n",
       "      <th>eu_sales</th>\n",
       "      <th>jp_sales</th>\n",
       "      <th>other_sales</th>\n",
       "      <th>critic_score</th>\n",
       "      <th>user_score</th>\n",
       "      <th>rating</th>\n",
       "      <th>age_rating</th>\n",
       "      <th>total_sales</th>\n",
       "    </tr>\n",
       "  </thead>\n",
       "  <tbody>\n",
       "    <tr>\n",
       "      <th>0</th>\n",
       "      <td>Wii Sports</td>\n",
       "      <td>Wii</td>\n",
       "      <td>2006.0</td>\n",
       "      <td>Sports</td>\n",
       "      <td>41.36</td>\n",
       "      <td>28.96</td>\n",
       "      <td>3.77</td>\n",
       "      <td>8.45</td>\n",
       "      <td>76.0</td>\n",
       "      <td>8</td>\n",
       "      <td>E</td>\n",
       "      <td>6+</td>\n",
       "      <td>82.54</td>\n",
       "    </tr>\n",
       "  </tbody>\n",
       "</table>\n",
       "</div>"
      ],
      "text/plain": [
       "         name platform  release   genre  na_sales  eu_sales  jp_sales  \\\n",
       "0  Wii Sports      Wii   2006.0  Sports     41.36     28.96      3.77   \n",
       "\n",
       "   other_sales  critic_score user_score rating age_rating  total_sales  \n",
       "0         8.45          76.0          8      E         6+        82.54  "
      ]
     },
     "execution_count": 21,
     "metadata": {},
     "output_type": "execute_result"
    }
   ],
   "source": [
    "good_df['total_sales'] = good_df[['na_sales','eu_sales','jp_sales', 'other_sales']].sum(axis='columns')\n",
    "# проверим удачно ли прошли изменения\n",
    "good_df.head(1)"
   ]
  },
  {
   "cell_type": "markdown",
   "metadata": {},
   "source": [
    "### 2.4. Изменение типов данных столбцов."
   ]
  },
  {
   "cell_type": "markdown",
   "metadata": {},
   "source": [
    "Для дальнейшего удобства при обработке мы можем изменить формат нескольких столбцов"
   ]
  },
  {
   "cell_type": "code",
   "execution_count": 22,
   "metadata": {
    "scrolled": false
   },
   "outputs": [],
   "source": [
    "good_df.release = good_df.release.astype('int')\n",
    "good_df.user_score = good_df.user_score.astype('float')"
   ]
  },
  {
   "cell_type": "code",
   "execution_count": 23,
   "metadata": {
    "scrolled": false
   },
   "outputs": [
    {
     "data": {
      "text/plain": [
       "name             object\n",
       "platform         object\n",
       "release           int32\n",
       "genre            object\n",
       "na_sales        float64\n",
       "eu_sales        float64\n",
       "jp_sales        float64\n",
       "other_sales     float64\n",
       "critic_score    float64\n",
       "user_score      float64\n",
       "rating           object\n",
       "age_rating       object\n",
       "total_sales     float64\n",
       "dtype: object"
      ]
     },
     "execution_count": 23,
     "metadata": {},
     "output_type": "execute_result"
    }
   ],
   "source": [
    "# проверяем удачно ли прошли изменения\n",
    "good_df.dtypes"
   ]
  },
  {
   "cell_type": "markdown",
   "metadata": {},
   "source": [
    "**Вывод:** В результате предобработки данных нам удалось:\n",
    "        \n",
    "* избавиться от пропущенных значений в столбцах name и release, т.к. количество пропусков было незначительным\n",
    "* убрать текстовое обозначение пропущенных значений в столбцах user_score и rating, т.к. пропуски обозначались строчным типом данных в столдце, где все остальные значения вещественные (user_score)\n",
    "* избавиться от дубликатов в столбце rating\n",
    "* после вышеуказанных преобразований мы смогли перевести столбец release в тип данных int64, а столбец user_score в тип данных float64, что в дальнейшем облегчит работу с этими данными.\n",
    "* был создан столбец с более репрезантативным обозначением возрастного рейтинга игр\n",
    "* был создан столбец с суммой продаж конкретной игры по всем регионам\n",
    "\n",
    "Данные неявные дубликаты могли возникнуть в результате человеческой ошибки - один и тот же возрастной рейтинг обозначен по-разному. Пропуски могли возникнуть в результате как человеческой ошибки, так и не корректной выгрузки данных из БД. То, что информация вообще отсутствует по некоторым играм тоже допускается, но маловероятно."
   ]
  },
  {
   "cell_type": "markdown",
   "metadata": {},
   "source": [
    "<a id='section3'></a>\n",
    "## 3. Исследовательский анализ данных."
   ]
  },
  {
   "cell_type": "markdown",
   "metadata": {},
   "source": [
    "### 3.1. Изменение количества игр по годам."
   ]
  },
  {
   "cell_type": "markdown",
   "metadata": {},
   "source": [
    "Посмотрим как изменялось количество выпускаемых игр по годам"
   ]
  },
  {
   "cell_type": "code",
   "execution_count": 24,
   "metadata": {},
   "outputs": [
    {
     "data": {
      "image/png": "[encoded data removed]",
      "text/plain": [
       "<Figure size 1296x432 with 1 Axes>"
      ]
     },
     "metadata": {
      "needs_background": "light"
     },
     "output_type": "display_data"
    }
   ],
   "source": [
    "# сгруппируем данные по годам и построим для наглядности график выхода игр\n",
    "good_df.groupby('release').release.count().plot(kind='bar', \n",
    "                                                figsize=(18,6), \n",
    "                                                xlabel='Год', \n",
    "                                                ylabel='Количество игр', \n",
    "                                                rot=45, \n",
    "                                                title='Количество вышедших игр по годам');\n"
   ]
  },
  {
   "cell_type": "code",
   "execution_count": 25,
   "metadata": {},
   "outputs": [
    {
     "data": {
      "text/plain": [
       "count    16444.000000\n",
       "mean      2006.486256\n",
       "std          5.875525\n",
       "min       1980.000000\n",
       "25%       2003.000000\n",
       "50%       2007.000000\n",
       "75%       2010.000000\n",
       "max       2016.000000\n",
       "Name: release, dtype: float64"
      ]
     },
     "execution_count": 25,
     "metadata": {},
     "output_type": "execute_result"
    }
   ],
   "source": [
    "good_df.release.describe()"
   ]
  },
  {
   "cell_type": "markdown",
   "metadata": {},
   "source": [
    "Исходя из графика и таблицы распределения активность игроделов начала расти с 1993 года. Пик ее наступил в 2008 - 2009 годах, а в 2012 году произошел резкий спад. Далее посмотрим с чем это может быть связано. Что послужило причиной таких скачков на графике мы разберемся далее."
   ]
  },
  {
   "cell_type": "markdown",
   "metadata": {},
   "source": [
    "### 3.2. Изменение продаж по платформам."
   ]
  },
  {
   "cell_type": "code",
   "execution_count": 26,
   "metadata": {},
   "outputs": [
    {
     "data": {
      "text/html": [
       "<div>\n",
       "<style scoped>\n",
       "    .dataframe tbody tr th:only-of-type {\n",
       "        vertical-align: middle;\n",
       "    }\n",
       "\n",
       "    .dataframe tbody tr th {\n",
       "        vertical-align: top;\n",
       "    }\n",
       "\n",
       "    .dataframe thead th {\n",
       "        text-align: right;\n",
       "    }\n",
       "</style>\n",
       "<table border=\"1\" class=\"dataframe\">\n",
       "  <thead>\n",
       "    <tr style=\"text-align: right;\">\n",
       "      <th></th>\n",
       "      <th>total_sales</th>\n",
       "    </tr>\n",
       "    <tr>\n",
       "      <th>platform</th>\n",
       "      <th></th>\n",
       "    </tr>\n",
       "  </thead>\n",
       "  <tbody>\n",
       "    <tr>\n",
       "      <th>PS2</th>\n",
       "      <td>1233.56</td>\n",
       "    </tr>\n",
       "    <tr>\n",
       "      <th>X360</th>\n",
       "      <td>961.24</td>\n",
       "    </tr>\n",
       "    <tr>\n",
       "      <th>PS3</th>\n",
       "      <td>931.34</td>\n",
       "    </tr>\n",
       "    <tr>\n",
       "      <th>Wii</th>\n",
       "      <td>891.18</td>\n",
       "    </tr>\n",
       "    <tr>\n",
       "      <th>DS</th>\n",
       "      <td>802.78</td>\n",
       "    </tr>\n",
       "    <tr>\n",
       "      <th>PS</th>\n",
       "      <td>727.58</td>\n",
       "    </tr>\n",
       "    <tr>\n",
       "      <th>PS4</th>\n",
       "      <td>314.14</td>\n",
       "    </tr>\n",
       "    <tr>\n",
       "      <th>GBA</th>\n",
       "      <td>312.88</td>\n",
       "    </tr>\n",
       "    <tr>\n",
       "      <th>PSP</th>\n",
       "      <td>289.53</td>\n",
       "    </tr>\n",
       "    <tr>\n",
       "      <th>3DS</th>\n",
       "      <td>257.81</td>\n",
       "    </tr>\n",
       "  </tbody>\n",
       "</table>\n",
       "</div>"
      ],
      "text/plain": [
       "          total_sales\n",
       "platform             \n",
       "PS2           1233.56\n",
       "X360           961.24\n",
       "PS3            931.34\n",
       "Wii            891.18\n",
       "DS             802.78\n",
       "PS             727.58\n",
       "PS4            314.14\n",
       "GBA            312.88\n",
       "PSP            289.53\n",
       "3DS            257.81"
      ]
     },
     "execution_count": 26,
     "metadata": {},
     "output_type": "execute_result"
    }
   ],
   "source": [
    "# выведем топ10 платформ по продажам за весь период и сохраним их в переменную\n",
    "top_platforms = good_df.groupby('platform').agg({'total_sales':'sum'}).sort_values('total_sales', ascending=False).head(10)\n",
    "top_platforms"
   ]
  },
  {
   "cell_type": "code",
   "execution_count": 27,
   "metadata": {},
   "outputs": [
    {
     "data": {
      "image/png": "[encoded data removed]",
      "text/plain": [
       "<Figure size 1296x576 with 1 Axes>"
      ]
     },
     "metadata": {
      "needs_background": "light"
     },
     "output_type": "display_data"
    }
   ],
   "source": [
    "# построим график распределения общих прибылей для топ6 платформ из таблицы выше\n",
    "fig,ax = plt.subplots()\n",
    "\n",
    "for i in top_platforms.index[:6].tolist():\n",
    "    ax.plot(good_df[good_df['platform'] == i].pivot_table(index='release',values='total_sales'), label=i )\n",
    "\n",
    "ax.legend(loc='upper left')\n",
    "ax.set_xlabel('Год')\n",
    "ax.set_ylabel('Продано копий, млн')\n",
    "ax.set_title('Продажи по платформам по отношению к годам')\n",
    "ax.grid(True)\n",
    "fig.set_figheight(8)\n",
    "fig.set_figwidth(18)"
   ]
  },
  {
   "cell_type": "code",
   "execution_count": 28,
   "metadata": {},
   "outputs": [
    {
     "data": {
      "image/png": "[encoded data removed]",
      "text/plain": [
       "<Figure size 432x288 with 1 Axes>"
      ]
     },
     "metadata": {
      "needs_background": "light"
     },
     "output_type": "display_data"
    }
   ],
   "source": [
    "fig,ax = plt.subplots()\n",
    "\n",
    "ax.plot(good_df[good_df['platform'] == 'DS'].pivot_table(index='release',values='total_sales', aggfunc='count'), label='ds' );\n"
   ]
  },
  {
   "cell_type": "markdown",
   "metadata": {},
   "source": [
    "Из таблицы выше следует, что средний цикл жизни каждой платформы составляет примерно 10 лет. За исключением платформы \"DS\" - ее жизненный цикл, исходя из графика, составил более 25 лет. Как раз в 2012-2013 годах закончился жизненный цикл платформ PS2 и DS, что и могло привести к такому резкому спаду выпускаемых игры на графике предыдущего раздела."
   ]
  },
  {
   "cell_type": "markdown",
   "metadata": {},
   "source": [
    "### 3.3. Выбор актуального периода и определение лидирующих платформ в данном периоде."
   ]
  },
  {
   "cell_type": "markdown",
   "metadata": {},
   "source": [
    "Исходя из распределений обоих графиков выше считаю, что за актуальный период можно брать период с 2012 года включительно и позднее. Но данные за 2016й год представлены не полностью, поэтому считаю стоит посмотреть меняет ли включение их в выборку общую картину"
   ]
  },
  {
   "cell_type": "code",
   "execution_count": 29,
   "metadata": {},
   "outputs": [
    {
     "data": {
      "text/plain": [
       "(2384, 13)"
      ]
     },
     "execution_count": 29,
     "metadata": {},
     "output_type": "execute_result"
    }
   ],
   "source": [
    "# оставляем все строки с играми, которые были выпущены в период с 2012 года и до 2015 год включительно\n",
    "actual_df_2015 = good_df[(good_df['release'] >= 2012) & (good_df['release'] < 2016)]\n",
    "actual_df_2015.shape"
   ]
  },
  {
   "cell_type": "code",
   "execution_count": 30,
   "metadata": {},
   "outputs": [
    {
     "data": {
      "text/plain": [
       "(2886, 13)"
      ]
     },
     "execution_count": 30,
     "metadata": {},
     "output_type": "execute_result"
    }
   ],
   "source": [
    "# отсекаем все строки с играми, которые были выпущены ранее 2012 года\n",
    "actual_df_2016 = good_df[good_df['release'] >= 2012]\n",
    "actual_df_2016.shape"
   ]
  },
  {
   "cell_type": "code",
   "execution_count": 31,
   "metadata": {},
   "outputs": [
    {
     "data": {
      "text/html": [
       "<div>\n",
       "<style scoped>\n",
       "    .dataframe tbody tr th:only-of-type {\n",
       "        vertical-align: middle;\n",
       "    }\n",
       "\n",
       "    .dataframe tbody tr th {\n",
       "        vertical-align: top;\n",
       "    }\n",
       "\n",
       "    .dataframe thead th {\n",
       "        text-align: right;\n",
       "    }\n",
       "</style>\n",
       "<table border=\"1\" class=\"dataframe\">\n",
       "  <thead>\n",
       "    <tr style=\"text-align: right;\">\n",
       "      <th></th>\n",
       "      <th>sales_2015</th>\n",
       "    </tr>\n",
       "    <tr>\n",
       "      <th>platform</th>\n",
       "      <th></th>\n",
       "    </tr>\n",
       "  </thead>\n",
       "  <tbody>\n",
       "    <tr>\n",
       "      <th>PS3</th>\n",
       "      <td>285.19</td>\n",
       "    </tr>\n",
       "    <tr>\n",
       "      <th>PS4</th>\n",
       "      <td>244.89</td>\n",
       "    </tr>\n",
       "    <tr>\n",
       "      <th>X360</th>\n",
       "      <td>235.02</td>\n",
       "    </tr>\n",
       "    <tr>\n",
       "      <th>3DS</th>\n",
       "      <td>179.47</td>\n",
       "    </tr>\n",
       "    <tr>\n",
       "      <th>XOne</th>\n",
       "      <td>133.17</td>\n",
       "    </tr>\n",
       "  </tbody>\n",
       "</table>\n",
       "</div>"
      ],
      "text/plain": [
       "          sales_2015\n",
       "platform            \n",
       "PS3           285.19\n",
       "PS4           244.89\n",
       "X360          235.02\n",
       "3DS           179.47\n",
       "XOne          133.17"
      ]
     },
     "execution_count": 31,
     "metadata": {},
     "output_type": "execute_result"
    }
   ],
   "source": [
    "# выведем топ5 лидирующих по продажам платформ актуального периода 2012 - 2015\n",
    "df_2015 = actual_df_2015.groupby('platform').agg({'total_sales':'sum'}) \\\n",
    "                                  .sort_values('total_sales', ascending=False) \\\n",
    "                                  .rename(columns={'total_sales':'sales_2015'}).head()\n",
    "df_2015"
   ]
  },
  {
   "cell_type": "code",
   "execution_count": 32,
   "metadata": {},
   "outputs": [
    {
     "data": {
      "text/html": [
       "<div>\n",
       "<style scoped>\n",
       "    .dataframe tbody tr th:only-of-type {\n",
       "        vertical-align: middle;\n",
       "    }\n",
       "\n",
       "    .dataframe tbody tr th {\n",
       "        vertical-align: top;\n",
       "    }\n",
       "\n",
       "    .dataframe thead th {\n",
       "        text-align: right;\n",
       "    }\n",
       "</style>\n",
       "<table border=\"1\" class=\"dataframe\">\n",
       "  <thead>\n",
       "    <tr style=\"text-align: right;\">\n",
       "      <th></th>\n",
       "      <th>sales_2016</th>\n",
       "    </tr>\n",
       "    <tr>\n",
       "      <th>platform</th>\n",
       "      <th></th>\n",
       "    </tr>\n",
       "  </thead>\n",
       "  <tbody>\n",
       "    <tr>\n",
       "      <th>PS4</th>\n",
       "      <td>314.14</td>\n",
       "    </tr>\n",
       "    <tr>\n",
       "      <th>PS3</th>\n",
       "      <td>288.79</td>\n",
       "    </tr>\n",
       "    <tr>\n",
       "      <th>X360</th>\n",
       "      <td>236.54</td>\n",
       "    </tr>\n",
       "    <tr>\n",
       "      <th>3DS</th>\n",
       "      <td>194.61</td>\n",
       "    </tr>\n",
       "    <tr>\n",
       "      <th>XOne</th>\n",
       "      <td>159.32</td>\n",
       "    </tr>\n",
       "  </tbody>\n",
       "</table>\n",
       "</div>"
      ],
      "text/plain": [
       "          sales_2016\n",
       "platform            \n",
       "PS4           314.14\n",
       "PS3           288.79\n",
       "X360          236.54\n",
       "3DS           194.61\n",
       "XOne          159.32"
      ]
     },
     "execution_count": 32,
     "metadata": {},
     "output_type": "execute_result"
    }
   ],
   "source": [
    "# выведем топ5 лидирующих по продажам платформ актуального периода 2012 - 2016\n",
    "df_2016 = actual_df_2016.groupby('platform').agg({'total_sales':'sum'}) \\\n",
    "                                  .sort_values('total_sales', ascending=False) \\\n",
    "                                  .rename(columns={'total_sales':'sales_2016'}).head()\n",
    "df_2016"
   ]
  },
  {
   "cell_type": "code",
   "execution_count": 33,
   "metadata": {},
   "outputs": [
    {
     "data": {
      "image/png": "[encoded data removed]",
      "text/plain": [
       "<Figure size 1296x432 with 1 Axes>"
      ]
     },
     "metadata": {
      "needs_background": "light"
     },
     "output_type": "display_data"
    },
    {
     "data": {
      "image/png": "[encoded data removed]",
      "text/plain": [
       "<Figure size 1296x432 with 1 Axes>"
      ]
     },
     "metadata": {
      "needs_background": "light"
     },
     "output_type": "display_data"
    }
   ],
   "source": [
    "# на основе обеих таблиц сделаем графики, отображающие распределение продаж по годам в обоих вариантах,\n",
    "# чтобы можно было выбрать наиболее оптимальный вариант\n",
    "# график по данным периода 2012 - 2015\n",
    "fig,ax = plt.subplots()\n",
    "\n",
    "for i in df_2015.index[:6].tolist():\n",
    "    ax.plot(actual_df_2015[actual_df_2015['platform'] == i].pivot_table(index='release',values='total_sales'), label=i)\n",
    "\n",
    "    ax.legend(loc='upper left')\n",
    "ax.set_xlabel('Год')\n",
    "ax.set_ylabel('Продажи')\n",
    "ax.set_title('Продажи по платформам по отношению к годам')\n",
    "ax.grid(True)\n",
    "fig.set_figheight(6)\n",
    "fig.set_figwidth(18)\n",
    "plt.show()\n",
    "# график по данным периода 2012 - 2016\n",
    "fig,ax = plt.subplots()\n",
    "\n",
    "for i in df_2016.index[:6].tolist():\n",
    "    ax.plot(actual_df_2016[actual_df_2016['platform'] == i].pivot_table(index='release',values='total_sales'), label=i )\n",
    "\n",
    "ax.legend(loc='upper left')\n",
    "ax.set_xlabel('Год')\n",
    "ax.set_ylabel('Продажи')\n",
    "ax.set_title('Продажи по платформам по отношению к годам')\n",
    "ax.grid(True)\n",
    "fig.set_figheight(6)\n",
    "fig.set_figwidth(18)"
   ]
  },
  {
   "cell_type": "markdown",
   "metadata": {},
   "source": [
    "Оба графика показывают примерно одинаковую картину - с 2013 года все платформы начинают падать в продажах. Но за период с 2015 года как минимум одна платформа выходит на стабильный уровень и перестает снижаться в продажах. Поэтому, несмотря на неполные данные за 2016й год, считаю допустимым взять в дальнейшую работу актуальный период 2012 - 2016 годы.\n",
    "\n",
    "В дальнейшем будем работать с переменной actual_df_2016, т.к. в ней как раз и остались строки, которые представляют интересующий нас актуальный период."
   ]
  },
  {
   "cell_type": "code",
   "execution_count": 34,
   "metadata": {},
   "outputs": [
    {
     "data": {
      "image/png": "[encoded data removed]",
      "text/plain": [
       "<Figure size 1296x432 with 1 Axes>"
      ]
     },
     "metadata": {
      "needs_background": "light"
     },
     "output_type": "display_data"
    }
   ],
   "source": [
    "# построим тот же график для всех платформ, которые имеют продажи в период с 2012 года и позднее\n",
    "fig,ax = plt.subplots()\n",
    "for i in actual_df_2016.platform.unique():\n",
    "    ax.plot(actual_df_2016[actual_df_2016['platform'] == i].pivot_table(index='release',values='total_sales'), label=i)\n",
    "ax.legend(loc='upper left')\n",
    "ax.set_xlabel('Год')\n",
    "ax.set_ylabel('Продажи')\n",
    "ax.set_title('Продажи по платформам по отношению к годам')\n",
    "ax.grid(True)\n",
    "fig.set_figheight(6)\n",
    "fig.set_figwidth(18)\n"
   ]
  },
  {
   "cell_type": "markdown",
   "metadata": {},
   "source": [
    "При визуализации продаж по всем платформам, попадающим в выборку с 2012 по 2016 годы мы видим, что не только \"3DS\", как на предыдущем графике, но и \"PSV\" показывают стабильный уровень продаж с 2015 года, но у PSV уровень продаж на порядок ниже, чем у 3DS. Остальные платформы показывают стабильное снижение продаж от года к году."
   ]
  },
  {
   "cell_type": "markdown",
   "metadata": {},
   "source": [
    "### 3.4. Распределение продаж по платформам."
   ]
  },
  {
   "cell_type": "markdown",
   "metadata": {},
   "source": [
    "Для общей первичной оценки построим боксплот по всем продажам."
   ]
  },
  {
   "cell_type": "code",
   "execution_count": 35,
   "metadata": {},
   "outputs": [
    {
     "data": {
      "image/png": "[encoded data removed]",
      "text/plain": [
       "<Figure size 1440x432 with 1 Axes>"
      ]
     },
     "metadata": {
      "needs_background": "light"
     },
     "output_type": "display_data"
    }
   ],
   "source": [
    "plt.figure(figsize=(20, 6))\n",
    "sns.boxplot(x=actual_df_2016['total_sales']);"
   ]
  },
  {
   "cell_type": "markdown",
   "metadata": {},
   "source": [
    "В силу большого количества выбросов - продаж хитовых игр огромным количеством копий, данный график не является показательным и на нем довольно сложно что-либо увидеть.\n",
    "Поэтому считаю имеет смысл посмотреть общее распределение проданных игр и уже на основании этого распредления строить боксплоты по каждой из платформ."
   ]
  },
  {
   "cell_type": "code",
   "execution_count": 36,
   "metadata": {},
   "outputs": [
    {
     "data": {
      "text/plain": [
       "count    2886.000000\n",
       "mean        0.501223\n",
       "std         1.249157\n",
       "min         0.010000\n",
       "25%         0.040000\n",
       "50%         0.120000\n",
       "75%         0.430000\n",
       "max        21.050000\n",
       "Name: total_sales, dtype: float64"
      ]
     },
     "execution_count": 36,
     "metadata": {},
     "output_type": "execute_result"
    }
   ],
   "source": [
    "actual_df_2016['total_sales'].describe()"
   ]
  },
  {
   "cell_type": "code",
   "execution_count": 37,
   "metadata": {},
   "outputs": [
    {
     "data": {
      "text/plain": [
       "0.8200000000000001"
      ]
     },
     "execution_count": 37,
     "metadata": {},
     "output_type": "execute_result"
    }
   ],
   "source": [
    "# посчитаем верхнюю границу \"усов\" общего распределения продаж\n",
    "np.percentile(actual_df_2016['total_sales'],75) + \\\n",
    "(np.percentile(actual_df_2016['total_sales'],75) - \\\n",
    " np.percentile(actual_df_2016['total_sales'],25))"
   ]
  },
  {
   "cell_type": "code",
   "execution_count": 38,
   "metadata": {},
   "outputs": [
    {
     "data": {
      "image/png": "[encoded data removed]",
      "text/plain": [
       "<Figure size 1440x720 with 1 Axes>"
      ]
     },
     "metadata": {
      "needs_background": "light"
     },
     "output_type": "display_data"
    }
   ],
   "source": [
    "# беря в расчет верхнюю границу распределения, строим графики распределения по каждой из платформ за весь актуальный период\n",
    "plt.figure(figsize=(20, 10))\n",
    "sns.boxplot(y=actual_df_2016[actual_df_2016['total_sales'] < 0.82]['total_sales'], x=actual_df_2016['platform']);\n",
    "plt.grid(True)\n",
    "plt.xlabel('Платформы')\n",
    "plt.ylabel('Общие продажи копий, млн')\n",
    "plt.title('Распределение продаж игр по каждой платформе');"
   ]
  },
  {
   "cell_type": "markdown",
   "metadata": {},
   "source": [
    "Исходя из графиков выше, которые исключают выбросы в виде кассовых игр с большим объемом продаж, отчетливо видно, что лидерами по объемам продаж своих игр являются платформы \"X360\" и \"WiiU\", за ними следуют \"PS3\", \"PS4\" и \"XOne\". Остальные платформы довольно значительно отстают в общем объеме продаж в периоде с 2012 по 2016й годы.\n",
    "\n",
    "для большей детализации нижних границ графиков ограничим график по шкале Y на уровне 0.3"
   ]
  },
  {
   "cell_type": "code",
   "execution_count": 39,
   "metadata": {},
   "outputs": [
    {
     "data": {
      "image/png": "[encoded data removed]",
      "text/plain": [
       "<Figure size 1440x720 with 1 Axes>"
      ]
     },
     "metadata": {
      "needs_background": "light"
     },
     "output_type": "display_data"
    }
   ],
   "source": [
    "plt.figure(figsize=(20, 10))\n",
    "sns.boxplot(y=actual_df_2016[actual_df_2016['total_sales'] < 0.82]['total_sales'], x=actual_df_2016['platform']);\n",
    "plt.grid(True)\n",
    "plt.xlabel('Платформы')\n",
    "plt.ylabel('Общие продажи копий, млн')\n",
    "plt.title('Распределение продаж игр по каждой платформе')\n",
    "plt.ylim(0,0.3);"
   ]
  },
  {
   "cell_type": "markdown",
   "metadata": {},
   "source": [
    "На \"увеличенном\" графике мы можем видеть, что медиана продаж как минимум 3х платформ (PSP, PSV, DS) не превышает значения в 50 тыс. копий, в промежутке между 50 и 100 тыс копий находятся платформы - PC, 3DS, PS4, далее идет интервал 100 - 150 тыс. копий, там располагаются Wii, WiiU, XOne, PS3, ну и самое высокое медианное значение по продажам показала платформа X360."
   ]
  },
  {
   "cell_type": "markdown",
   "metadata": {},
   "source": [
    "### 3.5. Корреляция продаж и отзывов."
   ]
  },
  {
   "cell_type": "markdown",
   "metadata": {},
   "source": [
    "Проверим есть ли зависимость между отзывами покупателей/критиков и продажами по лидирующим платформам"
   ]
  },
  {
   "cell_type": "code",
   "execution_count": 40,
   "metadata": {
    "scrolled": true
   },
   "outputs": [
    {
     "data": {
      "image/png": "[encoded data removed]",
      "text/plain": [
       "<Figure size 1296x288 with 2 Axes>"
      ]
     },
     "metadata": {
      "needs_background": "light"
     },
     "output_type": "display_data"
    }
   ],
   "source": [
    "#сделаем выборки по 2м лидирующим в продажах платформам\n",
    "df_x360 = actual_df_2016.query('platform == \"X360\"')\n",
    "df_ps3 = actual_df_2016.query('platform == \"PS3\"')\n",
    "# построим график рассеяния для обеих категорий оценок (покупатели/критики)\n",
    "fig, ax = plt.subplots(1,2);\n",
    "fig.set_figheight(4)\n",
    "fig.set_figwidth(18)\n",
    "\n",
    "# график для критиков\n",
    "plt.subplot(1,2,1)\n",
    "plt.scatter(y=df_x360.total_sales, x=df_x360.critic_score, alpha=0.5, label='X360');\n",
    "plt.scatter(y=df_ps3.total_sales, x=df_ps3.critic_score, alpha=0.5, label='PS3');\n",
    "plt.xlabel('Продажи')\n",
    "plt.ylabel('Отзывы')\n",
    "plt.legend(loc=9)\n",
    "plt.title('Корреляция отзывов критиков и продаж');\n",
    "\n",
    "\n",
    "# график для пользователей\n",
    "plt.subplot(1, 2, 2)\n",
    "plt.scatter(y=df_x360.total_sales, x=df_x360.user_score, alpha=0.5, label='X360');\n",
    "plt.scatter(y=df_ps3.total_sales, x=df_ps3.user_score, alpha=0.5, label='PS3');\n",
    "plt.xlabel('Продажи')\n",
    "plt.ylabel('Отзывы')\n",
    "plt.legend(loc=9)\n",
    "plt.title('Корреляция отзывов пользователей и продаж');\n"
   ]
  },
  {
   "cell_type": "markdown",
   "metadata": {},
   "source": [
    "На графиках по обеим платформам видно довольно слабую или совсем отсутствующую корреляцию между отзывами и продажами.\n",
    "Для того, чтобы окончательно в этом убедиться проверим это в цифрах."
   ]
  },
  {
   "cell_type": "code",
   "execution_count": 41,
   "metadata": {},
   "outputs": [
    {
     "name": "stdout",
     "output_type": "stream",
     "text": [
      "Корреляция между отзывами критиков и продажами x360: 0.36057348885073387\n",
      "Корреляция между отзывами критиков и продажами PS3: 0.33149725926295903\n",
      "\n",
      "Корреляция между отзывами пользователей и продажами PS3: -0.005143522887113828\n",
      "Корреляция между отзывами пользователей и продажами x360: 0.0061639786462133585\n"
     ]
    }
   ],
   "source": [
    "# посчитаем коэффициент корреляции для платформы \"x360\"\n",
    "print(f'Корреляция между отзывами критиков и продажами x360: {df_x360.total_sales.corr(df_x360.critic_score)}')\n",
    "print(f'Корреляция между отзывами критиков и продажами PS3: {df_ps3.total_sales.corr(df_ps3.critic_score)}')\n",
    "\n",
    "print()\n",
    "# посчитаем коэффициент корреляции для платформы \"PS3\"\n",
    "print(f'Корреляция между отзывами пользователей и продажами PS3: {df_ps3.total_sales.corr(df_ps3.user_score)}')\n",
    "print(f'Корреляция между отзывами пользователей и продажами x360: {df_x360.total_sales.corr(df_x360.user_score)}')\n"
   ]
  },
  {
   "cell_type": "markdown",
   "metadata": {},
   "source": [
    "В итоге мы можем сделать вывод, что оценки критиков демонстрируют прямую, средне-слабую корреляцию со значениями продаж. Оценки пользователей корреляции с продажами не имеют. Исходя из проведенного анализа 2х лидирующих по продажам платформ, можно предположить, что на всех остальных, менее успешных, платформах, будет примерно та же самая картина."
   ]
  },
  {
   "cell_type": "markdown",
   "metadata": {},
   "source": [
    "### 3.6. Распределение игр по жанрам."
   ]
  },
  {
   "cell_type": "markdown",
   "metadata": {},
   "source": [
    "Посмотрим как в целом распределяются игры в зависимости от жанра."
   ]
  },
  {
   "cell_type": "code",
   "execution_count": 42,
   "metadata": {},
   "outputs": [
    {
     "data": {
      "image/png": "[encoded data removed]",
      "text/plain": [
       "<Figure size 1080x360 with 1 Axes>"
      ]
     },
     "metadata": {
      "needs_background": "light"
     },
     "output_type": "display_data"
    }
   ],
   "source": [
    "actual_df_2016.groupby('genre').genre.count().sort_values(ascending=False) \\\n",
    "              .plot(kind='bar',\n",
    "                    rot=45,xlabel='Жанр',\n",
    "                    ylabel='Количество игр',\n",
    "                    title='Распределение игр по жанрам',\n",
    "                    figsize=(15,5));"
   ]
  },
  {
   "cell_type": "markdown",
   "metadata": {},
   "source": [
    "На графике видно, что сильно лидирует по количеству игр жанр Action. Посмотрим теперь какое распределение имеют продажи игр по жанрам."
   ]
  },
  {
   "cell_type": "code",
   "execution_count": 43,
   "metadata": {},
   "outputs": [
    {
     "data": {
      "image/png": "[encoded data removed]",
      "text/plain": [
       "<Figure size 1080x360 with 1 Axes>"
      ]
     },
     "metadata": {
      "needs_background": "light"
     },
     "output_type": "display_data"
    }
   ],
   "source": [
    "actual_df_2016.groupby('genre').total_sales.median().sort_values(ascending=False) \\\n",
    "              .plot(kind='bar',\n",
    "              rot=45,xlabel='Жанр',                \n",
    "              ylabel='Количество проданных копий, млн.',\n",
    "              title='Распределение продаж по жанрам',\n",
    "              figsize=(15,5));"
   ]
  },
  {
   "cell_type": "markdown",
   "metadata": {},
   "source": [
    "Как видно из графика, жанр Shooter уверенно лидирует в графике по продажам игр.Наименее продаваемыми и разнообразными по количеству игр являются жанры Strategy и Puzzle - они занимают последние строчки в обоих списках. Немного отличается ситуация с жанром Adventure, т.к. по количеству выпущенных игр данный жанр занимает 3е место, а вот по продажам этот жанр стоит на последнем месте. А жанры Sports, занимая 4е место по количеству игр становится на 2е место по продажам, и Shooter, находясь на 5м месте по количеству игра занимает 1е место по их продажм. Это говорит нам о том, что количество проданных копий игр определенного жанра не всегда напрямую зависит от общего количества игр этого жанра. Также исходя из обоих этих графиков можно сделать вывод, что самыми перспективными жанрами в игровой индустрии являются Shooter и Sports."
   ]
  },
  {
   "cell_type": "markdown",
   "metadata": {},
   "source": [
    "<a id='section4'></a>\n",
    "## 4. Примерный портрет пользователя каждого региона."
   ]
  },
  {
   "cell_type": "markdown",
   "metadata": {},
   "source": [
    "Используя данные по продажам по каждому региону попробуем составить примерный портрет пользователя каждого региона, а именно:\n",
    " * Самые популярные платформы (топ-5). Опишите различия в долях продаж.\n",
    " * Самые популярные жанры (топ-5). Поясните разницу.\n",
    " * Влияет ли рейтинг ESRB на продажи в отдельном регионе?"
   ]
  },
  {
   "cell_type": "markdown",
   "metadata": {},
   "source": [
    "### 4.1. Популярность платформы в зависимости от рынка."
   ]
  },
  {
   "cell_type": "markdown",
   "metadata": {},
   "source": [
    "Посмотрим какие платформы популярны для какого рынка."
   ]
  },
  {
   "cell_type": "code",
   "execution_count": 44,
   "metadata": {},
   "outputs": [
    {
     "data": {
      "image/png": "[encoded data removed]",
      "text/plain": [
       "<Figure size 1080x432 with 1 Axes>"
      ]
     },
     "metadata": {
      "needs_background": "light"
     },
     "output_type": "display_data"
    }
   ],
   "source": [
    "# Построим общий график распределения продаж по всем платформам и всем трем рынкам\n",
    "actual_df_2016.pivot_table( index='platform', values=['na_sales', 'eu_sales', 'jp_sales'], aggfunc='sum') \\\n",
    "              .plot(kind='bar',\n",
    "                    figsize=(15, 6),\n",
    "                    rot=360,\n",
    "                    xlabel='Платформа',\n",
    "                    ylabel='Кол-во проданных копий, млн.',\n",
    "                    title='Популярность платформ в зависимости от рынка');"
   ]
  },
  {
   "cell_type": "markdown",
   "metadata": {},
   "source": [
    "На общем графике популярности платформ видно, что лидируют 5 плафторм - это 3DS, PS3, PS4, X360, XOne. Как именно они распределяются на каждом из рынков посмотрим ниже, построив отдельный график по каждому рынку."
   ]
  },
  {
   "cell_type": "code",
   "execution_count": 45,
   "metadata": {},
   "outputs": [
    {
     "data": {
      "image/png": "[encoded data removed]",
      "text/plain": [
       "<Figure size 720x288 with 1 Axes>"
      ]
     },
     "metadata": {
      "needs_background": "light"
     },
     "output_type": "display_data"
    },
    {
     "data": {
      "image/png": "[encoded data removed]",
      "text/plain": [
       "<Figure size 720x288 with 1 Axes>"
      ]
     },
     "metadata": {
      "needs_background": "light"
     },
     "output_type": "display_data"
    },
    {
     "data": {
      "image/png": "[encoded data removed]",
      "text/plain": [
       "<Figure size 720x288 with 1 Axes>"
      ]
     },
     "metadata": {
      "needs_background": "light"
     },
     "output_type": "display_data"
    }
   ],
   "source": [
    "# построим графики с топ5 платформ для каждого рынка по отдельности\n",
    "for market in ['eu_sales','jp_sales','na_sales']:\n",
    "    actual_df_2016.pivot_table(index='platform', values=market , aggfunc='sum') \\\n",
    "                  .sort_values(market,ascending=False) \\\n",
    "                  .head() \\\n",
    "                  .plot(kind='bar',\n",
    "                        figsize=(10, 4),\n",
    "                        rot=360, xlabel='Платформа',\n",
    "                        ylabel='Кол-во проданных копий, млн.',\n",
    "                        title=f'Популярность платформ на рынке {market[:2].upper()}');\n",
    "                        \n"
   ]
  },
  {
   "cell_type": "markdown",
   "metadata": {},
   "source": [
    "Из данных графиков получается, что на рынках EU и NA больше востребованы такие платформы, как PS3, PS4 и X360, в то время как на рынке JP больше востребованы портативные платформы, такие как 3DS и PSV, но там также актуальна платформа PS3.\n",
    "\n"
   ]
  },
  {
   "cell_type": "markdown",
   "metadata": {},
   "source": [
    "### 4.2. Популярность жанра в зависимости от рынка."
   ]
  },
  {
   "cell_type": "markdown",
   "metadata": {},
   "source": [
    "Теперь посмотрим какие жанры востребованы на этих рынках"
   ]
  },
  {
   "cell_type": "code",
   "execution_count": 46,
   "metadata": {},
   "outputs": [
    {
     "data": {
      "image/png": "[encoded data removed]",
      "text/plain": [
       "<Figure size 1080x432 with 1 Axes>"
      ]
     },
     "metadata": {
      "needs_background": "light"
     },
     "output_type": "display_data"
    }
   ],
   "source": [
    "# Построим общий график распределения продаж по всем платформам и всем трем рынкам\n",
    "actual_df_2016.pivot_table( index='genre', values=['na_sales', 'eu_sales', 'jp_sales'], aggfunc='sum') \\\n",
    "              .plot(kind='bar',\n",
    "                    figsize=(15, 6),\n",
    "                    rot=360,\n",
    "                    xlabel='Платформа',\n",
    "                    ylabel='Кол-во проданных копий, млн.',\n",
    "                    title='Популярность платформ в зависимости от рынка');"
   ]
  },
  {
   "cell_type": "markdown",
   "metadata": {},
   "source": [
    "По общей картине видно, что самые популярные жанры в целом это Action, Music, Role-Playing, Shooter и Sports.\n",
    "Посмотрим насколько они популярны на каждом рынке в отдельности и есть ли разница в жанрах от рынка к рынку."
   ]
  },
  {
   "cell_type": "code",
   "execution_count": 47,
   "metadata": {},
   "outputs": [
    {
     "data": {
      "image/png": "[encoded data removed]",
      "text/plain": [
       "<Figure size 720x288 with 1 Axes>"
      ]
     },
     "metadata": {
      "needs_background": "light"
     },
     "output_type": "display_data"
    },
    {
     "data": {
      "image/png": "[encoded data removed]",
      "text/plain": [
       "<Figure size 720x288 with 1 Axes>"
      ]
     },
     "metadata": {
      "needs_background": "light"
     },
     "output_type": "display_data"
    },
    {
     "data": {
      "image/png": "[encoded data removed]",
      "text/plain": [
       "<Figure size 720x288 with 1 Axes>"
      ]
     },
     "metadata": {
      "needs_background": "light"
     },
     "output_type": "display_data"
    }
   ],
   "source": [
    "# построим графики с топ5 платформ для каждого рынка по отдельности\n",
    "for market in ['eu_sales','jp_sales','na_sales']:\n",
    "    actual_df_2016.pivot_table(index='genre', values=market , aggfunc='sum') \\\n",
    "                  .sort_values(market,ascending=False) \\\n",
    "                  .head() \\\n",
    "                  .plot(kind='bar',\n",
    "                        figsize=(10, 4),\n",
    "                        rot=360, xlabel='Жанр',\n",
    "                        ylabel='Кол-во проданных копий, млн.',\n",
    "                        title=f'Популярность жанров на рынке {market[:2].upper()}');"
   ]
  },
  {
   "cell_type": "markdown",
   "metadata": {},
   "source": [
    "Из графиков выше видно, что рынок NA и рынок EU почти идентичны в своих предпочтениях, а вот рынок JP довольно сильно отличается от других - там популярны другие жанры. Выбор игр в зависимости от жанра различается от жанра к жанру."
   ]
  },
  {
   "cell_type": "markdown",
   "metadata": {},
   "source": [
    "<a id='section7'></a>\n",
    "### 4.3. Зависимость продаж от рейтинга игр по регионам."
   ]
  },
  {
   "cell_type": "markdown",
   "metadata": {},
   "source": [
    "Построим общий график, отображающий количество продаж по регионам, в зависимости от возрастного рейтинга"
   ]
  },
  {
   "cell_type": "code",
   "execution_count": 48,
   "metadata": {},
   "outputs": [
    {
     "data": {
      "image/png": "[encoded data removed]",
      "text/plain": [
       "<Figure size 1080x432 with 1 Axes>"
      ]
     },
     "metadata": {
      "needs_background": "light"
     },
     "output_type": "display_data"
    }
   ],
   "source": [
    "actual_df_2016.pivot_table( index='age_rating', values=['na_sales', 'eu_sales', 'jp_sales'], aggfunc='sum') \\\n",
    "              .plot(kind='bar',\n",
    "                    figsize=(15, 6),\n",
    "                    rot=360,\n",
    "                    xlabel='Платформа',\n",
    "                    ylabel='Кол-во проданных копий, млн.',\n",
    "                    title='Популярность возрастного рейтинга игр в зависимости от рынка');"
   ]
  },
  {
   "cell_type": "markdown",
   "metadata": {},
   "source": [
    "Из графика видно, что явным лидером по продажам во всех регионах являются игры с рейтингом 17+.\n",
    "Для более наглядной картины, посмотрим как распределились рейтинги на каждом из рынков."
   ]
  },
  {
   "cell_type": "code",
   "execution_count": 49,
   "metadata": {},
   "outputs": [
    {
     "data": {
      "image/png": "[encoded data removed]",
      "text/plain": [
       "<Figure size 720x288 with 1 Axes>"
      ]
     },
     "metadata": {
      "needs_background": "light"
     },
     "output_type": "display_data"
    },
    {
     "data": {
      "image/png": "[encoded data removed]",
      "text/plain": [
       "<Figure size 720x288 with 1 Axes>"
      ]
     },
     "metadata": {
      "needs_background": "light"
     },
     "output_type": "display_data"
    },
    {
     "data": {
      "image/png": "[encoded data removed]",
      "text/plain": [
       "<Figure size 720x288 with 1 Axes>"
      ]
     },
     "metadata": {
      "needs_background": "light"
     },
     "output_type": "display_data"
    },
    {
     "data": {
      "image/png": "[encoded data removed]",
      "text/plain": [
       "<Figure size 720x288 with 1 Axes>"
      ]
     },
     "metadata": {
      "needs_background": "light"
     },
     "output_type": "display_data"
    }
   ],
   "source": [
    "# построим графики с топ5 платформ для каждого рынка по отдельности\n",
    "for market in ['eu_sales','jp_sales','na_sales', 'other_sales']:\n",
    "    actual_df_2016.pivot_table(index='age_rating', values=market , aggfunc='sum') \\\n",
    "                  .sort_values(market,ascending=False) \\\n",
    "                  .head() \\\n",
    "                  .plot(kind='bar',\n",
    "                        figsize=(10, 4),\n",
    "                        rot=360, xlabel='Возрастной рейтинг',\n",
    "                        ylabel='Кол-во проданных копий, млн.',\n",
    "                        title=f'Популярность возрастных категорий игр на рынке {market[:2].upper()}');"
   ]
  },
  {
   "cell_type": "markdown",
   "metadata": {},
   "source": [
    "Исходя из графиков выше следует, что на рынках EU и NA лидирует с большим отрывом по популярности рейтинг 17+. Рынки NA и UE в целом довольно схожи и по интересам и их количественным распределениям. Характерной же особенностью рынка JP, как мы видим, является то, что лидируют там игры без рейтинга. Соответственно кажется логичным следующий вывод - Большое количество игр без рейтинга на рынке JP обусловлено тем, что организация ESRB в основном присваивает рейтинги играм рынков NA, EU и OTHER (по инофрмации из википедии они занимаются оценкой ПО в первую очередь в Америке и Канаде), Этим, скорее всего, и объясняется та аномалия, что большинство игр рынка JP, не смотря на лидирующие строчки в некоторых случаях, в основном не имеют рейтинга."
   ]
  },
  {
   "cell_type": "markdown",
   "metadata": {},
   "source": [
    "**Вывод:** Исходя из проведенного анализа мы можем сделать следующие выводы о рынках игровой индустрии:\n",
    "* Рынки NA и UE похожи между собой и довольно сильно отличаются от рынка JP\n",
    "* На рынках NA и UE покупатели больше интересуются играми жанров Action, Shooter, Sport на платформах PS4, PS3 и X360 и возрастной категории 17+\n",
    "* Рынок JP сильно отличается от других и там больше востребованы игры жанров Role-Play, Action на портативных платформах 3DS и PSV, а также платформа PS3, рейтинги возрастных ограничений на данном рынке часто не указывается в играх."
   ]
  },
  {
   "cell_type": "markdown",
   "metadata": {},
   "source": [
    "<a id='section5'></a>\n",
    "## 5. Проверка гипотез."
   ]
  },
  {
   "cell_type": "markdown",
   "metadata": {},
   "source": [
    "**Гипотеза №1:** Средние пользовательские рейтинги платформ Xbox One и PC одинаковые.\n",
    "\n",
    "Проверим данную гипотезу на основе выборок из генеральной совокупности без пропущенных значений.\n",
    "\n",
    "Соответственно нулевая гипотеза будет звучать как : \"Среднее значение пользовательского рейтинга Xbox One равняется среднему значению пользовательского рейтинга PC\"\n",
    "\n",
    "Тогда альтернативная гипотеза будет звучать как: \"Среднее значение пользовательского рейтинга Xbox One НЕ равняется среднему значению пользовательского рейтинга PC\" (т.е. отличается в большую или меньшую сторону)\n",
    "\n",
    "В случае, если нулевая гипотеза будет подтверждена, т.е. если p-value будет выше статистического уровня значимости, у нас будет достаточно оснований принять нулевую гипотезу, а соответственно быть уверенными в том, что средние значения двух выборок равны."
   ]
  },
  {
   "cell_type": "code",
   "execution_count": 50,
   "metadata": {},
   "outputs": [
    {
     "name": "stdout",
     "output_type": "stream",
     "text": [
      "p-значение: 0.5535080500643661\n",
      "Не получилось отвергнуть нулевую гипотезу\n"
     ]
    }
   ],
   "source": [
    "# посчитаем значение P-value на основании проведененного t-теста и сравним его с предельным уровнем статзначимости\n",
    "alpha = 0.05\n",
    "results = st.ttest_ind(actual_df_2016.query('platform == \"XOne\" and user_score.notna()')['user_score'],\n",
    "                       actual_df_2016.query('platform == \"PC\" and user_score.notna()')['user_score'])\n",
    "print('p-значение:', results.pvalue)\n",
    "# если уровень значимости будет больше, чем значение p-value, тогда отвергнем нулевую гипотезу и примем альтернативную\n",
    "if results.pvalue < alpha:\n",
    "    print(\"Отвергаем нулевую гипотезу\")\n",
    "else:\n",
    "    print(\"Не получилось отвергнуть нулевую гипотезу\")\n"
   ]
  },
  {
   "cell_type": "markdown",
   "metadata": {},
   "source": [
    "Т.к. отвергнуть нулевую гипотезу нет достаточных оснований можем сделать вывод, что средние значения скорей всего равны, соответственно наша гипотеза подтвердилась."
   ]
  },
  {
   "cell_type": "markdown",
   "metadata": {},
   "source": [
    "**Гипотеза №2:** Средние пользовательские рейтинги жанров Action (англ. «действие», экшен-игры) и Sports (англ. «спортивные соревнования») разные.\n",
    "\n",
    "Проверим данную гипотезу на основе выборок из генеральной совокупности без пропущенных значений.\n",
    "\n",
    "Соответственно нулевая гипотеза будет звучать как : \"Среднее значение пользовательского рейтинга Action равняется среднему значению пользовательского рейтинга Sports\"\n",
    "\n",
    "Тогда альтернативная гипотеза будет звучать как: \"Среднее значение пользовательского рейтинга Action НЕ равняется среднему значению пользовательского рейтинга Sports\" (т.е. отличается в большую или меньшую сторону).\n",
    "\n",
    "В отличие от предыдущей гипотезы, здесь же наоборот, наша гипотеза будет верна в том случае, если мы сможем отвергнуть нулевую гипотезу о равенстве средних значений в пользу альтернотивно гипотезы о их разности."
   ]
  },
  {
   "cell_type": "code",
   "execution_count": 51,
   "metadata": {},
   "outputs": [
    {
     "name": "stdout",
     "output_type": "stream",
     "text": [
      "p-значение: 3.7163089460934874e-26\n",
      "Отвергаем нулевую гипотезу\n"
     ]
    }
   ],
   "source": [
    "# посчитаем значение P-value на основании проведененного t-теста и сравним его с предельным уровнем статзначимости\n",
    "alpha = 0.05\n",
    "results = st.ttest_ind(actual_df_2016.query('genre == \"Action\" and user_score.notna()')['user_score'],\n",
    "                       actual_df_2016.query('genre == \"Sports\" and user_score.notna()')['user_score'])\n",
    "print('p-значение:', results.pvalue)\n",
    "# если уровень значимости будет больше, чем значение p-value, тогда отвергнем нулевую гипотезу и примем альтернативную\n",
    "if results.pvalue < alpha:\n",
    "    print(\"Отвергаем нулевую гипотезу\")\n",
    "else:\n",
    "    print(\"Не получилось отвергнуть нулевую гипотезу\")\n"
   ]
  },
  {
   "cell_type": "markdown",
   "metadata": {},
   "source": [
    "Проведенный тест показал, что у нас есть достаточно оснований, чтобы отвергнуть нулевую гипотезу о равенстве средних значений двух выборок. Поэтому мы принимаем альтернативную гипотезу и можем считать, что средние значения,скорее всего, разные."
   ]
  },
  {
   "cell_type": "markdown",
   "metadata": {},
   "source": [
    "В обеих гипотезах для их проверки применялся t-тест стьюдента, т.к. он больше всего подходит для проверки равенства средних двух независимых выборок."
   ]
  },
  {
   "cell_type": "markdown",
   "metadata": {},
   "source": [
    "<a id='section6'></a>\n",
    "## Общий вывод"
   ]
  },
  {
   "cell_type": "markdown",
   "metadata": {},
   "source": [
    "На основании проведенного анализа можно утверждать:\n",
    "* что количество выпущенных на какой-либо платформе игр не гарантирует нам наибольшего количества покупок по этой платформе.\n",
    "* что отсутствие рейтинга не говорит о том, что игра не популярна на определенном рынке (<a href='#section7'>см. пункт 4.3</a>).\n",
    "* что рынки NA и EU довольно сильно похожи по своим запросам, в то время, как рынок JP стоит особняком и довольно сильно отличается от других. \n",
    "\n",
    "В то же время, исходя из графиков продаж игр видно, что почти все платформы показывают снижение интереса покупателей к их играм. Единственные, кто с 2015 года перестали снижаться в показателях и показывают примерно одинаковый уровень, это портативные платформы 3DS и PSV, что говорит о том, что рынок JP, на котором как раз данные платформы наиболее востребованны, более перспективный.\n",
    "\n",
    "\n",
    "\n",
    "Подводя общий итог нашего исследования, целью которого являлось определение наиболее перспективных направлений для дальнейшего развития компании, можно предполагать следующее:\n",
    "* наиболее прибыльными жанрами за период с 2012 по 2016 год являются - Shooter и Sports\n",
    "* в случае выхода на рынки NA или EU - наиболее популярны игры жанров Action, Shooter и Sports, выпущенные на платформах выпущенные на платформах PS4, PS3 и X360 c возрастными ограничениями 17+.\n",
    "* в случае выхода на рынок JP - наиболее популярны игры в жанрах Role-Play, Action, выпущенные на платформах 3DS,  PSV и PS3 без учета возрастных ограничений."
   ]
  }
 ],
 "metadata": {
  "ExecuteTimeLog": [
   {
    "duration": 481,
    "start_time": "2022-10-03T10:34:57.569Z"
   },
   {
    "duration": 220,
    "start_time": "2022-10-03T10:35:07.281Z"
   },
   {
    "duration": 54,
    "start_time": "2022-10-03T10:35:15.890Z"
   },
   {
    "duration": 201,
    "start_time": "2022-10-03T10:35:22.331Z"
   },
   {
    "duration": 67,
    "start_time": "2022-10-03T10:35:30.171Z"
   },
   {
    "duration": 17,
    "start_time": "2022-10-03T10:38:07.621Z"
   },
   {
    "duration": 61,
    "start_time": "2022-10-03T10:38:33.322Z"
   },
   {
    "duration": 7,
    "start_time": "2022-10-03T10:39:45.459Z"
   },
   {
    "duration": 4,
    "start_time": "2022-10-03T10:39:48.996Z"
   },
   {
    "duration": 4,
    "start_time": "2022-10-03T10:44:24.454Z"
   },
   {
    "duration": 25,
    "start_time": "2022-10-03T10:44:29.885Z"
   },
   {
    "duration": 7,
    "start_time": "2022-10-03T10:45:37.495Z"
   },
   {
    "duration": 18,
    "start_time": "2022-10-03T10:48:52.374Z"
   },
   {
    "duration": 17,
    "start_time": "2022-10-03T10:48:57.799Z"
   },
   {
    "duration": 16,
    "start_time": "2022-10-03T10:49:18.774Z"
   },
   {
    "duration": 83,
    "start_time": "2022-10-03T10:52:50.546Z"
   },
   {
    "duration": 7,
    "start_time": "2022-10-03T10:52:57.565Z"
   },
   {
    "duration": 15,
    "start_time": "2022-10-03T10:52:58.548Z"
   },
   {
    "duration": 470,
    "start_time": "2022-10-03T10:53:10.566Z"
   },
   {
    "duration": 13,
    "start_time": "2022-10-03T10:53:11.038Z"
   },
   {
    "duration": 3,
    "start_time": "2022-10-03T10:53:11.053Z"
   },
   {
    "duration": 9,
    "start_time": "2022-10-03T10:53:11.058Z"
   },
   {
    "duration": 32,
    "start_time": "2022-10-03T10:53:11.069Z"
   },
   {
    "duration": 95,
    "start_time": "2022-10-03T10:53:11.102Z"
   },
   {
    "duration": 8,
    "start_time": "2022-10-03T10:53:21.827Z"
   },
   {
    "duration": 17,
    "start_time": "2022-10-03T10:53:23.842Z"
   },
   {
    "duration": 9,
    "start_time": "2022-10-03T10:53:37.604Z"
   },
   {
    "duration": 5,
    "start_time": "2022-10-03T10:53:50.622Z"
   },
   {
    "duration": 63,
    "start_time": "2022-10-03T10:54:04.168Z"
   },
   {
    "duration": 4,
    "start_time": "2022-10-03T10:54:08.440Z"
   },
   {
    "duration": 5,
    "start_time": "2022-10-03T10:57:07.319Z"
   },
   {
    "duration": 12,
    "start_time": "2022-10-03T10:57:26.665Z"
   },
   {
    "duration": 7,
    "start_time": "2022-10-03T10:57:35.929Z"
   },
   {
    "duration": 9,
    "start_time": "2022-10-03T10:57:53.819Z"
   },
   {
    "duration": 8,
    "start_time": "2022-10-03T10:58:04.085Z"
   },
   {
    "duration": 8,
    "start_time": "2022-10-03T10:58:09.094Z"
   },
   {
    "duration": 9,
    "start_time": "2022-10-03T10:58:52.947Z"
   },
   {
    "duration": 11,
    "start_time": "2022-10-03T10:59:01.621Z"
   },
   {
    "duration": 78,
    "start_time": "2022-10-03T11:00:04.804Z"
   },
   {
    "duration": 18,
    "start_time": "2022-10-03T11:00:08.908Z"
   },
   {
    "duration": 10,
    "start_time": "2022-10-03T11:00:34.589Z"
   },
   {
    "duration": 11,
    "start_time": "2022-10-03T11:00:45.881Z"
   },
   {
    "duration": 19,
    "start_time": "2022-10-03T11:01:01.052Z"
   },
   {
    "duration": 10,
    "start_time": "2022-10-03T11:02:37.520Z"
   },
   {
    "duration": 10,
    "start_time": "2022-10-03T11:02:47.160Z"
   },
   {
    "duration": 9,
    "start_time": "2022-10-03T11:02:53.817Z"
   },
   {
    "duration": 6,
    "start_time": "2022-10-03T11:04:16.091Z"
   },
   {
    "duration": 11,
    "start_time": "2022-10-03T11:04:23.317Z"
   },
   {
    "duration": 5,
    "start_time": "2022-10-03T11:04:28.773Z"
   },
   {
    "duration": 5,
    "start_time": "2022-10-03T11:04:40.078Z"
   },
   {
    "duration": 9,
    "start_time": "2022-10-03T11:04:53.503Z"
   },
   {
    "duration": 9,
    "start_time": "2022-10-03T11:05:02.289Z"
   },
   {
    "duration": 9,
    "start_time": "2022-10-03T11:05:22.771Z"
   },
   {
    "duration": 8,
    "start_time": "2022-10-03T11:05:29.388Z"
   },
   {
    "duration": 9,
    "start_time": "2022-10-03T11:05:36.413Z"
   },
   {
    "duration": 8,
    "start_time": "2022-10-03T11:05:47.663Z"
   },
   {
    "duration": 7,
    "start_time": "2022-10-03T11:05:51.991Z"
   },
   {
    "duration": 8,
    "start_time": "2022-10-03T11:06:19.859Z"
   },
   {
    "duration": 8,
    "start_time": "2022-10-03T11:06:26.283Z"
   },
   {
    "duration": 7,
    "start_time": "2022-10-03T11:06:47.767Z"
   },
   {
    "duration": 7,
    "start_time": "2022-10-03T11:07:05.344Z"
   },
   {
    "duration": 7,
    "start_time": "2022-10-03T11:11:25.720Z"
   },
   {
    "duration": 8,
    "start_time": "2022-10-03T11:12:04.165Z"
   },
   {
    "duration": 7,
    "start_time": "2022-10-03T11:12:09.710Z"
   },
   {
    "duration": 8,
    "start_time": "2022-10-03T11:12:20.767Z"
   },
   {
    "duration": 8,
    "start_time": "2022-10-03T11:12:27.431Z"
   },
   {
    "duration": 5,
    "start_time": "2022-10-03T11:18:54.880Z"
   },
   {
    "duration": 5,
    "start_time": "2022-10-03T11:19:17.595Z"
   },
   {
    "duration": 4,
    "start_time": "2022-10-03T11:31:12.474Z"
   },
   {
    "duration": 4,
    "start_time": "2022-10-03T11:31:16.315Z"
   },
   {
    "duration": 4,
    "start_time": "2022-10-03T11:31:19.980Z"
   },
   {
    "duration": 4,
    "start_time": "2022-10-03T11:37:10.096Z"
   },
   {
    "duration": 5,
    "start_time": "2022-10-03T11:38:30.346Z"
   },
   {
    "duration": 11,
    "start_time": "2022-10-03T11:38:35.201Z"
   },
   {
    "duration": 4,
    "start_time": "2022-10-03T11:38:38.619Z"
   },
   {
    "duration": 18,
    "start_time": "2022-10-03T11:38:49.220Z"
   },
   {
    "duration": 15,
    "start_time": "2022-10-03T11:39:11.918Z"
   },
   {
    "duration": 7,
    "start_time": "2022-10-03T11:39:29.536Z"
   },
   {
    "duration": 5,
    "start_time": "2022-10-03T11:39:49.587Z"
   },
   {
    "duration": 491,
    "start_time": "2022-10-03T11:40:35.408Z"
   },
   {
    "duration": 22,
    "start_time": "2022-10-03T11:42:24.876Z"
   },
   {
    "duration": 23,
    "start_time": "2022-10-03T11:42:33.399Z"
   },
   {
    "duration": 16,
    "start_time": "2022-10-03T11:42:42.664Z"
   },
   {
    "duration": 13,
    "start_time": "2022-10-03T11:42:51.233Z"
   },
   {
    "duration": 20,
    "start_time": "2022-10-03T11:42:58.547Z"
   },
   {
    "duration": 6,
    "start_time": "2022-10-03T11:48:14.434Z"
   },
   {
    "duration": 30,
    "start_time": "2022-10-03T11:48:21.514Z"
   },
   {
    "duration": 6,
    "start_time": "2022-10-03T11:48:59.095Z"
   },
   {
    "duration": 28,
    "start_time": "2022-10-03T11:48:59.877Z"
   },
   {
    "duration": 8,
    "start_time": "2022-10-03T11:49:11.728Z"
   },
   {
    "duration": 7,
    "start_time": "2022-10-03T11:49:27.971Z"
   },
   {
    "duration": 5,
    "start_time": "2022-10-03T11:50:43.452Z"
   },
   {
    "duration": 6,
    "start_time": "2022-10-03T11:51:07.430Z"
   },
   {
    "duration": 7,
    "start_time": "2022-10-03T11:51:19.665Z"
   },
   {
    "duration": 6,
    "start_time": "2022-10-03T11:51:48.908Z"
   },
   {
    "duration": 8,
    "start_time": "2022-10-03T11:51:57.925Z"
   },
   {
    "duration": 28,
    "start_time": "2022-10-03T11:52:26.680Z"
   },
   {
    "duration": 32,
    "start_time": "2022-10-03T11:52:44.993Z"
   },
   {
    "duration": 17,
    "start_time": "2022-10-03T11:59:04.442Z"
   },
   {
    "duration": 6,
    "start_time": "2022-10-03T11:59:28.221Z"
   },
   {
    "duration": 5,
    "start_time": "2022-10-03T11:59:32.805Z"
   },
   {
    "duration": 21,
    "start_time": "2022-10-03T11:59:54.744Z"
   },
   {
    "duration": 33,
    "start_time": "2022-10-03T12:01:57.007Z"
   },
   {
    "duration": 20,
    "start_time": "2022-10-03T12:02:10.874Z"
   },
   {
    "duration": 7,
    "start_time": "2022-10-03T12:02:15.073Z"
   },
   {
    "duration": 21,
    "start_time": "2022-10-03T12:02:18.780Z"
   },
   {
    "duration": 10,
    "start_time": "2022-10-03T12:04:36.179Z"
   },
   {
    "duration": 27,
    "start_time": "2022-10-03T12:04:42.843Z"
   },
   {
    "duration": 33,
    "start_time": "2022-10-03T12:10:32.519Z"
   },
   {
    "duration": 24,
    "start_time": "2022-10-03T12:10:41.800Z"
   },
   {
    "duration": 7,
    "start_time": "2022-10-03T12:19:45.451Z"
   },
   {
    "duration": 18,
    "start_time": "2022-10-03T12:20:24.351Z"
   },
   {
    "duration": 19,
    "start_time": "2022-10-03T12:20:37.601Z"
   },
   {
    "duration": 44,
    "start_time": "2022-10-03T12:20:48.371Z"
   },
   {
    "duration": 11,
    "start_time": "2022-10-03T12:21:08.910Z"
   },
   {
    "duration": 28,
    "start_time": "2022-10-03T12:22:18.758Z"
   },
   {
    "duration": 11,
    "start_time": "2022-10-03T12:30:24.546Z"
   },
   {
    "duration": 73,
    "start_time": "2022-10-03T12:30:34.387Z"
   },
   {
    "duration": 9,
    "start_time": "2022-10-03T12:30:38.284Z"
   },
   {
    "duration": 12,
    "start_time": "2022-10-03T12:33:53.131Z"
   },
   {
    "duration": 12,
    "start_time": "2022-10-03T12:34:02.549Z"
   },
   {
    "duration": 26,
    "start_time": "2022-10-03T12:34:56.692Z"
   },
   {
    "duration": 11,
    "start_time": "2022-10-03T12:35:01.092Z"
   },
   {
    "duration": 18,
    "start_time": "2022-10-03T12:36:10.716Z"
   },
   {
    "duration": 16,
    "start_time": "2022-10-03T12:37:20.237Z"
   },
   {
    "duration": 17,
    "start_time": "2022-10-03T12:38:44.727Z"
   },
   {
    "duration": 15,
    "start_time": "2022-10-03T12:40:01.209Z"
   },
   {
    "duration": 17,
    "start_time": "2022-10-03T12:40:06.488Z"
   },
   {
    "duration": 23,
    "start_time": "2022-10-03T12:43:44.740Z"
   },
   {
    "duration": 17,
    "start_time": "2022-10-03T12:43:54.212Z"
   },
   {
    "duration": 15,
    "start_time": "2022-10-03T12:44:38.658Z"
   },
   {
    "duration": 87,
    "start_time": "2022-10-03T12:51:14.531Z"
   },
   {
    "duration": 75,
    "start_time": "2022-10-03T12:51:18.412Z"
   },
   {
    "duration": 75,
    "start_time": "2022-10-03T12:51:32.157Z"
   },
   {
    "duration": 125,
    "start_time": "2022-10-03T12:51:49.182Z"
   },
   {
    "duration": 12,
    "start_time": "2022-10-03T12:52:17.075Z"
   },
   {
    "duration": 10,
    "start_time": "2022-10-03T12:52:23.511Z"
   },
   {
    "duration": 10,
    "start_time": "2022-10-03T12:52:39.988Z"
   },
   {
    "duration": 10,
    "start_time": "2022-10-03T12:53:00.553Z"
   },
   {
    "duration": 134,
    "start_time": "2022-10-03T12:53:20.674Z"
   },
   {
    "duration": 9,
    "start_time": "2022-10-03T12:53:26.276Z"
   },
   {
    "duration": 9,
    "start_time": "2022-10-03T12:53:38.885Z"
   },
   {
    "duration": 4,
    "start_time": "2022-10-03T12:55:25.704Z"
   },
   {
    "duration": 23,
    "start_time": "2022-10-03T12:55:45.405Z"
   },
   {
    "duration": 14,
    "start_time": "2022-10-03T12:56:42.075Z"
   },
   {
    "duration": 78,
    "start_time": "2022-10-03T12:56:57.637Z"
   },
   {
    "duration": 17,
    "start_time": "2022-10-03T12:57:05.478Z"
   },
   {
    "duration": 27,
    "start_time": "2022-10-03T12:57:11.383Z"
   },
   {
    "duration": 18,
    "start_time": "2022-10-03T12:57:18.488Z"
   },
   {
    "duration": 4,
    "start_time": "2022-10-03T13:00:01.652Z"
   },
   {
    "duration": 72,
    "start_time": "2022-10-03T13:06:02.032Z"
   },
   {
    "duration": 4,
    "start_time": "2022-10-03T13:12:34.240Z"
   },
   {
    "duration": 4,
    "start_time": "2022-10-03T13:16:18.988Z"
   },
   {
    "duration": 10,
    "start_time": "2022-10-03T13:21:28.402Z"
   },
   {
    "duration": 12,
    "start_time": "2022-10-03T13:22:52.716Z"
   },
   {
    "duration": 13,
    "start_time": "2022-10-03T13:23:14.627Z"
   },
   {
    "duration": 11,
    "start_time": "2022-10-03T13:23:42.586Z"
   },
   {
    "duration": 424,
    "start_time": "2022-10-03T13:24:12.710Z"
   },
   {
    "duration": 369,
    "start_time": "2022-10-03T13:25:24.752Z"
   },
   {
    "duration": 12,
    "start_time": "2022-10-03T13:25:30.736Z"
   },
   {
    "duration": 11,
    "start_time": "2022-10-03T13:25:38.913Z"
   },
   {
    "duration": 22,
    "start_time": "2022-10-03T13:25:46.971Z"
   },
   {
    "duration": 8,
    "start_time": "2022-10-03T13:26:25.631Z"
   },
   {
    "duration": 9,
    "start_time": "2022-10-03T13:26:30.631Z"
   },
   {
    "duration": 22,
    "start_time": "2022-10-03T13:26:34.453Z"
   },
   {
    "duration": 32,
    "start_time": "2022-10-03T13:27:13.700Z"
   },
   {
    "duration": 74,
    "start_time": "2022-10-03T13:28:07.828Z"
   },
   {
    "duration": 9,
    "start_time": "2022-10-03T13:28:29.446Z"
   },
   {
    "duration": 32,
    "start_time": "2022-10-03T13:28:31.279Z"
   },
   {
    "duration": 12,
    "start_time": "2022-10-03T13:29:27.157Z"
   },
   {
    "duration": 33,
    "start_time": "2022-10-03T13:29:28.399Z"
   },
   {
    "duration": 10,
    "start_time": "2022-10-03T13:30:10.363Z"
   },
   {
    "duration": 31,
    "start_time": "2022-10-03T13:30:11.060Z"
   },
   {
    "duration": 35,
    "start_time": "2022-10-03T13:30:22.916Z"
   },
   {
    "duration": 102,
    "start_time": "2022-10-03T13:30:37.598Z"
   },
   {
    "duration": 14,
    "start_time": "2022-10-03T13:30:45.382Z"
   },
   {
    "duration": 9,
    "start_time": "2022-10-03T13:30:53.424Z"
   },
   {
    "duration": 10,
    "start_time": "2022-10-03T13:30:58.963Z"
   },
   {
    "duration": 8,
    "start_time": "2022-10-03T13:31:10.114Z"
   },
   {
    "duration": 32,
    "start_time": "2022-10-03T13:31:10.786Z"
   },
   {
    "duration": 8,
    "start_time": "2022-10-03T13:31:50.632Z"
   },
   {
    "duration": 5,
    "start_time": "2022-10-03T13:31:58.063Z"
   },
   {
    "duration": 4,
    "start_time": "2022-10-03T13:32:12.242Z"
   },
   {
    "duration": 9,
    "start_time": "2022-10-03T13:32:48.558Z"
   },
   {
    "duration": 5,
    "start_time": "2022-10-03T13:32:49.174Z"
   },
   {
    "duration": 21,
    "start_time": "2022-10-03T13:33:09.136Z"
   },
   {
    "duration": 5,
    "start_time": "2022-10-03T13:33:10.824Z"
   },
   {
    "duration": 15,
    "start_time": "2022-10-03T13:33:29.530Z"
   },
   {
    "duration": 15,
    "start_time": "2022-10-03T13:33:38.076Z"
   },
   {
    "duration": 9,
    "start_time": "2022-10-03T13:33:46.405Z"
   },
   {
    "duration": 5,
    "start_time": "2022-10-03T13:33:48.445Z"
   },
   {
    "duration": 10,
    "start_time": "2022-10-03T13:35:51.060Z"
   },
   {
    "duration": 5,
    "start_time": "2022-10-03T13:35:51.596Z"
   },
   {
    "duration": 9,
    "start_time": "2022-10-03T13:36:03.422Z"
   },
   {
    "duration": 5,
    "start_time": "2022-10-03T13:36:03.838Z"
   },
   {
    "duration": 23,
    "start_time": "2022-10-03T13:37:42.424Z"
   },
   {
    "duration": 17,
    "start_time": "2022-10-03T13:38:17.687Z"
   },
   {
    "duration": 6,
    "start_time": "2022-10-03T13:41:55.530Z"
   },
   {
    "duration": 8,
    "start_time": "2022-10-03T13:42:08.074Z"
   },
   {
    "duration": 10,
    "start_time": "2022-10-03T13:42:11.251Z"
   },
   {
    "duration": 2,
    "start_time": "2022-10-03T13:42:59.874Z"
   },
   {
    "duration": 13,
    "start_time": "2022-10-03T13:43:31.733Z"
   },
   {
    "duration": 28,
    "start_time": "2022-10-03T13:45:00.919Z"
   },
   {
    "duration": 9,
    "start_time": "2022-10-03T13:45:05.519Z"
   },
   {
    "duration": 14,
    "start_time": "2022-10-03T13:45:11.465Z"
   },
   {
    "duration": 10,
    "start_time": "2022-10-03T13:45:17.641Z"
   },
   {
    "duration": 8,
    "start_time": "2022-10-03T13:49:09.326Z"
   },
   {
    "duration": 504,
    "start_time": "2022-10-03T13:49:16.395Z"
   },
   {
    "duration": 15,
    "start_time": "2022-10-03T13:49:16.902Z"
   },
   {
    "duration": 4,
    "start_time": "2022-10-03T13:49:16.919Z"
   },
   {
    "duration": 9,
    "start_time": "2022-10-03T13:49:16.925Z"
   },
   {
    "duration": 15,
    "start_time": "2022-10-03T13:49:16.936Z"
   },
   {
    "duration": 87,
    "start_time": "2022-10-03T13:49:16.953Z"
   },
   {
    "duration": 0,
    "start_time": "2022-10-03T13:49:17.042Z"
   },
   {
    "duration": 0,
    "start_time": "2022-10-03T13:49:17.044Z"
   },
   {
    "duration": 0,
    "start_time": "2022-10-03T13:49:17.045Z"
   },
   {
    "duration": 0,
    "start_time": "2022-10-03T13:49:17.047Z"
   },
   {
    "duration": 0,
    "start_time": "2022-10-03T13:49:17.048Z"
   },
   {
    "duration": 0,
    "start_time": "2022-10-03T13:49:17.050Z"
   },
   {
    "duration": 0,
    "start_time": "2022-10-03T13:49:17.051Z"
   },
   {
    "duration": 0,
    "start_time": "2022-10-03T13:49:17.053Z"
   },
   {
    "duration": 485,
    "start_time": "2022-10-03T13:50:51.573Z"
   },
   {
    "duration": 15,
    "start_time": "2022-10-03T13:50:52.060Z"
   },
   {
    "duration": 5,
    "start_time": "2022-10-03T13:50:52.076Z"
   },
   {
    "duration": 9,
    "start_time": "2022-10-03T13:50:52.083Z"
   },
   {
    "duration": 14,
    "start_time": "2022-10-03T13:50:52.094Z"
   },
   {
    "duration": 57,
    "start_time": "2022-10-03T13:50:52.109Z"
   },
   {
    "duration": 0,
    "start_time": "2022-10-03T13:50:52.168Z"
   },
   {
    "duration": 0,
    "start_time": "2022-10-03T13:50:52.169Z"
   },
   {
    "duration": 0,
    "start_time": "2022-10-03T13:50:52.170Z"
   },
   {
    "duration": 0,
    "start_time": "2022-10-03T13:50:52.172Z"
   },
   {
    "duration": 0,
    "start_time": "2022-10-03T13:50:52.173Z"
   },
   {
    "duration": 0,
    "start_time": "2022-10-03T13:50:52.194Z"
   },
   {
    "duration": 0,
    "start_time": "2022-10-03T13:50:52.196Z"
   },
   {
    "duration": 0,
    "start_time": "2022-10-03T13:50:52.196Z"
   },
   {
    "duration": 5,
    "start_time": "2022-10-03T13:51:04.982Z"
   },
   {
    "duration": 450,
    "start_time": "2022-10-03T13:51:47.622Z"
   },
   {
    "duration": 13,
    "start_time": "2022-10-03T13:51:48.075Z"
   },
   {
    "duration": 4,
    "start_time": "2022-10-03T13:51:48.091Z"
   },
   {
    "duration": 12,
    "start_time": "2022-10-03T13:51:48.096Z"
   },
   {
    "duration": 15,
    "start_time": "2022-10-03T13:51:48.110Z"
   },
   {
    "duration": 5,
    "start_time": "2022-10-03T13:51:48.126Z"
   },
   {
    "duration": 275,
    "start_time": "2022-10-03T13:51:48.132Z"
   },
   {
    "duration": 4,
    "start_time": "2022-10-03T13:51:48.408Z"
   },
   {
    "duration": 9,
    "start_time": "2022-10-03T13:51:48.414Z"
   },
   {
    "duration": 8,
    "start_time": "2022-10-03T13:51:48.425Z"
   },
   {
    "duration": 12,
    "start_time": "2022-10-03T13:51:48.435Z"
   },
   {
    "duration": 13,
    "start_time": "2022-10-03T13:51:48.448Z"
   },
   {
    "duration": 108,
    "start_time": "2022-10-03T13:51:48.463Z"
   },
   {
    "duration": 0,
    "start_time": "2022-10-03T13:51:48.573Z"
   },
   {
    "duration": 69,
    "start_time": "2022-10-03T13:52:53.963Z"
   },
   {
    "duration": 8,
    "start_time": "2022-10-03T13:53:24.630Z"
   },
   {
    "duration": 6,
    "start_time": "2022-10-03T13:53:33.423Z"
   },
   {
    "duration": 5,
    "start_time": "2022-10-03T13:53:55.178Z"
   },
   {
    "duration": 10,
    "start_time": "2022-10-03T13:54:06.300Z"
   },
   {
    "duration": 22,
    "start_time": "2022-10-03T13:54:24.958Z"
   },
   {
    "duration": 99,
    "start_time": "2022-10-03T13:54:29.895Z"
   },
   {
    "duration": 11,
    "start_time": "2022-10-03T13:54:32.175Z"
   },
   {
    "duration": 6,
    "start_time": "2022-10-03T13:54:35.967Z"
   },
   {
    "duration": 6,
    "start_time": "2022-10-03T13:54:42.208Z"
   },
   {
    "duration": 78,
    "start_time": "2022-10-03T13:54:48.217Z"
   },
   {
    "duration": 6,
    "start_time": "2022-10-03T13:54:51.825Z"
   },
   {
    "duration": 5,
    "start_time": "2022-10-03T13:54:54.744Z"
   },
   {
    "duration": 13,
    "start_time": "2022-10-03T13:55:13.004Z"
   },
   {
    "duration": 12,
    "start_time": "2022-10-03T13:56:45.175Z"
   },
   {
    "duration": 11,
    "start_time": "2022-10-03T13:57:05.698Z"
   },
   {
    "duration": 5,
    "start_time": "2022-10-03T13:57:15.699Z"
   },
   {
    "duration": 5,
    "start_time": "2022-10-03T13:57:22.267Z"
   },
   {
    "duration": 10,
    "start_time": "2022-10-03T13:57:44.167Z"
   },
   {
    "duration": 10,
    "start_time": "2022-10-03T13:58:54.143Z"
   },
   {
    "duration": 5,
    "start_time": "2022-10-03T13:58:55.287Z"
   },
   {
    "duration": 11,
    "start_time": "2022-10-03T13:58:57.184Z"
   },
   {
    "duration": 12,
    "start_time": "2022-10-03T13:59:00.301Z"
   },
   {
    "duration": 69,
    "start_time": "2022-10-03T13:59:33.740Z"
   },
   {
    "duration": 15,
    "start_time": "2022-10-03T14:00:08.992Z"
   },
   {
    "duration": 15,
    "start_time": "2022-10-03T14:00:38.509Z"
   },
   {
    "duration": 19,
    "start_time": "2022-10-03T14:01:01.927Z"
   },
   {
    "duration": 12,
    "start_time": "2022-10-03T14:01:06.630Z"
   },
   {
    "duration": 14,
    "start_time": "2022-10-03T14:01:50.005Z"
   },
   {
    "duration": 295,
    "start_time": "2022-10-03T14:02:13.232Z"
   },
   {
    "duration": 319,
    "start_time": "2022-10-03T14:03:56.901Z"
   },
   {
    "duration": 303,
    "start_time": "2022-10-03T14:04:36.674Z"
   },
   {
    "duration": 259,
    "start_time": "2022-10-03T14:05:52.331Z"
   },
   {
    "duration": 491,
    "start_time": "2022-10-03T14:06:07.404Z"
   },
   {
    "duration": 1275,
    "start_time": "2022-10-03T14:06:14.414Z"
   },
   {
    "duration": 6,
    "start_time": "2022-10-03T14:06:18.686Z"
   },
   {
    "duration": 407,
    "start_time": "2022-10-03T14:06:24.135Z"
   },
   {
    "duration": 0,
    "start_time": "2022-10-03T14:06:24.543Z"
   },
   {
    "duration": 10,
    "start_time": "2022-10-03T14:06:30.544Z"
   },
   {
    "duration": 5,
    "start_time": "2022-10-03T14:06:31.760Z"
   },
   {
    "duration": 12,
    "start_time": "2022-10-03T14:06:34.280Z"
   },
   {
    "duration": 11,
    "start_time": "2022-10-03T14:06:35.159Z"
   },
   {
    "duration": 14,
    "start_time": "2022-10-03T14:06:45.801Z"
   },
   {
    "duration": 10,
    "start_time": "2022-10-03T14:07:24.102Z"
   },
   {
    "duration": 465,
    "start_time": "2022-10-03T14:07:30.999Z"
   },
   {
    "duration": 13,
    "start_time": "2022-10-03T14:07:34.343Z"
   },
   {
    "duration": 460,
    "start_time": "2022-10-03T14:07:39.004Z"
   },
   {
    "duration": 14,
    "start_time": "2022-10-03T14:07:39.466Z"
   },
   {
    "duration": 7,
    "start_time": "2022-10-03T14:07:39.481Z"
   },
   {
    "duration": 11,
    "start_time": "2022-10-03T14:07:39.490Z"
   },
   {
    "duration": 15,
    "start_time": "2022-10-03T14:07:39.503Z"
   },
   {
    "duration": 303,
    "start_time": "2022-10-03T14:07:39.519Z"
   },
   {
    "duration": 6,
    "start_time": "2022-10-03T14:07:39.823Z"
   },
   {
    "duration": 18,
    "start_time": "2022-10-03T14:07:39.830Z"
   },
   {
    "duration": 456,
    "start_time": "2022-10-03T14:07:39.850Z"
   },
   {
    "duration": 5,
    "start_time": "2022-10-03T14:07:40.307Z"
   },
   {
    "duration": 12,
    "start_time": "2022-10-03T14:07:40.313Z"
   },
   {
    "duration": 12,
    "start_time": "2022-10-03T14:07:40.327Z"
   },
   {
    "duration": 8,
    "start_time": "2022-10-03T14:07:40.340Z"
   },
   {
    "duration": 46,
    "start_time": "2022-10-03T14:07:40.350Z"
   },
   {
    "duration": 18,
    "start_time": "2022-10-03T14:07:51.774Z"
   },
   {
    "duration": 11,
    "start_time": "2022-10-03T14:08:17.953Z"
   },
   {
    "duration": 75,
    "start_time": "2022-10-03T14:12:54.956Z"
   },
   {
    "duration": 14,
    "start_time": "2022-10-03T14:13:04.436Z"
   },
   {
    "duration": 12,
    "start_time": "2022-10-03T14:13:10.221Z"
   },
   {
    "duration": 10,
    "start_time": "2022-10-03T14:17:25.300Z"
   },
   {
    "duration": 9,
    "start_time": "2022-10-03T14:17:26.388Z"
   },
   {
    "duration": 4,
    "start_time": "2022-10-03T14:17:30.588Z"
   },
   {
    "duration": 477,
    "start_time": "2022-10-03T14:17:39.197Z"
   },
   {
    "duration": 18,
    "start_time": "2022-10-03T14:17:39.677Z"
   },
   {
    "duration": 4,
    "start_time": "2022-10-03T14:17:39.697Z"
   },
   {
    "duration": 15,
    "start_time": "2022-10-03T14:17:39.703Z"
   },
   {
    "duration": 33,
    "start_time": "2022-10-03T14:17:39.720Z"
   },
   {
    "duration": 311,
    "start_time": "2022-10-03T14:17:39.756Z"
   },
   {
    "duration": 7,
    "start_time": "2022-10-03T14:17:40.069Z"
   },
   {
    "duration": 18,
    "start_time": "2022-10-03T14:17:40.078Z"
   },
   {
    "duration": 484,
    "start_time": "2022-10-03T14:17:40.097Z"
   },
   {
    "duration": 13,
    "start_time": "2022-10-03T14:17:40.583Z"
   },
   {
    "duration": 14,
    "start_time": "2022-10-03T14:17:40.598Z"
   },
   {
    "duration": 15,
    "start_time": "2022-10-03T14:17:40.614Z"
   },
   {
    "duration": 20,
    "start_time": "2022-10-03T14:17:40.631Z"
   },
   {
    "duration": 10,
    "start_time": "2022-10-03T14:17:40.654Z"
   },
   {
    "duration": 467,
    "start_time": "2022-10-03T14:18:22.710Z"
   },
   {
    "duration": 442,
    "start_time": "2022-10-03T14:18:30.056Z"
   },
   {
    "duration": 5,
    "start_time": "2022-10-03T14:18:30.500Z"
   },
   {
    "duration": 10,
    "start_time": "2022-10-03T14:18:33.663Z"
   },
   {
    "duration": 12,
    "start_time": "2022-10-03T14:18:34.240Z"
   },
   {
    "duration": 474,
    "start_time": "2022-10-03T14:18:39.764Z"
   },
   {
    "duration": 14,
    "start_time": "2022-10-03T14:18:40.240Z"
   },
   {
    "duration": 5,
    "start_time": "2022-10-03T14:18:40.256Z"
   },
   {
    "duration": 18,
    "start_time": "2022-10-03T14:18:40.262Z"
   },
   {
    "duration": 18,
    "start_time": "2022-10-03T14:18:40.294Z"
   },
   {
    "duration": 286,
    "start_time": "2022-10-03T14:18:40.314Z"
   },
   {
    "duration": 7,
    "start_time": "2022-10-03T14:18:40.602Z"
   },
   {
    "duration": 5,
    "start_time": "2022-10-03T14:18:40.611Z"
   },
   {
    "duration": 470,
    "start_time": "2022-10-03T14:18:40.618Z"
   },
   {
    "duration": 9,
    "start_time": "2022-10-03T14:18:41.090Z"
   },
   {
    "duration": 13,
    "start_time": "2022-10-03T14:18:41.101Z"
   },
   {
    "duration": 14,
    "start_time": "2022-10-03T14:18:41.116Z"
   },
   {
    "duration": 9,
    "start_time": "2022-10-03T14:18:41.132Z"
   },
   {
    "duration": 6,
    "start_time": "2022-10-03T14:18:41.145Z"
   },
   {
    "duration": 16,
    "start_time": "2022-10-03T14:20:10.319Z"
   },
   {
    "duration": 431,
    "start_time": "2022-10-03T14:20:16.845Z"
   },
   {
    "duration": 14,
    "start_time": "2022-10-03T14:20:17.278Z"
   },
   {
    "duration": 4,
    "start_time": "2022-10-03T14:20:17.294Z"
   },
   {
    "duration": 9,
    "start_time": "2022-10-03T14:20:17.299Z"
   },
   {
    "duration": 16,
    "start_time": "2022-10-03T14:20:17.311Z"
   },
   {
    "duration": 317,
    "start_time": "2022-10-03T14:20:17.329Z"
   },
   {
    "duration": 8,
    "start_time": "2022-10-03T14:20:17.648Z"
   },
   {
    "duration": 6,
    "start_time": "2022-10-03T14:20:17.658Z"
   },
   {
    "duration": 496,
    "start_time": "2022-10-03T14:20:17.665Z"
   },
   {
    "duration": 6,
    "start_time": "2022-10-03T14:20:18.163Z"
   },
   {
    "duration": 26,
    "start_time": "2022-10-03T14:20:18.171Z"
   },
   {
    "duration": 16,
    "start_time": "2022-10-03T14:20:18.199Z"
   },
   {
    "duration": 21,
    "start_time": "2022-10-03T14:20:18.217Z"
   },
   {
    "duration": 19,
    "start_time": "2022-10-03T14:20:18.251Z"
   },
   {
    "duration": 24,
    "start_time": "2022-10-03T14:20:18.271Z"
   },
   {
    "duration": 7,
    "start_time": "2022-10-03T14:21:51.261Z"
   },
   {
    "duration": 5,
    "start_time": "2022-10-03T14:21:55.126Z"
   },
   {
    "duration": 17,
    "start_time": "2022-10-03T14:22:12.895Z"
   },
   {
    "duration": 10,
    "start_time": "2022-10-03T14:23:04.775Z"
   },
   {
    "duration": 6,
    "start_time": "2022-10-03T14:23:13.255Z"
   },
   {
    "duration": 481,
    "start_time": "2022-10-03T14:23:24.407Z"
   },
   {
    "duration": 16,
    "start_time": "2022-10-03T14:23:24.890Z"
   },
   {
    "duration": 5,
    "start_time": "2022-10-03T14:23:24.908Z"
   },
   {
    "duration": 14,
    "start_time": "2022-10-03T14:23:24.914Z"
   },
   {
    "duration": 17,
    "start_time": "2022-10-03T14:23:24.931Z"
   },
   {
    "duration": 328,
    "start_time": "2022-10-03T14:23:24.950Z"
   },
   {
    "duration": 16,
    "start_time": "2022-10-03T14:23:25.280Z"
   },
   {
    "duration": 5,
    "start_time": "2022-10-03T14:23:25.298Z"
   },
   {
    "duration": 499,
    "start_time": "2022-10-03T14:23:25.305Z"
   },
   {
    "duration": 6,
    "start_time": "2022-10-03T14:23:25.806Z"
   },
   {
    "duration": 27,
    "start_time": "2022-10-03T14:23:25.814Z"
   },
   {
    "duration": 20,
    "start_time": "2022-10-03T14:23:25.843Z"
   },
   {
    "duration": 25,
    "start_time": "2022-10-03T14:23:25.865Z"
   },
   {
    "duration": 76,
    "start_time": "2022-10-03T14:23:25.896Z"
   },
   {
    "duration": 0,
    "start_time": "2022-10-03T14:23:25.973Z"
   },
   {
    "duration": 0,
    "start_time": "2022-10-03T14:23:25.975Z"
   },
   {
    "duration": 14,
    "start_time": "2022-10-03T14:23:53.852Z"
   },
   {
    "duration": 9,
    "start_time": "2022-10-03T14:24:15.654Z"
   },
   {
    "duration": 505,
    "start_time": "2022-10-03T14:24:20.764Z"
   },
   {
    "duration": 15,
    "start_time": "2022-10-03T14:24:21.271Z"
   },
   {
    "duration": 3,
    "start_time": "2022-10-03T14:24:21.288Z"
   },
   {
    "duration": 14,
    "start_time": "2022-10-03T14:24:21.292Z"
   },
   {
    "duration": 15,
    "start_time": "2022-10-03T14:24:21.308Z"
   },
   {
    "duration": 305,
    "start_time": "2022-10-03T14:24:21.325Z"
   },
   {
    "duration": 9,
    "start_time": "2022-10-03T14:24:21.632Z"
   },
   {
    "duration": 6,
    "start_time": "2022-10-03T14:24:21.642Z"
   },
   {
    "duration": 483,
    "start_time": "2022-10-03T14:24:21.650Z"
   },
   {
    "duration": 5,
    "start_time": "2022-10-03T14:24:22.134Z"
   },
   {
    "duration": 12,
    "start_time": "2022-10-03T14:24:22.141Z"
   },
   {
    "duration": 17,
    "start_time": "2022-10-03T14:24:22.155Z"
   },
   {
    "duration": 29,
    "start_time": "2022-10-03T14:24:22.174Z"
   },
   {
    "duration": 9,
    "start_time": "2022-10-03T14:24:22.205Z"
   },
   {
    "duration": 16,
    "start_time": "2022-10-03T14:24:22.217Z"
   },
   {
    "duration": 9,
    "start_time": "2022-10-03T14:24:22.235Z"
   },
   {
    "duration": 4,
    "start_time": "2022-10-03T14:25:31.424Z"
   },
   {
    "duration": 6,
    "start_time": "2022-10-03T14:26:15.661Z"
   },
   {
    "duration": 15,
    "start_time": "2022-10-03T14:26:17.622Z"
   },
   {
    "duration": 448,
    "start_time": "2022-10-03T14:26:26.044Z"
   },
   {
    "duration": 16,
    "start_time": "2022-10-03T14:26:26.494Z"
   },
   {
    "duration": 5,
    "start_time": "2022-10-03T14:26:26.513Z"
   },
   {
    "duration": 15,
    "start_time": "2022-10-03T14:26:26.521Z"
   },
   {
    "duration": 20,
    "start_time": "2022-10-03T14:26:26.539Z"
   },
   {
    "duration": 373,
    "start_time": "2022-10-03T14:26:26.562Z"
   },
   {
    "duration": 8,
    "start_time": "2022-10-03T14:26:26.937Z"
   },
   {
    "duration": 8,
    "start_time": "2022-10-03T14:26:26.947Z"
   },
   {
    "duration": 509,
    "start_time": "2022-10-03T14:26:26.956Z"
   },
   {
    "duration": 6,
    "start_time": "2022-10-03T14:26:27.467Z"
   },
   {
    "duration": 31,
    "start_time": "2022-10-03T14:26:27.474Z"
   },
   {
    "duration": 16,
    "start_time": "2022-10-03T14:26:27.507Z"
   },
   {
    "duration": 10,
    "start_time": "2022-10-03T14:26:27.525Z"
   },
   {
    "duration": 17,
    "start_time": "2022-10-03T14:26:27.538Z"
   },
   {
    "duration": 43,
    "start_time": "2022-10-03T14:26:27.557Z"
   },
   {
    "duration": 74,
    "start_time": "2022-10-03T14:27:44.849Z"
   },
   {
    "duration": 6,
    "start_time": "2022-10-03T14:27:50.001Z"
   },
   {
    "duration": 7,
    "start_time": "2022-10-03T14:28:20.125Z"
   },
   {
    "duration": 5,
    "start_time": "2022-10-03T14:28:22.597Z"
   },
   {
    "duration": 510,
    "start_time": "2022-10-03T14:28:50.397Z"
   },
   {
    "duration": 16,
    "start_time": "2022-10-03T14:28:50.910Z"
   },
   {
    "duration": 3,
    "start_time": "2022-10-03T14:28:50.928Z"
   },
   {
    "duration": 11,
    "start_time": "2022-10-03T14:28:50.933Z"
   },
   {
    "duration": 16,
    "start_time": "2022-10-03T14:28:50.946Z"
   },
   {
    "duration": 339,
    "start_time": "2022-10-03T14:28:50.964Z"
   },
   {
    "duration": 8,
    "start_time": "2022-10-03T14:28:51.305Z"
   },
   {
    "duration": 12,
    "start_time": "2022-10-03T14:28:51.315Z"
   },
   {
    "duration": 478,
    "start_time": "2022-10-03T14:28:51.329Z"
   },
   {
    "duration": 5,
    "start_time": "2022-10-03T14:28:51.811Z"
   },
   {
    "duration": 16,
    "start_time": "2022-10-03T14:28:51.817Z"
   },
   {
    "duration": 15,
    "start_time": "2022-10-03T14:28:51.834Z"
   },
   {
    "duration": 44,
    "start_time": "2022-10-03T14:28:51.851Z"
   },
   {
    "duration": 6,
    "start_time": "2022-10-03T14:28:51.897Z"
   },
   {
    "duration": 473,
    "start_time": "2022-10-03T14:38:28.899Z"
   },
   {
    "duration": 14,
    "start_time": "2022-10-03T14:38:29.375Z"
   },
   {
    "duration": 4,
    "start_time": "2022-10-03T14:38:29.391Z"
   },
   {
    "duration": 12,
    "start_time": "2022-10-03T14:38:29.398Z"
   },
   {
    "duration": 17,
    "start_time": "2022-10-03T14:38:29.412Z"
   },
   {
    "duration": 296,
    "start_time": "2022-10-03T14:38:29.431Z"
   },
   {
    "duration": 8,
    "start_time": "2022-10-03T14:38:29.728Z"
   },
   {
    "duration": 7,
    "start_time": "2022-10-03T14:38:29.737Z"
   },
   {
    "duration": 12,
    "start_time": "2022-10-03T14:38:29.745Z"
   },
   {
    "duration": 12,
    "start_time": "2022-10-03T14:38:29.759Z"
   },
   {
    "duration": 492,
    "start_time": "2022-10-03T14:38:29.795Z"
   },
   {
    "duration": 9,
    "start_time": "2022-10-03T14:38:30.288Z"
   },
   {
    "duration": 26,
    "start_time": "2022-10-03T14:38:30.299Z"
   },
   {
    "duration": 19,
    "start_time": "2022-10-03T14:38:30.326Z"
   },
   {
    "duration": 499,
    "start_time": "2022-10-03T14:40:30.889Z"
   },
   {
    "duration": 15,
    "start_time": "2022-10-03T14:40:31.390Z"
   },
   {
    "duration": 4,
    "start_time": "2022-10-03T14:40:31.407Z"
   },
   {
    "duration": 15,
    "start_time": "2022-10-03T14:40:31.412Z"
   },
   {
    "duration": 18,
    "start_time": "2022-10-03T14:40:31.429Z"
   },
   {
    "duration": 372,
    "start_time": "2022-10-03T14:40:31.449Z"
   },
   {
    "duration": 9,
    "start_time": "2022-10-03T14:40:31.823Z"
   },
   {
    "duration": 6,
    "start_time": "2022-10-03T14:40:31.834Z"
   },
   {
    "duration": 488,
    "start_time": "2022-10-03T14:40:31.841Z"
   },
   {
    "duration": 5,
    "start_time": "2022-10-03T14:40:32.330Z"
   },
   {
    "duration": 16,
    "start_time": "2022-10-03T14:40:32.337Z"
   },
   {
    "duration": 13,
    "start_time": "2022-10-03T14:40:32.355Z"
   },
   {
    "duration": 31,
    "start_time": "2022-10-03T14:40:32.370Z"
   },
   {
    "duration": 5,
    "start_time": "2022-10-03T14:40:32.404Z"
   },
   {
    "duration": 12,
    "start_time": "2022-10-03T14:44:35.614Z"
   },
   {
    "duration": 6,
    "start_time": "2022-10-03T14:44:50.822Z"
   },
   {
    "duration": 18,
    "start_time": "2022-10-03T14:52:58.010Z"
   },
   {
    "duration": 5,
    "start_time": "2022-10-03T14:53:30.702Z"
   },
   {
    "duration": 14,
    "start_time": "2022-10-03T14:53:33.655Z"
   },
   {
    "duration": 2,
    "start_time": "2022-10-03T14:58:45.238Z"
   },
   {
    "duration": 2,
    "start_time": "2022-10-03T16:33:49.780Z"
   },
   {
    "duration": 5,
    "start_time": "2022-10-03T16:36:50.272Z"
   },
   {
    "duration": 6,
    "start_time": "2022-10-03T16:36:58.697Z"
   },
   {
    "duration": 24,
    "start_time": "2022-10-03T16:37:09.171Z"
   },
   {
    "duration": 6,
    "start_time": "2022-10-03T16:37:20.901Z"
   },
   {
    "duration": 6,
    "start_time": "2022-10-03T16:40:25.219Z"
   },
   {
    "duration": 6,
    "start_time": "2022-10-03T16:40:53.167Z"
   },
   {
    "duration": 157,
    "start_time": "2022-10-03T16:42:28.459Z"
   },
   {
    "duration": 133,
    "start_time": "2022-10-03T16:42:35.030Z"
   },
   {
    "duration": 338,
    "start_time": "2022-10-03T16:42:52.511Z"
   },
   {
    "duration": 317,
    "start_time": "2022-10-03T16:43:10.455Z"
   },
   {
    "duration": 334,
    "start_time": "2022-10-03T16:43:16.968Z"
   },
   {
    "duration": 305,
    "start_time": "2022-10-03T16:43:38.979Z"
   },
   {
    "duration": 330,
    "start_time": "2022-10-03T16:44:00.030Z"
   },
   {
    "duration": 328,
    "start_time": "2022-10-03T16:44:30.841Z"
   },
   {
    "duration": 392,
    "start_time": "2022-10-03T16:44:51.220Z"
   },
   {
    "duration": 345,
    "start_time": "2022-10-03T16:44:58.476Z"
   },
   {
    "duration": 348,
    "start_time": "2022-10-03T16:46:48.730Z"
   },
   {
    "duration": 360,
    "start_time": "2022-10-03T16:46:58.619Z"
   },
   {
    "duration": 320,
    "start_time": "2022-10-03T16:47:05.284Z"
   },
   {
    "duration": 423,
    "start_time": "2022-10-03T16:47:51.506Z"
   },
   {
    "duration": 369,
    "start_time": "2022-10-03T16:47:56.243Z"
   },
   {
    "duration": 125,
    "start_time": "2022-10-03T17:13:18.446Z"
   },
   {
    "duration": 6,
    "start_time": "2022-10-03T17:14:30.631Z"
   },
   {
    "duration": 12,
    "start_time": "2022-10-03T17:14:34.832Z"
   },
   {
    "duration": 5,
    "start_time": "2022-10-03T17:26:00.492Z"
   },
   {
    "duration": 5,
    "start_time": "2022-10-03T17:26:05.773Z"
   },
   {
    "duration": 176,
    "start_time": "2022-10-03T17:27:17.693Z"
   },
   {
    "duration": 7,
    "start_time": "2022-10-03T17:27:24.735Z"
   },
   {
    "duration": 99,
    "start_time": "2022-10-03T17:29:09.236Z"
   },
   {
    "duration": 5,
    "start_time": "2022-10-03T17:29:19.021Z"
   },
   {
    "duration": 88,
    "start_time": "2022-10-03T17:31:20.485Z"
   },
   {
    "duration": 70,
    "start_time": "2022-10-03T17:31:25.668Z"
   },
   {
    "duration": 91,
    "start_time": "2022-10-03T17:31:39.534Z"
   },
   {
    "duration": 67,
    "start_time": "2022-10-03T17:32:32.214Z"
   },
   {
    "duration": 408,
    "start_time": "2022-10-03T17:34:19.617Z"
   },
   {
    "duration": 76,
    "start_time": "2022-10-03T17:34:37.166Z"
   },
   {
    "duration": 10,
    "start_time": "2022-10-03T17:35:11.920Z"
   },
   {
    "duration": 9,
    "start_time": "2022-10-03T17:35:18.211Z"
   },
   {
    "duration": 6,
    "start_time": "2022-10-03T17:38:39.163Z"
   },
   {
    "duration": 22,
    "start_time": "2022-10-03T17:38:55.339Z"
   },
   {
    "duration": 9,
    "start_time": "2022-10-03T17:39:02.710Z"
   },
   {
    "duration": 22,
    "start_time": "2022-10-03T17:39:42.870Z"
   },
   {
    "duration": 11,
    "start_time": "2022-10-03T17:40:05.501Z"
   },
   {
    "duration": 373,
    "start_time": "2022-10-03T17:44:17.868Z"
   },
   {
    "duration": 339,
    "start_time": "2022-10-03T17:44:47.111Z"
   },
   {
    "duration": 361,
    "start_time": "2022-10-03T17:44:59.777Z"
   },
   {
    "duration": 476,
    "start_time": "2022-10-03T17:45:05.603Z"
   },
   {
    "duration": 366,
    "start_time": "2022-10-03T17:45:12.682Z"
   },
   {
    "duration": 76,
    "start_time": "2022-10-03T17:52:59.796Z"
   },
   {
    "duration": 16,
    "start_time": "2022-10-03T17:53:03.701Z"
   },
   {
    "duration": 16,
    "start_time": "2022-10-03T17:56:17.589Z"
   },
   {
    "duration": 14,
    "start_time": "2022-10-03T17:56:28.678Z"
   },
   {
    "duration": 16,
    "start_time": "2022-10-03T17:57:31.934Z"
   },
   {
    "duration": 16,
    "start_time": "2022-10-03T17:57:36.278Z"
   },
   {
    "duration": 19,
    "start_time": "2022-10-03T17:57:50.552Z"
   },
   {
    "duration": 15,
    "start_time": "2022-10-03T17:57:59.290Z"
   },
   {
    "duration": 16,
    "start_time": "2022-10-03T17:58:11.339Z"
   },
   {
    "duration": 14,
    "start_time": "2022-10-03T18:36:06.276Z"
   },
   {
    "duration": 14,
    "start_time": "2022-10-03T18:36:17.268Z"
   },
   {
    "duration": 4,
    "start_time": "2022-10-03T18:36:53.609Z"
   },
   {
    "duration": 4,
    "start_time": "2022-10-03T18:37:34.902Z"
   },
   {
    "duration": 12,
    "start_time": "2022-10-03T18:37:39.263Z"
   },
   {
    "duration": 10,
    "start_time": "2022-10-03T18:37:56.161Z"
   },
   {
    "duration": 11,
    "start_time": "2022-10-03T18:38:01.729Z"
   },
   {
    "duration": 12,
    "start_time": "2022-10-03T18:38:04.450Z"
   },
   {
    "duration": 12,
    "start_time": "2022-10-03T18:38:18.773Z"
   },
   {
    "duration": 12,
    "start_time": "2022-10-03T18:38:24.124Z"
   },
   {
    "duration": 11,
    "start_time": "2022-10-03T18:39:55.160Z"
   },
   {
    "duration": 12,
    "start_time": "2022-10-03T18:40:15.498Z"
   },
   {
    "duration": 11,
    "start_time": "2022-10-03T18:41:01.400Z"
   },
   {
    "duration": 13,
    "start_time": "2022-10-03T18:41:10.256Z"
   },
   {
    "duration": 11,
    "start_time": "2022-10-03T18:41:56.087Z"
   },
   {
    "duration": 12,
    "start_time": "2022-10-03T18:41:59.271Z"
   },
   {
    "duration": 5,
    "start_time": "2022-10-03T18:43:31.922Z"
   },
   {
    "duration": 9,
    "start_time": "2022-10-03T18:44:49.331Z"
   },
   {
    "duration": 75,
    "start_time": "2022-10-03T18:44:54.005Z"
   },
   {
    "duration": 700,
    "start_time": "2022-10-03T18:44:58.641Z"
   },
   {
    "duration": 13,
    "start_time": "2022-10-03T18:44:59.342Z"
   },
   {
    "duration": 4,
    "start_time": "2022-10-03T18:44:59.357Z"
   },
   {
    "duration": 11,
    "start_time": "2022-10-03T18:44:59.362Z"
   },
   {
    "duration": 25,
    "start_time": "2022-10-03T18:44:59.375Z"
   },
   {
    "duration": 48,
    "start_time": "2022-10-03T18:44:59.402Z"
   },
   {
    "duration": 7,
    "start_time": "2022-10-03T18:44:59.451Z"
   },
   {
    "duration": 5,
    "start_time": "2022-10-03T18:44:59.459Z"
   },
   {
    "duration": 34,
    "start_time": "2022-10-03T18:44:59.466Z"
   },
   {
    "duration": 12,
    "start_time": "2022-10-03T18:44:59.502Z"
   },
   {
    "duration": 465,
    "start_time": "2022-10-03T18:44:59.515Z"
   },
   {
    "duration": 13,
    "start_time": "2022-10-03T18:44:59.982Z"
   },
   {
    "duration": 5,
    "start_time": "2022-10-03T18:44:59.996Z"
   },
   {
    "duration": 11,
    "start_time": "2022-10-03T18:45:00.004Z"
   },
   {
    "duration": 15,
    "start_time": "2022-10-03T18:45:00.016Z"
   },
   {
    "duration": 8,
    "start_time": "2022-10-03T18:45:00.033Z"
   },
   {
    "duration": 342,
    "start_time": "2022-10-03T18:45:00.042Z"
   },
   {
    "duration": 16,
    "start_time": "2022-10-03T18:45:00.386Z"
   },
   {
    "duration": 15,
    "start_time": "2022-10-03T18:45:00.403Z"
   },
   {
    "duration": 22,
    "start_time": "2022-10-03T18:45:00.420Z"
   },
   {
    "duration": 72,
    "start_time": "2022-10-03T18:45:00.443Z"
   },
   {
    "duration": 180,
    "start_time": "2022-10-03T18:51:25.144Z"
   },
   {
    "duration": 173,
    "start_time": "2022-10-03T18:51:30.680Z"
   },
   {
    "duration": 96,
    "start_time": "2022-10-03T18:52:19.439Z"
   },
   {
    "duration": 117,
    "start_time": "2022-10-03T18:52:24.327Z"
   },
   {
    "duration": 108,
    "start_time": "2022-10-03T18:54:02.964Z"
   },
   {
    "duration": 118,
    "start_time": "2022-10-03T19:00:48.518Z"
   },
   {
    "duration": 128,
    "start_time": "2022-10-03T19:01:05.671Z"
   },
   {
    "duration": 119,
    "start_time": "2022-10-03T19:01:19.113Z"
   },
   {
    "duration": 73,
    "start_time": "2022-10-03T19:01:35.955Z"
   },
   {
    "duration": 114,
    "start_time": "2022-10-03T19:01:39.467Z"
   },
   {
    "duration": 111,
    "start_time": "2022-10-03T19:01:55.293Z"
   },
   {
    "duration": 128,
    "start_time": "2022-10-03T19:03:27.769Z"
   },
   {
    "duration": 119,
    "start_time": "2022-10-03T19:03:42.388Z"
   },
   {
    "duration": 216,
    "start_time": "2022-10-03T19:03:53.067Z"
   },
   {
    "duration": 283,
    "start_time": "2022-10-03T19:04:24.359Z"
   },
   {
    "duration": 140,
    "start_time": "2022-10-03T19:04:47.987Z"
   },
   {
    "duration": 220,
    "start_time": "2022-10-03T19:05:04.677Z"
   },
   {
    "duration": 185,
    "start_time": "2022-10-03T19:08:11.924Z"
   },
   {
    "duration": 187,
    "start_time": "2022-10-03T19:08:19.372Z"
   },
   {
    "duration": 117,
    "start_time": "2022-10-03T19:08:30.015Z"
   },
   {
    "duration": 115,
    "start_time": "2022-10-03T19:08:37.152Z"
   },
   {
    "duration": 116,
    "start_time": "2022-10-03T19:08:40.935Z"
   },
   {
    "duration": 122,
    "start_time": "2022-10-03T19:10:08.112Z"
   },
   {
    "duration": 75,
    "start_time": "2022-10-03T19:24:28.436Z"
   },
   {
    "duration": 20,
    "start_time": "2022-10-03T19:24:43.038Z"
   },
   {
    "duration": 144,
    "start_time": "2022-10-03T19:24:53.760Z"
   },
   {
    "duration": 3492,
    "start_time": "2022-10-03T19:25:12.818Z"
   },
   {
    "duration": 26,
    "start_time": "2022-10-03T19:25:34.029Z"
   },
   {
    "duration": 3698,
    "start_time": "2022-10-03T19:25:38.558Z"
   },
   {
    "duration": 224,
    "start_time": "2022-10-03T19:27:21.146Z"
   },
   {
    "duration": 214,
    "start_time": "2022-10-03T19:27:37.292Z"
   },
   {
    "duration": 70,
    "start_time": "2022-10-03T19:27:43.220Z"
   },
   {
    "duration": 207,
    "start_time": "2022-10-03T19:27:47.205Z"
   },
   {
    "duration": 197,
    "start_time": "2022-10-03T19:28:03.960Z"
   },
   {
    "duration": 190,
    "start_time": "2022-10-03T19:28:08.688Z"
   },
   {
    "duration": 154,
    "start_time": "2022-10-03T19:28:16.969Z"
   },
   {
    "duration": 109,
    "start_time": "2022-10-03T19:28:45.700Z"
   },
   {
    "duration": 144,
    "start_time": "2022-10-03T19:29:02.958Z"
   },
   {
    "duration": 160,
    "start_time": "2022-10-03T19:29:44.652Z"
   },
   {
    "duration": 158,
    "start_time": "2022-10-03T19:30:10.719Z"
   },
   {
    "duration": 156,
    "start_time": "2022-10-03T19:32:35.817Z"
   },
   {
    "duration": 168,
    "start_time": "2022-10-03T19:32:53.643Z"
   },
   {
    "duration": 175,
    "start_time": "2022-10-03T19:33:06.125Z"
   },
   {
    "duration": 166,
    "start_time": "2022-10-03T19:33:20.278Z"
   },
   {
    "duration": 287,
    "start_time": "2022-10-03T19:33:37.377Z"
   },
   {
    "duration": 180,
    "start_time": "2022-10-03T19:34:00.732Z"
   },
   {
    "duration": 172,
    "start_time": "2022-10-03T19:34:05.949Z"
   },
   {
    "duration": 162,
    "start_time": "2022-10-03T19:35:18.269Z"
   },
   {
    "duration": 185,
    "start_time": "2022-10-03T19:35:54.738Z"
   },
   {
    "duration": 185,
    "start_time": "2022-10-03T19:36:38.084Z"
   },
   {
    "duration": 241,
    "start_time": "2022-10-03T19:37:16.460Z"
   },
   {
    "duration": 204,
    "start_time": "2022-10-03T19:37:25.253Z"
   },
   {
    "duration": 201,
    "start_time": "2022-10-03T19:37:39.247Z"
   },
   {
    "duration": 217,
    "start_time": "2022-10-03T19:38:39.246Z"
   },
   {
    "duration": 227,
    "start_time": "2022-10-03T19:38:51.360Z"
   },
   {
    "duration": 234,
    "start_time": "2022-10-03T19:39:10.442Z"
   },
   {
    "duration": 221,
    "start_time": "2022-10-03T19:39:25.043Z"
   },
   {
    "duration": 246,
    "start_time": "2022-10-03T19:40:45.782Z"
   },
   {
    "duration": 243,
    "start_time": "2022-10-03T19:40:55.727Z"
   },
   {
    "duration": 223,
    "start_time": "2022-10-03T19:41:35.100Z"
   },
   {
    "duration": 225,
    "start_time": "2022-10-03T19:41:50.413Z"
   },
   {
    "duration": 289,
    "start_time": "2022-10-03T19:42:26.202Z"
   },
   {
    "duration": 275,
    "start_time": "2022-10-03T19:43:42.820Z"
   },
   {
    "duration": 431,
    "start_time": "2022-10-03T19:46:00.876Z"
   },
   {
    "duration": 288,
    "start_time": "2022-10-03T19:54:54.143Z"
   },
   {
    "duration": 257,
    "start_time": "2022-10-03T19:55:54.678Z"
   },
   {
    "duration": 291,
    "start_time": "2022-10-03T19:56:22.529Z"
   },
   {
    "duration": 260,
    "start_time": "2022-10-03T19:56:32.867Z"
   },
   {
    "duration": 12,
    "start_time": "2022-10-03T20:15:07.548Z"
   },
   {
    "duration": 8,
    "start_time": "2022-10-03T20:15:17.301Z"
   },
   {
    "duration": 9,
    "start_time": "2022-10-03T20:15:41.889Z"
   },
   {
    "duration": 9,
    "start_time": "2022-10-03T20:16:56.594Z"
   },
   {
    "duration": 7,
    "start_time": "2022-10-03T20:17:00.442Z"
   },
   {
    "duration": 72,
    "start_time": "2022-10-03T20:19:40.982Z"
   },
   {
    "duration": 18,
    "start_time": "2022-10-03T20:19:48.631Z"
   },
   {
    "duration": 6,
    "start_time": "2022-10-03T20:19:59.593Z"
   },
   {
    "duration": 18,
    "start_time": "2022-10-03T20:20:03.824Z"
   },
   {
    "duration": 18,
    "start_time": "2022-10-03T20:20:23.058Z"
   },
   {
    "duration": 25,
    "start_time": "2022-10-03T20:20:49.631Z"
   },
   {
    "duration": 29,
    "start_time": "2022-10-03T20:20:55.031Z"
   },
   {
    "duration": 19,
    "start_time": "2022-10-03T20:21:08.785Z"
   },
   {
    "duration": 3,
    "start_time": "2022-10-03T20:23:16.584Z"
   },
   {
    "duration": 8,
    "start_time": "2022-10-03T20:24:30.034Z"
   },
   {
    "duration": 4,
    "start_time": "2022-10-03T20:24:34.234Z"
   },
   {
    "duration": 21,
    "start_time": "2022-10-03T20:24:38.282Z"
   },
   {
    "duration": 23,
    "start_time": "2022-10-03T20:26:44.251Z"
   },
   {
    "duration": 16,
    "start_time": "2022-10-03T20:26:57.157Z"
   },
   {
    "duration": 15,
    "start_time": "2022-10-03T20:27:39.097Z"
   },
   {
    "duration": 16,
    "start_time": "2022-10-03T20:27:49.338Z"
   },
   {
    "duration": 613,
    "start_time": "2022-10-03T20:27:55.345Z"
   },
   {
    "duration": 16,
    "start_time": "2022-10-03T20:27:55.960Z"
   },
   {
    "duration": 4,
    "start_time": "2022-10-03T20:27:55.977Z"
   },
   {
    "duration": 11,
    "start_time": "2022-10-03T20:27:55.983Z"
   },
   {
    "duration": 15,
    "start_time": "2022-10-03T20:27:55.996Z"
   },
   {
    "duration": 53,
    "start_time": "2022-10-03T20:27:56.012Z"
   },
   {
    "duration": 6,
    "start_time": "2022-10-03T20:27:56.066Z"
   },
   {
    "duration": 23,
    "start_time": "2022-10-03T20:27:56.074Z"
   },
   {
    "duration": 10,
    "start_time": "2022-10-03T20:27:56.099Z"
   },
   {
    "duration": 11,
    "start_time": "2022-10-03T20:27:56.111Z"
   },
   {
    "duration": 452,
    "start_time": "2022-10-03T20:27:56.123Z"
   },
   {
    "duration": 5,
    "start_time": "2022-10-03T20:27:56.577Z"
   },
   {
    "duration": 15,
    "start_time": "2022-10-03T20:27:56.584Z"
   },
   {
    "duration": 11,
    "start_time": "2022-10-03T20:27:56.601Z"
   },
   {
    "duration": 9,
    "start_time": "2022-10-03T20:27:56.614Z"
   },
   {
    "duration": 7,
    "start_time": "2022-10-03T20:27:56.625Z"
   },
   {
    "duration": 365,
    "start_time": "2022-10-03T20:27:56.633Z"
   },
   {
    "duration": 9,
    "start_time": "2022-10-03T20:27:57.000Z"
   },
   {
    "duration": 7,
    "start_time": "2022-10-03T20:27:57.011Z"
   },
   {
    "duration": 13,
    "start_time": "2022-10-03T20:27:57.019Z"
   },
   {
    "duration": 285,
    "start_time": "2022-10-03T20:27:57.033Z"
   },
   {
    "duration": 15,
    "start_time": "2022-10-03T20:27:57.320Z"
   },
   {
    "duration": 15,
    "start_time": "2022-10-03T20:27:57.337Z"
   },
   {
    "duration": 10,
    "start_time": "2022-10-03T20:29:15.038Z"
   },
   {
    "duration": 11,
    "start_time": "2022-10-03T20:29:50.113Z"
   },
   {
    "duration": 10,
    "start_time": "2022-10-03T20:30:29.791Z"
   },
   {
    "duration": 10,
    "start_time": "2022-10-03T20:30:37.744Z"
   },
   {
    "duration": 209,
    "start_time": "2022-10-03T20:32:45.240Z"
   },
   {
    "duration": 285,
    "start_time": "2022-10-03T20:33:05.779Z"
   },
   {
    "duration": 138,
    "start_time": "2022-10-03T20:34:10.586Z"
   },
   {
    "duration": 10,
    "start_time": "2022-10-03T20:34:18.147Z"
   },
   {
    "duration": 231,
    "start_time": "2022-10-03T20:35:09.673Z"
   },
   {
    "duration": 4,
    "start_time": "2022-10-03T20:36:40.524Z"
   },
   {
    "duration": 190,
    "start_time": "2022-10-03T20:40:26.802Z"
   },
   {
    "duration": 309,
    "start_time": "2022-10-03T20:40:37.233Z"
   },
   {
    "duration": 11,
    "start_time": "2022-10-03T20:41:44.505Z"
   },
   {
    "duration": 241,
    "start_time": "2022-10-03T20:41:48.273Z"
   },
   {
    "duration": 320,
    "start_time": "2022-10-03T20:42:26.542Z"
   },
   {
    "duration": 92,
    "start_time": "2022-10-03T20:43:07.140Z"
   },
   {
    "duration": 69,
    "start_time": "2022-10-03T20:43:11.203Z"
   },
   {
    "duration": 173,
    "start_time": "2022-10-03T20:43:15.348Z"
   },
   {
    "duration": 83,
    "start_time": "2022-10-03T21:09:18.172Z"
   },
   {
    "duration": 92,
    "start_time": "2022-10-03T21:09:23.461Z"
   },
   {
    "duration": 84,
    "start_time": "2022-10-03T21:09:30.046Z"
   },
   {
    "duration": 102,
    "start_time": "2022-10-03T21:10:41.175Z"
   },
   {
    "duration": 226,
    "start_time": "2022-10-03T21:11:06.394Z"
   },
   {
    "duration": 183,
    "start_time": "2022-10-03T21:11:28.021Z"
   },
   {
    "duration": 122,
    "start_time": "2022-10-03T21:11:34.981Z"
   },
   {
    "duration": 88,
    "start_time": "2022-10-03T21:12:42.989Z"
   },
   {
    "duration": 211,
    "start_time": "2022-10-03T21:12:48.399Z"
   },
   {
    "duration": 326,
    "start_time": "2022-10-03T21:13:28.043Z"
   },
   {
    "duration": 216,
    "start_time": "2022-10-03T21:13:54.727Z"
   },
   {
    "duration": 115,
    "start_time": "2022-10-03T21:17:00.246Z"
   },
   {
    "duration": 539,
    "start_time": "2022-10-03T21:21:43.121Z"
   },
   {
    "duration": 1106,
    "start_time": "2022-10-03T21:21:48.724Z"
   },
   {
    "duration": 14,
    "start_time": "2022-10-03T21:21:49.832Z"
   },
   {
    "duration": 3,
    "start_time": "2022-10-03T21:21:49.847Z"
   },
   {
    "duration": 10,
    "start_time": "2022-10-03T21:21:49.852Z"
   },
   {
    "duration": 33,
    "start_time": "2022-10-03T21:21:49.863Z"
   },
   {
    "duration": 48,
    "start_time": "2022-10-03T21:21:49.898Z"
   },
   {
    "duration": 6,
    "start_time": "2022-10-03T21:21:49.948Z"
   },
   {
    "duration": 9,
    "start_time": "2022-10-03T21:21:49.956Z"
   },
   {
    "duration": 29,
    "start_time": "2022-10-03T21:21:49.966Z"
   },
   {
    "duration": 12,
    "start_time": "2022-10-03T21:21:49.998Z"
   },
   {
    "duration": 444,
    "start_time": "2022-10-03T21:21:50.011Z"
   },
   {
    "duration": 5,
    "start_time": "2022-10-03T21:21:50.457Z"
   },
   {
    "duration": 6,
    "start_time": "2022-10-03T21:21:50.464Z"
   },
   {
    "duration": 24,
    "start_time": "2022-10-03T21:21:50.472Z"
   },
   {
    "duration": 5,
    "start_time": "2022-10-03T21:21:50.498Z"
   },
   {
    "duration": 12,
    "start_time": "2022-10-03T21:21:50.504Z"
   },
   {
    "duration": 328,
    "start_time": "2022-10-03T21:21:50.517Z"
   },
   {
    "duration": 13,
    "start_time": "2022-10-03T21:21:50.847Z"
   },
   {
    "duration": 12,
    "start_time": "2022-10-03T21:21:50.862Z"
   },
   {
    "duration": 27,
    "start_time": "2022-10-03T21:21:50.876Z"
   },
   {
    "duration": 273,
    "start_time": "2022-10-03T21:21:50.904Z"
   },
   {
    "duration": 203,
    "start_time": "2022-10-03T21:21:51.179Z"
   },
   {
    "duration": 0,
    "start_time": "2022-10-03T21:21:51.383Z"
   },
   {
    "duration": 0,
    "start_time": "2022-10-03T21:21:51.385Z"
   },
   {
    "duration": 0,
    "start_time": "2022-10-03T21:21:51.386Z"
   },
   {
    "duration": 0,
    "start_time": "2022-10-03T21:21:51.395Z"
   },
   {
    "duration": 0,
    "start_time": "2022-10-03T21:21:51.396Z"
   },
   {
    "duration": 1163,
    "start_time": "2022-10-03T21:23:22.687Z"
   },
   {
    "duration": 12,
    "start_time": "2022-10-03T21:23:23.852Z"
   },
   {
    "duration": 4,
    "start_time": "2022-10-03T21:23:23.865Z"
   },
   {
    "duration": 9,
    "start_time": "2022-10-03T21:23:23.870Z"
   },
   {
    "duration": 18,
    "start_time": "2022-10-03T21:23:23.881Z"
   },
   {
    "duration": 51,
    "start_time": "2022-10-03T21:23:23.900Z"
   },
   {
    "duration": 6,
    "start_time": "2022-10-03T21:23:23.953Z"
   },
   {
    "duration": 7,
    "start_time": "2022-10-03T21:23:23.960Z"
   },
   {
    "duration": 31,
    "start_time": "2022-10-03T21:23:23.968Z"
   },
   {
    "duration": 12,
    "start_time": "2022-10-03T21:23:24.000Z"
   },
   {
    "duration": 445,
    "start_time": "2022-10-03T21:23:24.013Z"
   },
   {
    "duration": 5,
    "start_time": "2022-10-03T21:23:24.460Z"
   },
   {
    "duration": 9,
    "start_time": "2022-10-03T21:23:24.466Z"
   },
   {
    "duration": 19,
    "start_time": "2022-10-03T21:23:24.477Z"
   },
   {
    "duration": 5,
    "start_time": "2022-10-03T21:23:24.498Z"
   },
   {
    "duration": 6,
    "start_time": "2022-10-03T21:23:24.504Z"
   },
   {
    "duration": 335,
    "start_time": "2022-10-03T21:23:24.512Z"
   },
   {
    "duration": 9,
    "start_time": "2022-10-03T21:23:24.849Z"
   },
   {
    "duration": 7,
    "start_time": "2022-10-03T21:23:24.860Z"
   },
   {
    "duration": 33,
    "start_time": "2022-10-03T21:23:24.869Z"
   },
   {
    "duration": 270,
    "start_time": "2022-10-03T21:23:24.904Z"
   },
   {
    "duration": 21,
    "start_time": "2022-10-03T21:23:25.175Z"
   },
   {
    "duration": 13,
    "start_time": "2022-10-03T21:23:25.197Z"
   },
   {
    "duration": 114,
    "start_time": "2022-10-03T21:23:25.212Z"
   },
   {
    "duration": 0,
    "start_time": "2022-10-03T21:23:25.328Z"
   },
   {
    "duration": 0,
    "start_time": "2022-10-03T21:23:25.329Z"
   },
   {
    "duration": 266,
    "start_time": "2022-10-03T21:23:35.638Z"
   },
   {
    "duration": 1163,
    "start_time": "2022-10-03T21:23:40.681Z"
   },
   {
    "duration": 13,
    "start_time": "2022-10-03T21:23:41.845Z"
   },
   {
    "duration": 5,
    "start_time": "2022-10-03T21:23:41.860Z"
   },
   {
    "duration": 9,
    "start_time": "2022-10-03T21:23:41.866Z"
   },
   {
    "duration": 21,
    "start_time": "2022-10-03T21:23:41.877Z"
   },
   {
    "duration": 50,
    "start_time": "2022-10-03T21:23:41.900Z"
   },
   {
    "duration": 7,
    "start_time": "2022-10-03T21:23:41.952Z"
   },
   {
    "duration": 6,
    "start_time": "2022-10-03T21:23:41.960Z"
   },
   {
    "duration": 33,
    "start_time": "2022-10-03T21:23:41.967Z"
   },
   {
    "duration": 13,
    "start_time": "2022-10-03T21:23:42.001Z"
   },
   {
    "duration": 442,
    "start_time": "2022-10-03T21:23:42.016Z"
   },
   {
    "duration": 4,
    "start_time": "2022-10-03T21:23:42.460Z"
   },
   {
    "duration": 5,
    "start_time": "2022-10-03T21:23:42.466Z"
   },
   {
    "duration": 24,
    "start_time": "2022-10-03T21:23:42.473Z"
   },
   {
    "duration": 5,
    "start_time": "2022-10-03T21:23:42.499Z"
   },
   {
    "duration": 6,
    "start_time": "2022-10-03T21:23:42.505Z"
   },
   {
    "duration": 347,
    "start_time": "2022-10-03T21:23:42.512Z"
   },
   {
    "duration": 8,
    "start_time": "2022-10-03T21:23:42.860Z"
   },
   {
    "duration": 9,
    "start_time": "2022-10-03T21:23:42.870Z"
   },
   {
    "duration": 13,
    "start_time": "2022-10-03T21:23:42.896Z"
   },
   {
    "duration": 266,
    "start_time": "2022-10-03T21:23:42.910Z"
   },
   {
    "duration": 24,
    "start_time": "2022-10-03T21:23:43.178Z"
   },
   {
    "duration": 11,
    "start_time": "2022-10-03T21:23:43.203Z"
   },
   {
    "duration": 284,
    "start_time": "2022-10-03T21:23:43.216Z"
   },
   {
    "duration": 307,
    "start_time": "2022-10-03T21:23:43.502Z"
   },
   {
    "duration": 129,
    "start_time": "2022-10-03T21:23:43.811Z"
   },
   {
    "duration": 211,
    "start_time": "2022-10-03T21:24:34.994Z"
   },
   {
    "duration": 192,
    "start_time": "2022-10-03T21:25:14.863Z"
   },
   {
    "duration": 215,
    "start_time": "2022-10-03T21:25:24.264Z"
   },
   {
    "duration": 224,
    "start_time": "2022-10-03T21:26:01.782Z"
   },
   {
    "duration": 8,
    "start_time": "2022-10-03T21:26:49.522Z"
   },
   {
    "duration": 12,
    "start_time": "2022-10-03T21:27:53.827Z"
   },
   {
    "duration": 226,
    "start_time": "2022-10-03T21:30:42.488Z"
   },
   {
    "duration": 236,
    "start_time": "2022-10-03T21:30:50.200Z"
   },
   {
    "duration": 374,
    "start_time": "2022-10-03T21:31:01.179Z"
   },
   {
    "duration": 230,
    "start_time": "2022-10-03T21:32:25.380Z"
   },
   {
    "duration": 199,
    "start_time": "2022-10-03T21:32:38.206Z"
   },
   {
    "duration": 92,
    "start_time": "2022-10-03T21:33:11.514Z"
   },
   {
    "duration": 26,
    "start_time": "2022-10-03T21:33:16.010Z"
   },
   {
    "duration": 262,
    "start_time": "2022-10-03T21:33:37.093Z"
   },
   {
    "duration": 233,
    "start_time": "2022-10-03T21:33:44.022Z"
   },
   {
    "duration": 91,
    "start_time": "2022-10-03T21:33:49.975Z"
   },
   {
    "duration": 256,
    "start_time": "2022-10-03T21:34:02.584Z"
   },
   {
    "duration": 243,
    "start_time": "2022-10-03T21:34:09.257Z"
   },
   {
    "duration": 276,
    "start_time": "2022-10-03T21:34:41.237Z"
   },
   {
    "duration": 235,
    "start_time": "2022-10-03T21:35:03.207Z"
   },
   {
    "duration": 376,
    "start_time": "2022-10-03T21:35:09.881Z"
   },
   {
    "duration": 252,
    "start_time": "2022-10-03T21:35:17.068Z"
   },
   {
    "duration": 261,
    "start_time": "2022-10-03T21:35:22.801Z"
   },
   {
    "duration": 235,
    "start_time": "2022-10-03T21:36:27.530Z"
   },
   {
    "duration": 2,
    "start_time": "2022-10-03T21:37:33.883Z"
   },
   {
    "duration": 74,
    "start_time": "2022-10-03T21:38:36.603Z"
   },
   {
    "duration": 79,
    "start_time": "2022-10-03T21:39:08.662Z"
   },
   {
    "duration": 74,
    "start_time": "2022-10-03T21:39:14.407Z"
   },
   {
    "duration": 77,
    "start_time": "2022-10-03T21:39:22.368Z"
   },
   {
    "duration": 81,
    "start_time": "2022-10-03T21:39:28.465Z"
   },
   {
    "duration": 108,
    "start_time": "2022-10-03T21:39:58.076Z"
   },
   {
    "duration": 112,
    "start_time": "2022-10-03T21:40:03.397Z"
   },
   {
    "duration": 110,
    "start_time": "2022-10-03T21:40:21.135Z"
   },
   {
    "duration": 8,
    "start_time": "2022-10-03T21:43:38.768Z"
   },
   {
    "duration": 11,
    "start_time": "2022-10-03T21:46:40.221Z"
   },
   {
    "duration": 6,
    "start_time": "2022-10-03T21:46:49.855Z"
   },
   {
    "duration": 236,
    "start_time": "2022-10-03T21:46:59.624Z"
   },
   {
    "duration": 5,
    "start_time": "2022-10-03T21:47:06.905Z"
   },
   {
    "duration": 271,
    "start_time": "2022-10-03T21:49:16.465Z"
   },
   {
    "duration": 263,
    "start_time": "2022-10-03T21:50:54.973Z"
   },
   {
    "duration": 254,
    "start_time": "2022-10-03T21:51:07.103Z"
   },
   {
    "duration": 443,
    "start_time": "2022-10-03T21:51:37.027Z"
   },
   {
    "duration": 87,
    "start_time": "2022-10-03T21:53:52.252Z"
   },
   {
    "duration": 74,
    "start_time": "2022-10-03T21:56:08.221Z"
   },
   {
    "duration": 1591,
    "start_time": "2022-10-04T08:32:42.196Z"
   },
   {
    "duration": 1225,
    "start_time": "2022-10-04T08:32:47.712Z"
   },
   {
    "duration": 13,
    "start_time": "2022-10-04T08:32:48.939Z"
   },
   {
    "duration": 12,
    "start_time": "2022-10-04T08:32:48.954Z"
   },
   {
    "duration": 10,
    "start_time": "2022-10-04T08:32:48.967Z"
   },
   {
    "duration": 22,
    "start_time": "2022-10-04T08:32:48.979Z"
   },
   {
    "duration": 51,
    "start_time": "2022-10-04T08:32:49.003Z"
   },
   {
    "duration": 6,
    "start_time": "2022-10-04T08:32:49.056Z"
   },
   {
    "duration": 9,
    "start_time": "2022-10-04T08:32:49.064Z"
   },
   {
    "duration": 28,
    "start_time": "2022-10-04T08:32:49.074Z"
   },
   {
    "duration": 13,
    "start_time": "2022-10-04T08:32:49.104Z"
   },
   {
    "duration": 456,
    "start_time": "2022-10-04T08:32:49.118Z"
   },
   {
    "duration": 5,
    "start_time": "2022-10-04T08:32:49.576Z"
   },
   {
    "duration": 15,
    "start_time": "2022-10-04T08:32:49.582Z"
   },
   {
    "duration": 7,
    "start_time": "2022-10-04T08:32:49.599Z"
   },
   {
    "duration": 6,
    "start_time": "2022-10-04T08:32:49.608Z"
   },
   {
    "duration": 7,
    "start_time": "2022-10-04T08:32:49.615Z"
   },
   {
    "duration": 337,
    "start_time": "2022-10-04T08:32:49.623Z"
   },
   {
    "duration": 9,
    "start_time": "2022-10-04T08:32:49.961Z"
   },
   {
    "duration": 6,
    "start_time": "2022-10-04T08:32:49.972Z"
   },
   {
    "duration": 12,
    "start_time": "2022-10-04T08:32:49.995Z"
   },
   {
    "duration": 280,
    "start_time": "2022-10-04T08:32:50.008Z"
   },
   {
    "duration": 20,
    "start_time": "2022-10-04T08:32:50.289Z"
   },
   {
    "duration": 17,
    "start_time": "2022-10-04T08:32:50.310Z"
   },
   {
    "duration": 299,
    "start_time": "2022-10-04T08:32:50.329Z"
   },
   {
    "duration": 326,
    "start_time": "2022-10-04T08:32:50.630Z"
   },
   {
    "duration": 126,
    "start_time": "2022-10-04T08:32:50.958Z"
   },
   {
    "duration": 14,
    "start_time": "2022-10-04T08:32:51.086Z"
   },
   {
    "duration": 9,
    "start_time": "2022-10-04T08:32:51.101Z"
   },
   {
    "duration": 345,
    "start_time": "2022-10-04T08:32:51.111Z"
   },
   {
    "duration": 25,
    "start_time": "2022-10-04T08:41:26.751Z"
   },
   {
    "duration": 16,
    "start_time": "2022-10-04T08:42:25.054Z"
   },
   {
    "duration": 94,
    "start_time": "2022-10-04T08:42:30.886Z"
   },
   {
    "duration": 6,
    "start_time": "2022-10-04T08:42:37.695Z"
   },
   {
    "duration": 8,
    "start_time": "2022-10-04T08:42:46.609Z"
   },
   {
    "duration": 6,
    "start_time": "2022-10-04T08:42:57.226Z"
   },
   {
    "duration": 6,
    "start_time": "2022-10-04T08:43:03.332Z"
   },
   {
    "duration": 343,
    "start_time": "2022-10-04T08:43:43.792Z"
   },
   {
    "duration": 299,
    "start_time": "2022-10-04T08:43:55.321Z"
   },
   {
    "duration": 7,
    "start_time": "2022-10-04T08:44:27.901Z"
   },
   {
    "duration": 6,
    "start_time": "2022-10-04T08:44:43.927Z"
   },
   {
    "duration": 6,
    "start_time": "2022-10-04T08:44:45.606Z"
   },
   {
    "duration": 5,
    "start_time": "2022-10-04T08:44:45.872Z"
   },
   {
    "duration": 11,
    "start_time": "2022-10-04T08:44:57.798Z"
   },
   {
    "duration": 9,
    "start_time": "2022-10-04T08:45:11.547Z"
   },
   {
    "duration": 103,
    "start_time": "2022-10-04T08:45:39.319Z"
   },
   {
    "duration": 10,
    "start_time": "2022-10-04T08:45:45.262Z"
   },
   {
    "duration": 97,
    "start_time": "2022-10-04T08:45:51.350Z"
   },
   {
    "duration": 10,
    "start_time": "2022-10-04T08:46:07.825Z"
   },
   {
    "duration": 11,
    "start_time": "2022-10-04T08:46:57.344Z"
   },
   {
    "duration": 10,
    "start_time": "2022-10-04T08:47:57.464Z"
   },
   {
    "duration": 7,
    "start_time": "2022-10-04T08:50:31.027Z"
   },
   {
    "duration": 7,
    "start_time": "2022-10-04T08:50:36.907Z"
   },
   {
    "duration": 226,
    "start_time": "2022-10-04T08:54:49.499Z"
   },
   {
    "duration": 304,
    "start_time": "2022-10-04T08:55:02.444Z"
   },
   {
    "duration": 456,
    "start_time": "2022-10-04T08:56:55.275Z"
   },
   {
    "duration": 462,
    "start_time": "2022-10-04T08:57:48.441Z"
   },
   {
    "duration": 11,
    "start_time": "2022-10-04T08:59:51.343Z"
   },
   {
    "duration": 482,
    "start_time": "2022-10-04T09:01:32.182Z"
   },
   {
    "duration": 213,
    "start_time": "2022-10-04T09:09:47.953Z"
   },
   {
    "duration": 303,
    "start_time": "2022-10-04T09:09:55.252Z"
   },
   {
    "duration": 143,
    "start_time": "2022-10-04T09:12:35.036Z"
   },
   {
    "duration": 5,
    "start_time": "2022-10-04T09:12:44.285Z"
   },
   {
    "duration": 8,
    "start_time": "2022-10-04T09:12:48.829Z"
   },
   {
    "duration": 6,
    "start_time": "2022-10-04T09:12:50.653Z"
   },
   {
    "duration": 27,
    "start_time": "2022-10-04T09:18:12.787Z"
   },
   {
    "duration": 27,
    "start_time": "2022-10-04T09:18:26.845Z"
   },
   {
    "duration": 14,
    "start_time": "2022-10-04T09:18:46.356Z"
   },
   {
    "duration": 14,
    "start_time": "2022-10-04T09:19:00.096Z"
   },
   {
    "duration": 12,
    "start_time": "2022-10-04T09:19:06.016Z"
   },
   {
    "duration": 75,
    "start_time": "2022-10-04T09:20:39.445Z"
   },
   {
    "duration": 12,
    "start_time": "2022-10-04T09:22:54.892Z"
   },
   {
    "duration": 100,
    "start_time": "2022-10-04T09:24:03.620Z"
   },
   {
    "duration": 115,
    "start_time": "2022-10-04T09:25:03.596Z"
   },
   {
    "duration": 78,
    "start_time": "2022-10-04T09:25:27.631Z"
   },
   {
    "duration": 113,
    "start_time": "2022-10-04T09:25:45.393Z"
   },
   {
    "duration": 104,
    "start_time": "2022-10-04T09:25:59.275Z"
   },
   {
    "duration": 75,
    "start_time": "2022-10-04T09:26:04.948Z"
   },
   {
    "duration": 119,
    "start_time": "2022-10-04T09:26:19.381Z"
   },
   {
    "duration": 104,
    "start_time": "2022-10-04T09:26:22.629Z"
   },
   {
    "duration": 140,
    "start_time": "2022-10-04T09:28:20.116Z"
   },
   {
    "duration": 133,
    "start_time": "2022-10-04T09:28:55.047Z"
   },
   {
    "duration": 137,
    "start_time": "2022-10-04T09:29:15.106Z"
   },
   {
    "duration": 130,
    "start_time": "2022-10-04T09:29:39.237Z"
   },
   {
    "duration": 218,
    "start_time": "2022-10-04T09:29:47.502Z"
   },
   {
    "duration": 138,
    "start_time": "2022-10-04T09:29:53.326Z"
   },
   {
    "duration": 124,
    "start_time": "2022-10-04T09:29:57.528Z"
   },
   {
    "duration": 134,
    "start_time": "2022-10-04T09:30:28.683Z"
   },
   {
    "duration": 143,
    "start_time": "2022-10-04T09:30:47.885Z"
   },
   {
    "duration": 149,
    "start_time": "2022-10-04T09:31:14.289Z"
   },
   {
    "duration": 143,
    "start_time": "2022-10-04T09:31:31.203Z"
   },
   {
    "duration": 236,
    "start_time": "2022-10-04T09:32:16.696Z"
   },
   {
    "duration": 188,
    "start_time": "2022-10-04T09:32:31.971Z"
   },
   {
    "duration": 189,
    "start_time": "2022-10-04T09:32:37.307Z"
   },
   {
    "duration": 9,
    "start_time": "2022-10-04T09:38:54.176Z"
   },
   {
    "duration": 8,
    "start_time": "2022-10-04T09:39:03.098Z"
   },
   {
    "duration": 6,
    "start_time": "2022-10-04T09:39:10.603Z"
   },
   {
    "duration": 5,
    "start_time": "2022-10-04T09:42:36.596Z"
   },
   {
    "duration": 10,
    "start_time": "2022-10-04T09:42:55.985Z"
   },
   {
    "duration": 5,
    "start_time": "2022-10-04T09:43:04.304Z"
   },
   {
    "duration": 6,
    "start_time": "2022-10-04T09:43:52.138Z"
   },
   {
    "duration": 4,
    "start_time": "2022-10-04T09:44:16.473Z"
   },
   {
    "duration": 5,
    "start_time": "2022-10-04T09:44:28.218Z"
   },
   {
    "duration": 186,
    "start_time": "2022-10-04T09:45:48.036Z"
   },
   {
    "duration": 187,
    "start_time": "2022-10-04T09:45:59.509Z"
   },
   {
    "duration": 248,
    "start_time": "2022-10-04T09:47:11.277Z"
   },
   {
    "duration": 392,
    "start_time": "2022-10-04T09:47:19.446Z"
   },
   {
    "duration": 244,
    "start_time": "2022-10-04T09:47:23.504Z"
   },
   {
    "duration": 179,
    "start_time": "2022-10-04T09:47:31.600Z"
   },
   {
    "duration": 248,
    "start_time": "2022-10-04T09:47:35.977Z"
   },
   {
    "duration": 283,
    "start_time": "2022-10-04T09:47:53.212Z"
   },
   {
    "duration": 297,
    "start_time": "2022-10-04T09:48:10.238Z"
   },
   {
    "duration": 268,
    "start_time": "2022-10-04T09:48:14.638Z"
   },
   {
    "duration": 188,
    "start_time": "2022-10-04T09:48:25.361Z"
   },
   {
    "duration": 286,
    "start_time": "2022-10-04T09:48:29.097Z"
   },
   {
    "duration": 314,
    "start_time": "2022-10-04T09:48:33.105Z"
   },
   {
    "duration": 363,
    "start_time": "2022-10-04T09:48:37.241Z"
   },
   {
    "duration": 272,
    "start_time": "2022-10-04T09:48:41.873Z"
   },
   {
    "duration": 1095,
    "start_time": "2022-10-04T09:48:46.853Z"
   },
   {
    "duration": 14,
    "start_time": "2022-10-04T09:48:47.951Z"
   },
   {
    "duration": 4,
    "start_time": "2022-10-04T09:48:47.967Z"
   },
   {
    "duration": 15,
    "start_time": "2022-10-04T09:48:47.972Z"
   },
   {
    "duration": 19,
    "start_time": "2022-10-04T09:48:47.989Z"
   },
   {
    "duration": 55,
    "start_time": "2022-10-04T09:48:48.010Z"
   },
   {
    "duration": 8,
    "start_time": "2022-10-04T09:48:48.066Z"
   },
   {
    "duration": 26,
    "start_time": "2022-10-04T09:48:48.075Z"
   },
   {
    "duration": 15,
    "start_time": "2022-10-04T09:48:48.103Z"
   },
   {
    "duration": 11,
    "start_time": "2022-10-04T09:48:48.119Z"
   },
   {
    "duration": 460,
    "start_time": "2022-10-04T09:48:48.131Z"
   },
   {
    "duration": 4,
    "start_time": "2022-10-04T09:48:48.595Z"
   },
   {
    "duration": 6,
    "start_time": "2022-10-04T09:48:48.601Z"
   },
   {
    "duration": 6,
    "start_time": "2022-10-04T09:48:48.609Z"
   },
   {
    "duration": 7,
    "start_time": "2022-10-04T09:48:48.616Z"
   },
   {
    "duration": 5,
    "start_time": "2022-10-04T09:48:48.624Z"
   },
   {
    "duration": 337,
    "start_time": "2022-10-04T09:48:48.631Z"
   },
   {
    "duration": 8,
    "start_time": "2022-10-04T09:48:48.970Z"
   },
   {
    "duration": 19,
    "start_time": "2022-10-04T09:48:48.980Z"
   },
   {
    "duration": 12,
    "start_time": "2022-10-04T09:48:49.001Z"
   },
   {
    "duration": 272,
    "start_time": "2022-10-04T09:48:49.015Z"
   },
   {
    "duration": 10,
    "start_time": "2022-10-04T09:48:49.289Z"
   },
   {
    "duration": 7,
    "start_time": "2022-10-04T09:48:49.301Z"
   },
   {
    "duration": 12,
    "start_time": "2022-10-04T09:48:49.309Z"
   },
   {
    "duration": 10,
    "start_time": "2022-10-04T09:48:49.323Z"
   },
   {
    "duration": 493,
    "start_time": "2022-10-04T09:48:49.335Z"
   },
   {
    "duration": 317,
    "start_time": "2022-10-04T09:48:49.830Z"
   },
   {
    "duration": 111,
    "start_time": "2022-10-04T09:48:50.149Z"
   },
   {
    "duration": 9,
    "start_time": "2022-10-04T09:48:50.262Z"
   },
   {
    "duration": 11,
    "start_time": "2022-10-04T09:48:50.272Z"
   },
   {
    "duration": 102,
    "start_time": "2022-10-04T09:48:50.295Z"
   },
   {
    "duration": 0,
    "start_time": "2022-10-04T09:48:50.399Z"
   },
   {
    "duration": 0,
    "start_time": "2022-10-04T09:48:50.401Z"
   },
   {
    "duration": 13,
    "start_time": "2022-10-04T09:49:05.789Z"
   },
   {
    "duration": 393,
    "start_time": "2022-10-04T09:49:16.550Z"
   },
   {
    "duration": 283,
    "start_time": "2022-10-04T09:49:19.614Z"
   },
   {
    "duration": 284,
    "start_time": "2022-10-04T09:50:44.881Z"
   },
   {
    "duration": 289,
    "start_time": "2022-10-04T09:50:51.825Z"
   },
   {
    "duration": 303,
    "start_time": "2022-10-04T09:50:59.627Z"
   },
   {
    "duration": 324,
    "start_time": "2022-10-04T09:51:09.180Z"
   },
   {
    "duration": 195,
    "start_time": "2022-10-04T09:51:21.261Z"
   },
   {
    "duration": 335,
    "start_time": "2022-10-04T09:51:26.670Z"
   },
   {
    "duration": 222,
    "start_time": "2022-10-04T09:52:08.683Z"
   },
   {
    "duration": 242,
    "start_time": "2022-10-04T09:52:22.773Z"
   },
   {
    "duration": 328,
    "start_time": "2022-10-04T09:52:33.151Z"
   },
   {
    "duration": 281,
    "start_time": "2022-10-04T09:52:40.183Z"
   },
   {
    "duration": 305,
    "start_time": "2022-10-04T09:52:45.799Z"
   },
   {
    "duration": 329,
    "start_time": "2022-10-04T09:53:51.157Z"
   },
   {
    "duration": 253,
    "start_time": "2022-10-04T09:54:09.466Z"
   },
   {
    "duration": 387,
    "start_time": "2022-10-04T09:54:16.371Z"
   },
   {
    "duration": 329,
    "start_time": "2022-10-04T09:54:39.046Z"
   },
   {
    "duration": 337,
    "start_time": "2022-10-04T09:54:55.144Z"
   },
   {
    "duration": 350,
    "start_time": "2022-10-04T09:55:01.825Z"
   },
   {
    "duration": 337,
    "start_time": "2022-10-04T09:55:08.343Z"
   },
   {
    "duration": 348,
    "start_time": "2022-10-04T10:00:42.547Z"
   },
   {
    "duration": 430,
    "start_time": "2022-10-04T10:01:03.902Z"
   },
   {
    "duration": 350,
    "start_time": "2022-10-04T10:01:19.799Z"
   },
   {
    "duration": 377,
    "start_time": "2022-10-04T10:01:24.295Z"
   },
   {
    "duration": 373,
    "start_time": "2022-10-04T10:01:39.841Z"
   },
   {
    "duration": 403,
    "start_time": "2022-10-04T10:02:08.710Z"
   },
   {
    "duration": 347,
    "start_time": "2022-10-04T10:02:44.850Z"
   },
   {
    "duration": 485,
    "start_time": "2022-10-04T10:02:48.635Z"
   },
   {
    "duration": 376,
    "start_time": "2022-10-04T10:02:56.708Z"
   },
   {
    "duration": 378,
    "start_time": "2022-10-04T10:03:17.382Z"
   },
   {
    "duration": 404,
    "start_time": "2022-10-04T10:03:30.583Z"
   },
   {
    "duration": 353,
    "start_time": "2022-10-04T10:03:41.769Z"
   },
   {
    "duration": 463,
    "start_time": "2022-10-04T10:03:57.027Z"
   },
   {
    "duration": 356,
    "start_time": "2022-10-04T10:04:10.085Z"
   },
   {
    "duration": 344,
    "start_time": "2022-10-04T10:04:13.702Z"
   },
   {
    "duration": 72,
    "start_time": "2022-10-04T10:04:23.734Z"
   },
   {
    "duration": 97,
    "start_time": "2022-10-04T10:06:24.685Z"
   },
   {
    "duration": 73,
    "start_time": "2022-10-04T10:06:30.086Z"
   },
   {
    "duration": 368,
    "start_time": "2022-10-04T10:06:33.758Z"
   },
   {
    "duration": 110,
    "start_time": "2022-10-04T10:10:28.842Z"
   },
   {
    "duration": 380,
    "start_time": "2022-10-04T10:10:41.860Z"
   },
   {
    "duration": 433,
    "start_time": "2022-10-04T10:12:14.712Z"
   },
   {
    "duration": 620,
    "start_time": "2022-10-04T10:12:28.299Z"
   },
   {
    "duration": 382,
    "start_time": "2022-10-04T10:12:37.258Z"
   },
   {
    "duration": 444,
    "start_time": "2022-10-04T10:12:46.220Z"
   },
   {
    "duration": 359,
    "start_time": "2022-10-04T10:12:51.165Z"
   },
   {
    "duration": 354,
    "start_time": "2022-10-04T10:12:55.669Z"
   },
   {
    "duration": 75,
    "start_time": "2022-10-04T10:14:02.599Z"
   },
   {
    "duration": 78,
    "start_time": "2022-10-04T10:14:31.098Z"
   },
   {
    "duration": 6,
    "start_time": "2022-10-04T10:15:09.815Z"
   },
   {
    "duration": 7,
    "start_time": "2022-10-04T10:15:38.161Z"
   },
   {
    "duration": 8,
    "start_time": "2022-10-04T10:16:00.828Z"
   },
   {
    "duration": 8,
    "start_time": "2022-10-04T10:16:18.006Z"
   },
   {
    "duration": 110,
    "start_time": "2022-10-04T10:20:50.751Z"
   },
   {
    "duration": 198,
    "start_time": "2022-10-04T10:20:59.353Z"
   },
   {
    "duration": 421,
    "start_time": "2022-10-04T10:22:38.309Z"
   },
   {
    "duration": 394,
    "start_time": "2022-10-04T10:22:57.216Z"
   },
   {
    "duration": 422,
    "start_time": "2022-10-04T10:23:07.681Z"
   },
   {
    "duration": 370,
    "start_time": "2022-10-04T10:23:25.155Z"
   },
   {
    "duration": 469,
    "start_time": "2022-10-04T10:23:37.302Z"
   },
   {
    "duration": 454,
    "start_time": "2022-10-04T10:25:00.589Z"
   },
   {
    "duration": 409,
    "start_time": "2022-10-04T10:25:10.401Z"
   },
   {
    "duration": 379,
    "start_time": "2022-10-04T10:25:15.873Z"
   },
   {
    "duration": 419,
    "start_time": "2022-10-04T10:25:54.541Z"
   },
   {
    "duration": 375,
    "start_time": "2022-10-04T10:26:08.992Z"
   },
   {
    "duration": 517,
    "start_time": "2022-10-04T10:26:21.913Z"
   },
   {
    "duration": 381,
    "start_time": "2022-10-04T10:26:33.307Z"
   },
   {
    "duration": 372,
    "start_time": "2022-10-04T10:26:39.716Z"
   },
   {
    "duration": 443,
    "start_time": "2022-10-04T10:26:45.020Z"
   },
   {
    "duration": 114,
    "start_time": "2022-10-04T10:27:02.287Z"
   },
   {
    "duration": 39,
    "start_time": "2022-10-04T10:27:07.294Z"
   },
   {
    "duration": 319,
    "start_time": "2022-10-04T10:27:13.648Z"
   },
   {
    "duration": 336,
    "start_time": "2022-10-04T10:27:18.816Z"
   },
   {
    "duration": 374,
    "start_time": "2022-10-04T10:27:22.848Z"
   },
   {
    "duration": 467,
    "start_time": "2022-10-04T10:27:46.309Z"
   },
   {
    "duration": 406,
    "start_time": "2022-10-04T10:27:54.286Z"
   },
   {
    "duration": 360,
    "start_time": "2022-10-04T10:28:17.896Z"
   },
   {
    "duration": 325,
    "start_time": "2022-10-04T10:28:28.264Z"
   },
   {
    "duration": 389,
    "start_time": "2022-10-04T10:28:36.588Z"
   },
   {
    "duration": 402,
    "start_time": "2022-10-04T10:28:49.556Z"
   },
   {
    "duration": 345,
    "start_time": "2022-10-04T10:29:01.614Z"
   },
   {
    "duration": 393,
    "start_time": "2022-10-04T10:29:19.065Z"
   },
   {
    "duration": 278,
    "start_time": "2022-10-04T10:29:27.968Z"
   },
   {
    "duration": 245,
    "start_time": "2022-10-04T10:29:48.722Z"
   },
   {
    "duration": 499,
    "start_time": "2022-10-04T10:29:55.259Z"
   },
   {
    "duration": 403,
    "start_time": "2022-10-04T10:30:06.453Z"
   },
   {
    "duration": 334,
    "start_time": "2022-10-04T10:31:11.133Z"
   },
   {
    "duration": 364,
    "start_time": "2022-10-04T10:31:20.125Z"
   },
   {
    "duration": 427,
    "start_time": "2022-10-04T10:31:31.511Z"
   },
   {
    "duration": 353,
    "start_time": "2022-10-04T10:31:39.713Z"
   },
   {
    "duration": 176,
    "start_time": "2022-10-04T10:32:13.668Z"
   },
   {
    "duration": 96,
    "start_time": "2022-10-04T10:32:17.690Z"
   },
   {
    "duration": 350,
    "start_time": "2022-10-04T10:32:24.415Z"
   },
   {
    "duration": 363,
    "start_time": "2022-10-04T10:32:29.912Z"
   },
   {
    "duration": 432,
    "start_time": "2022-10-04T10:32:47.632Z"
   },
   {
    "duration": 351,
    "start_time": "2022-10-04T10:32:56.011Z"
   },
   {
    "duration": 103,
    "start_time": "2022-10-04T10:33:03.026Z"
   },
   {
    "duration": 350,
    "start_time": "2022-10-04T10:33:07.316Z"
   },
   {
    "duration": 403,
    "start_time": "2022-10-04T10:33:28.741Z"
   },
   {
    "duration": 518,
    "start_time": "2022-10-04T10:33:50.152Z"
   },
   {
    "duration": 411,
    "start_time": "2022-10-04T10:33:57.593Z"
   },
   {
    "duration": 367,
    "start_time": "2022-10-04T10:34:03.234Z"
   },
   {
    "duration": 389,
    "start_time": "2022-10-04T10:34:07.716Z"
   },
   {
    "duration": 389,
    "start_time": "2022-10-04T10:34:12.789Z"
   },
   {
    "duration": 474,
    "start_time": "2022-10-04T10:34:17.996Z"
   },
   {
    "duration": 397,
    "start_time": "2022-10-04T10:36:35.406Z"
   },
   {
    "duration": 392,
    "start_time": "2022-10-04T10:36:41.470Z"
   },
   {
    "duration": 440,
    "start_time": "2022-10-04T10:36:46.438Z"
   },
   {
    "duration": 134,
    "start_time": "2022-10-04T10:37:44.757Z"
   },
   {
    "duration": 139,
    "start_time": "2022-10-04T10:37:48.029Z"
   },
   {
    "duration": 331,
    "start_time": "2022-10-04T10:39:23.457Z"
   },
   {
    "duration": 436,
    "start_time": "2022-10-04T10:40:58.719Z"
   },
   {
    "duration": 374,
    "start_time": "2022-10-04T10:41:10.991Z"
   },
   {
    "duration": 416,
    "start_time": "2022-10-04T10:41:16.431Z"
   },
   {
    "duration": 363,
    "start_time": "2022-10-04T10:41:29.642Z"
   },
   {
    "duration": 349,
    "start_time": "2022-10-04T10:42:02.160Z"
   },
   {
    "duration": 495,
    "start_time": "2022-10-04T10:42:17.071Z"
   },
   {
    "duration": 109,
    "start_time": "2022-10-04T10:45:26.806Z"
   },
   {
    "duration": 121,
    "start_time": "2022-10-04T10:45:37.367Z"
   },
   {
    "duration": 134,
    "start_time": "2022-10-04T10:45:50.185Z"
   },
   {
    "duration": 118,
    "start_time": "2022-10-04T10:45:59.947Z"
   },
   {
    "duration": 15,
    "start_time": "2022-10-04T10:50:44.710Z"
   },
   {
    "duration": 113,
    "start_time": "2022-10-04T10:50:48.158Z"
   },
   {
    "duration": 419,
    "start_time": "2022-10-04T10:52:30.995Z"
   },
   {
    "duration": 384,
    "start_time": "2022-10-04T10:52:56.726Z"
   },
   {
    "duration": 457,
    "start_time": "2022-10-04T10:53:11.976Z"
   },
   {
    "duration": 349,
    "start_time": "2022-10-04T10:53:57.374Z"
   },
   {
    "duration": 366,
    "start_time": "2022-10-04T11:16:33.844Z"
   },
   {
    "duration": 323,
    "start_time": "2022-10-04T11:16:40.677Z"
   },
   {
    "duration": 577,
    "start_time": "2022-10-04T11:18:43.100Z"
   },
   {
    "duration": 348,
    "start_time": "2022-10-04T11:19:03.175Z"
   },
   {
    "duration": 443,
    "start_time": "2022-10-04T11:19:07.008Z"
   },
   {
    "duration": 482,
    "start_time": "2022-10-04T11:19:13.327Z"
   },
   {
    "duration": 524,
    "start_time": "2022-10-04T11:19:19.736Z"
   },
   {
    "duration": 463,
    "start_time": "2022-10-04T11:19:26.506Z"
   },
   {
    "duration": 432,
    "start_time": "2022-10-04T11:19:33.034Z"
   },
   {
    "duration": 477,
    "start_time": "2022-10-04T11:19:39.050Z"
   },
   {
    "duration": 469,
    "start_time": "2022-10-04T11:19:45.075Z"
   },
   {
    "duration": 402,
    "start_time": "2022-10-04T11:19:48.301Z"
   },
   {
    "duration": 484,
    "start_time": "2022-10-04T11:19:50.693Z"
   },
   {
    "duration": 437,
    "start_time": "2022-10-04T11:20:09.671Z"
   },
   {
    "duration": 573,
    "start_time": "2022-10-04T11:20:25.448Z"
   },
   {
    "duration": 518,
    "start_time": "2022-10-04T11:20:31.738Z"
   },
   {
    "duration": 546,
    "start_time": "2022-10-04T11:20:46.339Z"
   },
   {
    "duration": 488,
    "start_time": "2022-10-04T11:20:49.867Z"
   },
   {
    "duration": 641,
    "start_time": "2022-10-04T11:21:02.261Z"
   },
   {
    "duration": 544,
    "start_time": "2022-10-04T11:21:59.068Z"
   },
   {
    "duration": 513,
    "start_time": "2022-10-04T11:22:04.716Z"
   },
   {
    "duration": 518,
    "start_time": "2022-10-04T11:22:41.809Z"
   },
   {
    "duration": 544,
    "start_time": "2022-10-04T11:22:51.746Z"
   },
   {
    "duration": 419,
    "start_time": "2022-10-04T11:22:59.133Z"
   },
   {
    "duration": 565,
    "start_time": "2022-10-04T11:23:20.301Z"
   },
   {
    "duration": 529,
    "start_time": "2022-10-04T11:23:25.214Z"
   },
   {
    "duration": 757,
    "start_time": "2022-10-04T11:23:40.410Z"
   },
   {
    "duration": 615,
    "start_time": "2022-10-04T11:25:15.588Z"
   },
   {
    "duration": 640,
    "start_time": "2022-10-04T11:25:19.596Z"
   },
   {
    "duration": 641,
    "start_time": "2022-10-04T11:26:30.318Z"
   },
   {
    "duration": 713,
    "start_time": "2022-10-04T11:26:40.454Z"
   },
   {
    "duration": 562,
    "start_time": "2022-10-04T11:27:25.493Z"
   },
   {
    "duration": 554,
    "start_time": "2022-10-04T11:27:35.341Z"
   },
   {
    "duration": 1369,
    "start_time": "2022-10-04T11:27:43.661Z"
   },
   {
    "duration": 16,
    "start_time": "2022-10-04T11:27:45.032Z"
   },
   {
    "duration": 9,
    "start_time": "2022-10-04T11:27:45.049Z"
   },
   {
    "duration": 14,
    "start_time": "2022-10-04T11:27:45.059Z"
   },
   {
    "duration": 38,
    "start_time": "2022-10-04T11:27:45.075Z"
   },
   {
    "duration": 76,
    "start_time": "2022-10-04T11:27:45.119Z"
   },
   {
    "duration": 12,
    "start_time": "2022-10-04T11:27:45.197Z"
   },
   {
    "duration": 15,
    "start_time": "2022-10-04T11:27:45.212Z"
   },
   {
    "duration": 14,
    "start_time": "2022-10-04T11:27:45.229Z"
   },
   {
    "duration": 11,
    "start_time": "2022-10-04T11:27:45.245Z"
   },
   {
    "duration": 574,
    "start_time": "2022-10-04T11:27:45.258Z"
   },
   {
    "duration": 5,
    "start_time": "2022-10-04T11:27:45.833Z"
   },
   {
    "duration": 7,
    "start_time": "2022-10-04T11:27:45.840Z"
   },
   {
    "duration": 6,
    "start_time": "2022-10-04T11:27:45.850Z"
   },
   {
    "duration": 6,
    "start_time": "2022-10-04T11:27:45.858Z"
   },
   {
    "duration": 34,
    "start_time": "2022-10-04T11:27:45.865Z"
   },
   {
    "duration": 399,
    "start_time": "2022-10-04T11:27:45.900Z"
   },
   {
    "duration": 15,
    "start_time": "2022-10-04T11:27:46.302Z"
   },
   {
    "duration": 13,
    "start_time": "2022-10-04T11:27:46.320Z"
   },
   {
    "duration": 19,
    "start_time": "2022-10-04T11:27:46.335Z"
   },
   {
    "duration": 365,
    "start_time": "2022-10-04T11:27:46.355Z"
   },
   {
    "duration": 9,
    "start_time": "2022-10-04T11:27:46.723Z"
   },
   {
    "duration": 16,
    "start_time": "2022-10-04T11:27:46.733Z"
   },
   {
    "duration": 14,
    "start_time": "2022-10-04T11:27:46.752Z"
   },
   {
    "duration": 36,
    "start_time": "2022-10-04T11:27:46.768Z"
   },
   {
    "duration": 582,
    "start_time": "2022-10-04T11:27:46.806Z"
   },
   {
    "duration": 347,
    "start_time": "2022-10-04T11:27:47.390Z"
   },
   {
    "duration": 136,
    "start_time": "2022-10-04T11:27:47.739Z"
   },
   {
    "duration": 8,
    "start_time": "2022-10-04T11:27:47.877Z"
   },
   {
    "duration": 7,
    "start_time": "2022-10-04T11:27:47.896Z"
   },
   {
    "duration": 444,
    "start_time": "2022-10-04T11:27:47.905Z"
   },
   {
    "duration": 432,
    "start_time": "2022-10-04T11:27:48.351Z"
   },
   {
    "duration": 18,
    "start_time": "2022-10-04T11:27:48.785Z"
   },
   {
    "duration": 623,
    "start_time": "2022-10-04T11:27:48.806Z"
   },
   {
    "duration": 142,
    "start_time": "2022-10-04T11:27:49.431Z"
   },
   {
    "duration": 402,
    "start_time": "2022-10-04T11:28:02.376Z"
   },
   {
    "duration": 469,
    "start_time": "2022-10-04T11:28:38.733Z"
   },
   {
    "duration": 442,
    "start_time": "2022-10-04T11:29:09.897Z"
   },
   {
    "duration": 362,
    "start_time": "2022-10-04T11:29:57.023Z"
   },
   {
    "duration": 360,
    "start_time": "2022-10-04T11:30:08.216Z"
   },
   {
    "duration": 378,
    "start_time": "2022-10-04T11:30:58.816Z"
   },
   {
    "duration": 268,
    "start_time": "2022-10-04T11:31:07.823Z"
   },
   {
    "duration": 266,
    "start_time": "2022-10-04T11:31:21.945Z"
   },
   {
    "duration": 198,
    "start_time": "2022-10-04T11:31:30.698Z"
   },
   {
    "duration": 545,
    "start_time": "2022-10-04T11:31:46.787Z"
   },
   {
    "duration": 406,
    "start_time": "2022-10-04T11:31:58.133Z"
   },
   {
    "duration": 393,
    "start_time": "2022-10-04T11:32:07.775Z"
   },
   {
    "duration": 384,
    "start_time": "2022-10-04T11:32:13.367Z"
   },
   {
    "duration": 394,
    "start_time": "2022-10-04T11:32:17.944Z"
   },
   {
    "duration": 506,
    "start_time": "2022-10-04T11:32:22.514Z"
   },
   {
    "duration": 376,
    "start_time": "2022-10-04T11:32:37.010Z"
   },
   {
    "duration": 404,
    "start_time": "2022-10-04T11:33:06.966Z"
   },
   {
    "duration": 417,
    "start_time": "2022-10-04T11:33:32.498Z"
   },
   {
    "duration": 388,
    "start_time": "2022-10-04T11:35:42.202Z"
   },
   {
    "duration": 395,
    "start_time": "2022-10-04T11:35:47.754Z"
   },
   {
    "duration": 409,
    "start_time": "2022-10-04T11:36:49.265Z"
   },
   {
    "duration": 365,
    "start_time": "2022-10-04T11:36:53.906Z"
   },
   {
    "duration": 12,
    "start_time": "2022-10-04T11:37:16.101Z"
   },
   {
    "duration": 9,
    "start_time": "2022-10-04T11:37:42.946Z"
   },
   {
    "duration": 12,
    "start_time": "2022-10-04T11:38:01.210Z"
   },
   {
    "duration": 10,
    "start_time": "2022-10-04T11:38:04.315Z"
   },
   {
    "duration": 106,
    "start_time": "2022-10-04T11:44:24.064Z"
   },
   {
    "duration": 330,
    "start_time": "2022-10-04T11:47:01.916Z"
   },
   {
    "duration": 3,
    "start_time": "2022-10-04T11:50:13.227Z"
   },
   {
    "duration": 8,
    "start_time": "2022-10-04T11:50:27.998Z"
   },
   {
    "duration": 23,
    "start_time": "2022-10-04T11:50:47.720Z"
   },
   {
    "duration": 14,
    "start_time": "2022-10-04T11:51:17.658Z"
   },
   {
    "duration": 7,
    "start_time": "2022-10-04T11:51:24.445Z"
   },
   {
    "duration": 139,
    "start_time": "2022-10-04T11:51:33.837Z"
   },
   {
    "duration": 130,
    "start_time": "2022-10-04T11:51:43.887Z"
   },
   {
    "duration": 174,
    "start_time": "2022-10-04T11:51:53.144Z"
   },
   {
    "duration": 151,
    "start_time": "2022-10-04T11:52:01.634Z"
   },
   {
    "duration": 82,
    "start_time": "2022-10-04T11:52:28.726Z"
   },
   {
    "duration": 163,
    "start_time": "2022-10-04T11:52:32.037Z"
   },
   {
    "duration": 178,
    "start_time": "2022-10-04T11:53:01.760Z"
   },
   {
    "duration": 200,
    "start_time": "2022-10-04T11:53:22.179Z"
   },
   {
    "duration": 297,
    "start_time": "2022-10-04T11:53:48.127Z"
   },
   {
    "duration": 119,
    "start_time": "2022-10-04T11:53:53.998Z"
   },
   {
    "duration": 188,
    "start_time": "2022-10-04T11:53:57.335Z"
   },
   {
    "duration": 166,
    "start_time": "2022-10-04T11:54:13.585Z"
   },
   {
    "duration": 233,
    "start_time": "2022-10-04T11:54:34.820Z"
   },
   {
    "duration": 190,
    "start_time": "2022-10-04T11:54:39.805Z"
   },
   {
    "duration": 226,
    "start_time": "2022-10-04T11:54:48.158Z"
   },
   {
    "duration": 212,
    "start_time": "2022-10-04T11:54:53.366Z"
   },
   {
    "duration": 225,
    "start_time": "2022-10-04T11:55:08.584Z"
   },
   {
    "duration": 90,
    "start_time": "2022-10-04T11:57:54.884Z"
   },
   {
    "duration": 119,
    "start_time": "2022-10-04T11:59:28.936Z"
   },
   {
    "duration": 76,
    "start_time": "2022-10-04T11:59:31.088Z"
   },
   {
    "duration": 8,
    "start_time": "2022-10-04T12:00:37.968Z"
   },
   {
    "duration": 7,
    "start_time": "2022-10-04T12:01:02.668Z"
   },
   {
    "duration": 176,
    "start_time": "2022-10-04T12:01:29.239Z"
   },
   {
    "duration": 8,
    "start_time": "2022-10-04T12:02:36.320Z"
   },
   {
    "duration": 217,
    "start_time": "2022-10-04T12:02:44.192Z"
   },
   {
    "duration": 241,
    "start_time": "2022-10-04T12:02:56.777Z"
   },
   {
    "duration": 217,
    "start_time": "2022-10-04T12:03:12.140Z"
   },
   {
    "duration": 304,
    "start_time": "2022-10-04T12:04:07.307Z"
   },
   {
    "duration": 202,
    "start_time": "2022-10-04T12:04:33.223Z"
   },
   {
    "duration": 3,
    "start_time": "2022-10-04T12:13:34.736Z"
   },
   {
    "duration": 73,
    "start_time": "2022-10-04T12:16:47.419Z"
   },
   {
    "duration": 82,
    "start_time": "2022-10-04T12:16:49.912Z"
   },
   {
    "duration": 9,
    "start_time": "2022-10-04T12:18:33.414Z"
   },
   {
    "duration": 8,
    "start_time": "2022-10-04T12:18:36.077Z"
   },
   {
    "duration": 8,
    "start_time": "2022-10-04T12:18:42.055Z"
   },
   {
    "duration": 5,
    "start_time": "2022-10-04T12:18:45.128Z"
   },
   {
    "duration": 9,
    "start_time": "2022-10-04T12:19:59.560Z"
   },
   {
    "duration": 24,
    "start_time": "2022-10-04T12:20:06.041Z"
   },
   {
    "duration": 17,
    "start_time": "2022-10-04T12:20:21.267Z"
   },
   {
    "duration": 108,
    "start_time": "2022-10-04T12:20:26.467Z"
   },
   {
    "duration": 28,
    "start_time": "2022-10-04T12:21:06.802Z"
   },
   {
    "duration": 20,
    "start_time": "2022-10-04T12:21:53.815Z"
   },
   {
    "duration": 334,
    "start_time": "2022-10-04T12:22:20.866Z"
   },
   {
    "duration": 208,
    "start_time": "2022-10-04T12:22:26.731Z"
   },
   {
    "duration": 249,
    "start_time": "2022-10-04T12:22:38.204Z"
   },
   {
    "duration": 292,
    "start_time": "2022-10-04T12:22:55.557Z"
   },
   {
    "duration": 284,
    "start_time": "2022-10-04T12:23:21.274Z"
   },
   {
    "duration": 347,
    "start_time": "2022-10-04T12:26:06.630Z"
   },
   {
    "duration": 267,
    "start_time": "2022-10-04T12:26:21.679Z"
   },
   {
    "duration": 17,
    "start_time": "2022-10-04T12:27:09.773Z"
   },
   {
    "duration": 21,
    "start_time": "2022-10-04T12:27:16.573Z"
   },
   {
    "duration": 23,
    "start_time": "2022-10-04T12:28:08.813Z"
   },
   {
    "duration": 82,
    "start_time": "2022-10-04T12:28:28.061Z"
   },
   {
    "duration": 17,
    "start_time": "2022-10-04T12:28:30.880Z"
   },
   {
    "duration": 17,
    "start_time": "2022-10-04T12:28:45.954Z"
   },
   {
    "duration": 78,
    "start_time": "2022-10-04T12:30:38.631Z"
   },
   {
    "duration": 22,
    "start_time": "2022-10-04T12:30:41.583Z"
   },
   {
    "duration": 19,
    "start_time": "2022-10-04T12:30:49.881Z"
   },
   {
    "duration": 250,
    "start_time": "2022-10-04T12:30:50.184Z"
   },
   {
    "duration": 20,
    "start_time": "2022-10-04T12:30:52.441Z"
   },
   {
    "duration": 22,
    "start_time": "2022-10-04T12:31:02.811Z"
   },
   {
    "duration": 34,
    "start_time": "2022-10-04T12:31:29.104Z"
   },
   {
    "duration": 28,
    "start_time": "2022-10-04T12:31:43.743Z"
   },
   {
    "duration": 29,
    "start_time": "2022-10-04T12:31:54.976Z"
   },
   {
    "duration": 159,
    "start_time": "2022-10-04T12:32:10.283Z"
   },
   {
    "duration": 30,
    "start_time": "2022-10-04T12:32:30.709Z"
   },
   {
    "duration": 176,
    "start_time": "2022-10-04T12:34:40.702Z"
   },
   {
    "duration": 166,
    "start_time": "2022-10-04T12:34:53.014Z"
   },
   {
    "duration": 282,
    "start_time": "2022-10-04T12:34:53.183Z"
   },
   {
    "duration": 445,
    "start_time": "2022-10-04T12:35:34.020Z"
   },
   {
    "duration": 450,
    "start_time": "2022-10-04T12:39:17.255Z"
   },
   {
    "duration": 166,
    "start_time": "2022-10-04T12:41:05.291Z"
   },
   {
    "duration": 527,
    "start_time": "2022-10-04T12:41:09.219Z"
   },
   {
    "duration": 515,
    "start_time": "2022-10-04T12:41:16.149Z"
   },
   {
    "duration": 662,
    "start_time": "2022-10-04T12:41:48.041Z"
   },
   {
    "duration": 587,
    "start_time": "2022-10-04T12:42:06.396Z"
   },
   {
    "duration": 475,
    "start_time": "2022-10-04T12:42:53.944Z"
   },
   {
    "duration": 524,
    "start_time": "2022-10-04T12:43:00.265Z"
   },
   {
    "duration": 531,
    "start_time": "2022-10-04T12:43:22.444Z"
   },
   {
    "duration": 516,
    "start_time": "2022-10-04T12:43:34.630Z"
   },
   {
    "duration": 658,
    "start_time": "2022-10-04T12:43:47.919Z"
   },
   {
    "duration": 547,
    "start_time": "2022-10-04T12:45:36.757Z"
   },
   {
    "duration": 27,
    "start_time": "2022-10-04T12:46:37.828Z"
   },
   {
    "duration": 304,
    "start_time": "2022-10-04T12:46:49.334Z"
   },
   {
    "duration": 79,
    "start_time": "2022-10-04T12:48:04.087Z"
   },
   {
    "duration": 79,
    "start_time": "2022-10-04T12:48:08.568Z"
   },
   {
    "duration": 305,
    "start_time": "2022-10-04T12:48:35.367Z"
   },
   {
    "duration": 308,
    "start_time": "2022-10-04T12:48:55.765Z"
   },
   {
    "duration": 303,
    "start_time": "2022-10-04T12:49:04.374Z"
   },
   {
    "duration": 511,
    "start_time": "2022-10-04T12:51:17.158Z"
   },
   {
    "duration": 82,
    "start_time": "2022-10-04T12:56:51.690Z"
   },
   {
    "duration": 297,
    "start_time": "2022-10-04T12:58:29.755Z"
   },
   {
    "duration": 657,
    "start_time": "2022-10-04T12:58:58.671Z"
   },
   {
    "duration": 76,
    "start_time": "2022-10-04T13:01:51.866Z"
   },
   {
    "duration": 76,
    "start_time": "2022-10-04T13:03:34.105Z"
   },
   {
    "duration": 112,
    "start_time": "2022-10-04T13:03:39.145Z"
   },
   {
    "duration": 2,
    "start_time": "2022-10-04T13:04:41.073Z"
   },
   {
    "duration": 3,
    "start_time": "2022-10-04T13:05:17.477Z"
   },
   {
    "duration": 75,
    "start_time": "2022-10-04T13:05:26.614Z"
   },
   {
    "duration": 77,
    "start_time": "2022-10-04T13:05:30.728Z"
   },
   {
    "duration": 86,
    "start_time": "2022-10-04T13:05:56.570Z"
   },
   {
    "duration": 2,
    "start_time": "2022-10-04T13:07:22.965Z"
   },
   {
    "duration": 3,
    "start_time": "2022-10-04T13:07:27.469Z"
   },
   {
    "duration": 15,
    "start_time": "2022-10-04T13:12:36.811Z"
   },
   {
    "duration": 5,
    "start_time": "2022-10-04T13:12:45.460Z"
   },
   {
    "duration": 151,
    "start_time": "2022-10-04T13:12:56.519Z"
   },
   {
    "duration": 120,
    "start_time": "2022-10-04T13:13:12.480Z"
   },
   {
    "duration": 147,
    "start_time": "2022-10-04T13:13:40.988Z"
   },
   {
    "duration": 130,
    "start_time": "2022-10-04T13:14:02.238Z"
   },
   {
    "duration": 1293,
    "start_time": "2022-10-04T13:14:33.959Z"
   },
   {
    "duration": 1195,
    "start_time": "2022-10-04T13:14:43.883Z"
   },
   {
    "duration": 27,
    "start_time": "2022-10-04T13:14:55.693Z"
   },
   {
    "duration": 12,
    "start_time": "2022-10-04T13:15:03.181Z"
   },
   {
    "duration": 126,
    "start_time": "2022-10-04T13:15:12.310Z"
   },
   {
    "duration": 16,
    "start_time": "2022-10-04T13:15:30.401Z"
   },
   {
    "duration": 73,
    "start_time": "2022-10-04T13:15:34.954Z"
   },
   {
    "duration": 120,
    "start_time": "2022-10-04T13:15:41.835Z"
   },
   {
    "duration": 126,
    "start_time": "2022-10-04T13:15:56.252Z"
   },
   {
    "duration": 116,
    "start_time": "2022-10-04T13:16:27.432Z"
   },
   {
    "duration": 13,
    "start_time": "2022-10-04T13:16:55.898Z"
   },
   {
    "duration": 120,
    "start_time": "2022-10-04T13:17:05.853Z"
   },
   {
    "duration": 113,
    "start_time": "2022-10-04T13:17:12.333Z"
   },
   {
    "duration": 109,
    "start_time": "2022-10-04T13:17:24.679Z"
   },
   {
    "duration": 87,
    "start_time": "2022-10-04T13:17:42.820Z"
   },
   {
    "duration": 118,
    "start_time": "2022-10-04T13:17:54.745Z"
   },
   {
    "duration": 107,
    "start_time": "2022-10-04T13:18:00.475Z"
   },
   {
    "duration": 106,
    "start_time": "2022-10-04T13:18:07.172Z"
   },
   {
    "duration": 116,
    "start_time": "2022-10-04T13:18:24.607Z"
   },
   {
    "duration": 120,
    "start_time": "2022-10-04T13:18:40.680Z"
   },
   {
    "duration": 126,
    "start_time": "2022-10-04T13:18:54.146Z"
   },
   {
    "duration": 111,
    "start_time": "2022-10-04T13:19:03.556Z"
   },
   {
    "duration": 296,
    "start_time": "2022-10-04T13:23:46.765Z"
   },
   {
    "duration": 230,
    "start_time": "2022-10-04T13:24:02.496Z"
   },
   {
    "duration": 22,
    "start_time": "2022-10-04T13:24:55.070Z"
   },
   {
    "duration": 259,
    "start_time": "2022-10-04T13:24:58.462Z"
   },
   {
    "duration": 407,
    "start_time": "2022-10-04T13:25:30.674Z"
   },
   {
    "duration": 101,
    "start_time": "2022-10-04T13:26:54.165Z"
   },
   {
    "duration": 213,
    "start_time": "2022-10-04T13:26:56.324Z"
   },
   {
    "duration": 95,
    "start_time": "2022-10-04T13:28:40.362Z"
   },
   {
    "duration": 81,
    "start_time": "2022-10-04T13:28:43.578Z"
   },
   {
    "duration": 520,
    "start_time": "2022-10-04T13:29:06.765Z"
   },
   {
    "duration": 532,
    "start_time": "2022-10-04T13:29:22.931Z"
   },
   {
    "duration": 511,
    "start_time": "2022-10-04T13:29:31.232Z"
   },
   {
    "duration": 251,
    "start_time": "2022-10-04T13:29:52.518Z"
   },
   {
    "duration": 604,
    "start_time": "2022-10-04T13:30:05.076Z"
   },
   {
    "duration": 510,
    "start_time": "2022-10-04T13:30:17.313Z"
   },
   {
    "duration": 723,
    "start_time": "2022-10-04T13:30:26.551Z"
   },
   {
    "duration": 106,
    "start_time": "2022-10-04T13:41:56.060Z"
   },
   {
    "duration": 486,
    "start_time": "2022-10-04T13:47:10.866Z"
   },
   {
    "duration": 540,
    "start_time": "2022-10-04T13:47:55.984Z"
   },
   {
    "duration": 492,
    "start_time": "2022-10-04T13:48:37.125Z"
   },
   {
    "duration": 81,
    "start_time": "2022-10-04T14:04:16.944Z"
   },
   {
    "duration": 3,
    "start_time": "2022-10-04T14:05:11.455Z"
   },
   {
    "duration": 83,
    "start_time": "2022-10-04T14:06:09.342Z"
   },
   {
    "duration": 11,
    "start_time": "2022-10-04T14:11:25.236Z"
   },
   {
    "duration": 6,
    "start_time": "2022-10-04T14:11:41.550Z"
   },
   {
    "duration": 26,
    "start_time": "2022-10-04T14:11:50.133Z"
   },
   {
    "duration": 10,
    "start_time": "2022-10-04T14:12:07.412Z"
   },
   {
    "duration": 12,
    "start_time": "2022-10-04T14:12:47.008Z"
   },
   {
    "duration": 11,
    "start_time": "2022-10-04T14:22:18.652Z"
   },
   {
    "duration": 10,
    "start_time": "2022-10-04T14:22:57.898Z"
   },
   {
    "duration": 9,
    "start_time": "2022-10-04T14:23:06.235Z"
   },
   {
    "duration": 9,
    "start_time": "2022-10-04T14:23:11.020Z"
   },
   {
    "duration": 68,
    "start_time": "2022-10-04T14:24:01.392Z"
   },
   {
    "duration": 1450,
    "start_time": "2022-10-04T14:24:06.371Z"
   },
   {
    "duration": 16,
    "start_time": "2022-10-04T14:24:07.823Z"
   },
   {
    "duration": 5,
    "start_time": "2022-10-04T14:24:07.841Z"
   },
   {
    "duration": 11,
    "start_time": "2022-10-04T14:24:07.848Z"
   },
   {
    "duration": 51,
    "start_time": "2022-10-04T14:24:07.863Z"
   },
   {
    "duration": 57,
    "start_time": "2022-10-04T14:24:07.917Z"
   },
   {
    "duration": 32,
    "start_time": "2022-10-04T14:24:07.975Z"
   },
   {
    "duration": 14,
    "start_time": "2022-10-04T14:24:08.011Z"
   },
   {
    "duration": 21,
    "start_time": "2022-10-04T14:24:08.027Z"
   },
   {
    "duration": 12,
    "start_time": "2022-10-04T14:24:08.050Z"
   },
   {
    "duration": 587,
    "start_time": "2022-10-04T14:24:08.063Z"
   },
   {
    "duration": 5,
    "start_time": "2022-10-04T14:24:08.652Z"
   },
   {
    "duration": 9,
    "start_time": "2022-10-04T14:24:08.659Z"
   },
   {
    "duration": 8,
    "start_time": "2022-10-04T14:24:08.671Z"
   },
   {
    "duration": 24,
    "start_time": "2022-10-04T14:24:08.680Z"
   },
   {
    "duration": 8,
    "start_time": "2022-10-04T14:24:08.707Z"
   },
   {
    "duration": 417,
    "start_time": "2022-10-04T14:24:08.718Z"
   },
   {
    "duration": 9,
    "start_time": "2022-10-04T14:24:09.137Z"
   },
   {
    "duration": 7,
    "start_time": "2022-10-04T14:24:09.147Z"
   },
   {
    "duration": 18,
    "start_time": "2022-10-04T14:24:09.155Z"
   },
   {
    "duration": 347,
    "start_time": "2022-10-04T14:24:09.175Z"
   },
   {
    "duration": 7,
    "start_time": "2022-10-04T14:24:09.523Z"
   },
   {
    "duration": 7,
    "start_time": "2022-10-04T14:24:09.531Z"
   },
   {
    "duration": 12,
    "start_time": "2022-10-04T14:24:09.540Z"
   },
   {
    "duration": 15,
    "start_time": "2022-10-04T14:24:09.554Z"
   },
   {
    "duration": 581,
    "start_time": "2022-10-04T14:24:09.571Z"
   },
   {
    "duration": 356,
    "start_time": "2022-10-04T14:24:10.154Z"
   },
   {
    "duration": 135,
    "start_time": "2022-10-04T14:24:10.511Z"
   },
   {
    "duration": 8,
    "start_time": "2022-10-04T14:24:10.648Z"
   },
   {
    "duration": 7,
    "start_time": "2022-10-04T14:24:10.658Z"
   },
   {
    "duration": 410,
    "start_time": "2022-10-04T14:24:10.667Z"
   },
   {
    "duration": 432,
    "start_time": "2022-10-04T14:24:11.079Z"
   },
   {
    "duration": 11,
    "start_time": "2022-10-04T14:24:11.514Z"
   },
   {
    "duration": 229,
    "start_time": "2022-10-04T14:24:11.527Z"
   },
   {
    "duration": 227,
    "start_time": "2022-10-04T14:24:11.759Z"
   },
   {
    "duration": 279,
    "start_time": "2022-10-04T14:24:11.995Z"
   },
   {
    "duration": 498,
    "start_time": "2022-10-04T14:24:12.276Z"
   },
   {
    "duration": 319,
    "start_time": "2022-10-04T14:24:12.776Z"
   },
   {
    "duration": 595,
    "start_time": "2022-10-04T14:24:13.097Z"
   },
   {
    "duration": 244,
    "start_time": "2022-10-04T14:24:13.696Z"
   },
   {
    "duration": 540,
    "start_time": "2022-10-04T14:24:13.944Z"
   },
   {
    "duration": 17,
    "start_time": "2022-10-04T14:24:14.485Z"
   },
   {
    "duration": 17,
    "start_time": "2022-10-04T14:24:14.505Z"
   },
   {
    "duration": 131,
    "start_time": "2022-10-04T14:24:14.523Z"
   },
   {
    "duration": 0,
    "start_time": "2022-10-04T14:24:14.656Z"
   },
   {
    "duration": 0,
    "start_time": "2022-10-04T14:24:14.657Z"
   },
   {
    "duration": 10,
    "start_time": "2022-10-04T14:24:21.256Z"
   },
   {
    "duration": 16,
    "start_time": "2022-10-04T14:24:29.528Z"
   },
   {
    "duration": 12,
    "start_time": "2022-10-04T14:24:37.161Z"
   },
   {
    "duration": 8,
    "start_time": "2022-10-04T14:26:06.429Z"
   },
   {
    "duration": 9,
    "start_time": "2022-10-04T14:26:23.342Z"
   },
   {
    "duration": 6,
    "start_time": "2022-10-04T14:26:23.808Z"
   },
   {
    "duration": 11,
    "start_time": "2022-10-04T14:26:39.184Z"
   },
   {
    "duration": 4,
    "start_time": "2022-10-04T14:26:50.138Z"
   },
   {
    "duration": 5,
    "start_time": "2022-10-04T14:27:12.756Z"
   },
   {
    "duration": 18,
    "start_time": "2022-10-04T14:28:36.591Z"
   },
   {
    "duration": 10,
    "start_time": "2022-10-04T14:36:23.769Z"
   },
   {
    "duration": 6,
    "start_time": "2022-10-04T14:36:25.873Z"
   },
   {
    "duration": 13,
    "start_time": "2022-10-04T14:36:36.345Z"
   },
   {
    "duration": 16,
    "start_time": "2022-10-04T14:36:39.490Z"
   },
   {
    "duration": 16,
    "start_time": "2022-10-04T14:37:29.568Z"
   },
   {
    "duration": 11,
    "start_time": "2022-10-04T14:37:39.377Z"
   },
   {
    "duration": 17,
    "start_time": "2022-10-04T14:37:48.595Z"
   },
   {
    "duration": 12,
    "start_time": "2022-10-04T14:37:55.003Z"
   },
   {
    "duration": 15,
    "start_time": "2022-10-04T14:38:08.958Z"
   },
   {
    "duration": 28,
    "start_time": "2022-10-04T14:39:21.895Z"
   },
   {
    "duration": 13,
    "start_time": "2022-10-04T14:41:29.446Z"
   },
   {
    "duration": 95,
    "start_time": "2022-10-04T14:42:29.382Z"
   },
   {
    "duration": 78,
    "start_time": "2022-10-04T14:48:31.753Z"
   },
   {
    "duration": 13,
    "start_time": "2022-10-04T14:49:25.273Z"
   },
   {
    "duration": 92,
    "start_time": "2022-10-04T14:49:42.427Z"
   },
   {
    "duration": 91,
    "start_time": "2022-10-04T14:49:45.866Z"
   },
   {
    "duration": 10,
    "start_time": "2022-10-04T14:49:49.931Z"
   },
   {
    "duration": 9,
    "start_time": "2022-10-04T14:49:55.052Z"
   },
   {
    "duration": 9,
    "start_time": "2022-10-04T14:49:58.772Z"
   },
   {
    "duration": 98,
    "start_time": "2022-10-04T15:07:09.810Z"
   },
   {
    "duration": 85,
    "start_time": "2022-10-04T15:07:14.835Z"
   },
   {
    "duration": 26,
    "start_time": "2022-10-04T15:18:06.683Z"
   },
   {
    "duration": 18,
    "start_time": "2022-10-04T15:18:18.768Z"
   },
   {
    "duration": 14,
    "start_time": "2022-10-04T15:18:23.437Z"
   },
   {
    "duration": 101,
    "start_time": "2022-10-04T15:23:21.994Z"
   },
   {
    "duration": 75,
    "start_time": "2022-10-04T15:23:24.407Z"
   },
   {
    "duration": 3,
    "start_time": "2022-10-04T15:23:53.870Z"
   },
   {
    "duration": 3,
    "start_time": "2022-10-04T15:24:01.686Z"
   },
   {
    "duration": 99,
    "start_time": "2022-10-04T15:28:09.611Z"
   },
   {
    "duration": 81,
    "start_time": "2022-10-04T15:28:12.486Z"
   },
   {
    "duration": 1192,
    "start_time": "2022-10-04T15:41:24.047Z"
   },
   {
    "duration": 13,
    "start_time": "2022-10-04T15:41:25.241Z"
   },
   {
    "duration": 4,
    "start_time": "2022-10-04T15:41:25.255Z"
   },
   {
    "duration": 9,
    "start_time": "2022-10-04T15:41:25.260Z"
   },
   {
    "duration": 34,
    "start_time": "2022-10-04T15:41:25.270Z"
   },
   {
    "duration": 51,
    "start_time": "2022-10-04T15:41:25.306Z"
   },
   {
    "duration": 8,
    "start_time": "2022-10-04T15:41:25.358Z"
   },
   {
    "duration": 29,
    "start_time": "2022-10-04T15:41:25.367Z"
   },
   {
    "duration": 9,
    "start_time": "2022-10-04T15:41:25.398Z"
   },
   {
    "duration": 10,
    "start_time": "2022-10-04T15:41:25.410Z"
   },
   {
    "duration": 452,
    "start_time": "2022-10-04T15:41:25.421Z"
   },
   {
    "duration": 5,
    "start_time": "2022-10-04T15:41:25.875Z"
   },
   {
    "duration": 14,
    "start_time": "2022-10-04T15:41:25.881Z"
   },
   {
    "duration": 9,
    "start_time": "2022-10-04T15:41:25.896Z"
   },
   {
    "duration": 4,
    "start_time": "2022-10-04T15:41:25.907Z"
   },
   {
    "duration": 7,
    "start_time": "2022-10-04T15:41:25.912Z"
   },
   {
    "duration": 355,
    "start_time": "2022-10-04T15:41:25.920Z"
   },
   {
    "duration": 18,
    "start_time": "2022-10-04T15:41:26.277Z"
   },
   {
    "duration": 7,
    "start_time": "2022-10-04T15:41:26.296Z"
   },
   {
    "duration": 17,
    "start_time": "2022-10-04T15:41:26.305Z"
   },
   {
    "duration": 304,
    "start_time": "2022-10-04T15:41:26.324Z"
   },
   {
    "duration": 8,
    "start_time": "2022-10-04T15:41:26.631Z"
   },
   {
    "duration": 15,
    "start_time": "2022-10-04T15:41:26.642Z"
   },
   {
    "duration": 19,
    "start_time": "2022-10-04T15:41:26.659Z"
   },
   {
    "duration": 15,
    "start_time": "2022-10-04T15:41:26.696Z"
   },
   {
    "duration": 563,
    "start_time": "2022-10-04T15:41:26.713Z"
   },
   {
    "duration": 335,
    "start_time": "2022-10-04T15:41:27.278Z"
   },
   {
    "duration": 122,
    "start_time": "2022-10-04T15:41:27.618Z"
   },
   {
    "duration": 8,
    "start_time": "2022-10-04T15:41:27.742Z"
   },
   {
    "duration": 9,
    "start_time": "2022-10-04T15:41:27.752Z"
   },
   {
    "duration": 385,
    "start_time": "2022-10-04T15:41:27.763Z"
   },
   {
    "duration": 339,
    "start_time": "2022-10-04T15:41:28.149Z"
   },
   {
    "duration": 11,
    "start_time": "2022-10-04T15:41:28.489Z"
   },
   {
    "duration": 203,
    "start_time": "2022-10-04T15:41:28.502Z"
   },
   {
    "duration": 224,
    "start_time": "2022-10-04T15:41:28.706Z"
   },
   {
    "duration": 276,
    "start_time": "2022-10-04T15:41:28.932Z"
   },
   {
    "duration": 450,
    "start_time": "2022-10-04T15:41:29.209Z"
   },
   {
    "duration": 283,
    "start_time": "2022-10-04T15:41:29.661Z"
   },
   {
    "duration": 562,
    "start_time": "2022-10-04T15:41:29.946Z"
   },
   {
    "duration": 204,
    "start_time": "2022-10-04T15:41:30.509Z"
   },
   {
    "duration": 457,
    "start_time": "2022-10-04T15:41:30.715Z"
   },
   {
    "duration": 23,
    "start_time": "2022-10-04T15:41:31.174Z"
   },
   {
    "duration": 14,
    "start_time": "2022-10-04T15:41:31.199Z"
   },
   {
    "duration": 16,
    "start_time": "2022-10-04T15:50:00.766Z"
   },
   {
    "duration": 16,
    "start_time": "2022-10-04T15:50:19.590Z"
   },
   {
    "duration": 78,
    "start_time": "2022-10-04T15:50:59.204Z"
   },
   {
    "duration": 335,
    "start_time": "2022-10-04T15:51:05.462Z"
   },
   {
    "duration": 8,
    "start_time": "2022-10-04T15:56:05.019Z"
   },
   {
    "duration": 8,
    "start_time": "2022-10-04T15:56:26.253Z"
   },
   {
    "duration": 89,
    "start_time": "2022-10-04T16:05:10.431Z"
   },
   {
    "duration": 75,
    "start_time": "2022-10-04T16:05:13.678Z"
   },
   {
    "duration": 72,
    "start_time": "2022-10-04T16:09:11.380Z"
   },
   {
    "duration": 1239,
    "start_time": "2022-10-04T16:11:22.939Z"
   },
   {
    "duration": 17,
    "start_time": "2022-10-04T16:11:24.180Z"
   },
   {
    "duration": 5,
    "start_time": "2022-10-04T16:11:24.198Z"
   },
   {
    "duration": 11,
    "start_time": "2022-10-04T16:11:24.204Z"
   },
   {
    "duration": 17,
    "start_time": "2022-10-04T16:11:24.217Z"
   },
   {
    "duration": 81,
    "start_time": "2022-10-04T16:11:24.236Z"
   },
   {
    "duration": 8,
    "start_time": "2022-10-04T16:11:24.319Z"
   },
   {
    "duration": 5,
    "start_time": "2022-10-04T16:11:24.329Z"
   },
   {
    "duration": 13,
    "start_time": "2022-10-04T16:11:24.336Z"
   },
   {
    "duration": 13,
    "start_time": "2022-10-04T16:11:24.351Z"
   },
   {
    "duration": 544,
    "start_time": "2022-10-04T16:11:24.366Z"
   },
   {
    "duration": 6,
    "start_time": "2022-10-04T16:11:24.912Z"
   },
   {
    "duration": 22,
    "start_time": "2022-10-04T16:11:24.920Z"
   },
   {
    "duration": 6,
    "start_time": "2022-10-04T16:11:24.946Z"
   },
   {
    "duration": 10,
    "start_time": "2022-10-04T16:11:24.954Z"
   },
   {
    "duration": 365,
    "start_time": "2022-10-04T16:11:24.966Z"
   },
   {
    "duration": 10,
    "start_time": "2022-10-04T16:11:25.334Z"
   },
   {
    "duration": 18,
    "start_time": "2022-10-04T16:11:25.346Z"
   },
   {
    "duration": 336,
    "start_time": "2022-10-04T16:11:25.366Z"
   },
   {
    "duration": 6,
    "start_time": "2022-10-04T16:11:25.704Z"
   },
   {
    "duration": 10,
    "start_time": "2022-10-04T16:11:25.712Z"
   },
   {
    "duration": 14,
    "start_time": "2022-10-04T16:11:25.723Z"
   },
   {
    "duration": 12,
    "start_time": "2022-10-04T16:11:25.739Z"
   },
   {
    "duration": 571,
    "start_time": "2022-10-04T16:11:25.753Z"
   },
   {
    "duration": 353,
    "start_time": "2022-10-04T16:11:26.327Z"
   },
   {
    "duration": 185,
    "start_time": "2022-10-04T16:11:26.682Z"
   },
   {
    "duration": 10,
    "start_time": "2022-10-04T16:11:26.870Z"
   },
   {
    "duration": 20,
    "start_time": "2022-10-04T16:11:26.882Z"
   },
   {
    "duration": 396,
    "start_time": "2022-10-04T16:11:26.905Z"
   },
   {
    "duration": 366,
    "start_time": "2022-10-04T16:11:27.303Z"
   },
   {
    "duration": 8,
    "start_time": "2022-10-04T16:11:27.670Z"
   },
   {
    "duration": 221,
    "start_time": "2022-10-04T16:11:27.680Z"
   },
   {
    "duration": 236,
    "start_time": "2022-10-04T16:11:27.903Z"
   },
   {
    "duration": 283,
    "start_time": "2022-10-04T16:11:28.141Z"
   },
   {
    "duration": 474,
    "start_time": "2022-10-04T16:11:28.426Z"
   },
   {
    "duration": 293,
    "start_time": "2022-10-04T16:11:28.902Z"
   },
   {
    "duration": 569,
    "start_time": "2022-10-04T16:11:29.197Z"
   },
   {
    "duration": 216,
    "start_time": "2022-10-04T16:11:29.768Z"
   },
   {
    "duration": 462,
    "start_time": "2022-10-04T16:11:29.986Z"
   },
   {
    "duration": 15,
    "start_time": "2022-10-04T16:11:30.450Z"
   },
   {
    "duration": 34,
    "start_time": "2022-10-04T16:11:30.469Z"
   },
   {
    "duration": 1141,
    "start_time": "2022-10-04T16:40:47.508Z"
   },
   {
    "duration": 12,
    "start_time": "2022-10-04T16:40:48.651Z"
   },
   {
    "duration": 4,
    "start_time": "2022-10-04T16:40:48.664Z"
   },
   {
    "duration": 12,
    "start_time": "2022-10-04T16:40:48.670Z"
   },
   {
    "duration": 26,
    "start_time": "2022-10-04T16:40:48.683Z"
   },
   {
    "duration": 49,
    "start_time": "2022-10-04T16:40:48.711Z"
   },
   {
    "duration": 6,
    "start_time": "2022-10-04T16:40:48.762Z"
   },
   {
    "duration": 5,
    "start_time": "2022-10-04T16:40:48.769Z"
   },
   {
    "duration": 10,
    "start_time": "2022-10-04T16:40:48.775Z"
   },
   {
    "duration": 10,
    "start_time": "2022-10-04T16:40:48.809Z"
   },
   {
    "duration": 497,
    "start_time": "2022-10-04T16:40:48.821Z"
   },
   {
    "duration": 4,
    "start_time": "2022-10-04T16:40:49.320Z"
   },
   {
    "duration": 15,
    "start_time": "2022-10-04T16:40:49.325Z"
   },
   {
    "duration": 6,
    "start_time": "2022-10-04T16:40:49.342Z"
   },
   {
    "duration": 5,
    "start_time": "2022-10-04T16:40:49.349Z"
   },
   {
    "duration": 318,
    "start_time": "2022-10-04T16:40:49.356Z"
   },
   {
    "duration": 7,
    "start_time": "2022-10-04T16:40:49.676Z"
   },
   {
    "duration": 9,
    "start_time": "2022-10-04T16:40:49.684Z"
   },
   {
    "duration": 259,
    "start_time": "2022-10-04T16:40:49.695Z"
   },
   {
    "duration": 6,
    "start_time": "2022-10-04T16:40:49.955Z"
   },
   {
    "duration": 4,
    "start_time": "2022-10-04T16:40:49.962Z"
   },
   {
    "duration": 10,
    "start_time": "2022-10-04T16:40:49.968Z"
   },
   {
    "duration": 30,
    "start_time": "2022-10-04T16:40:49.979Z"
   },
   {
    "duration": 460,
    "start_time": "2022-10-04T16:40:50.011Z"
   },
   {
    "duration": 302,
    "start_time": "2022-10-04T16:40:50.472Z"
   },
   {
    "duration": 112,
    "start_time": "2022-10-04T16:40:50.776Z"
   },
   {
    "duration": 7,
    "start_time": "2022-10-04T16:40:50.890Z"
   },
   {
    "duration": 12,
    "start_time": "2022-10-04T16:40:50.899Z"
   },
   {
    "duration": 297,
    "start_time": "2022-10-04T16:40:50.912Z"
   },
   {
    "duration": 297,
    "start_time": "2022-10-04T16:40:51.210Z"
   },
   {
    "duration": 7,
    "start_time": "2022-10-04T16:40:51.509Z"
   },
   {
    "duration": 181,
    "start_time": "2022-10-04T16:40:51.517Z"
   },
   {
    "duration": 181,
    "start_time": "2022-10-04T16:40:51.708Z"
   },
   {
    "duration": 238,
    "start_time": "2022-10-04T16:40:51.891Z"
   },
   {
    "duration": 407,
    "start_time": "2022-10-04T16:40:52.130Z"
   },
   {
    "duration": 247,
    "start_time": "2022-10-04T16:40:52.538Z"
   },
   {
    "duration": 476,
    "start_time": "2022-10-04T16:40:52.786Z"
   },
   {
    "duration": 186,
    "start_time": "2022-10-04T16:40:53.263Z"
   },
   {
    "duration": 413,
    "start_time": "2022-10-04T16:40:53.451Z"
   },
   {
    "duration": 12,
    "start_time": "2022-10-04T16:40:53.865Z"
   },
   {
    "duration": 13,
    "start_time": "2022-10-04T16:40:53.878Z"
   },
   {
    "duration": 1399,
    "start_time": "2022-10-04T19:21:26.211Z"
   },
   {
    "duration": 14,
    "start_time": "2022-10-04T19:21:27.613Z"
   },
   {
    "duration": 5,
    "start_time": "2022-10-04T19:21:27.628Z"
   },
   {
    "duration": 12,
    "start_time": "2022-10-04T19:21:27.634Z"
   },
   {
    "duration": 21,
    "start_time": "2022-10-04T19:21:27.647Z"
   },
   {
    "duration": 54,
    "start_time": "2022-10-04T19:21:27.670Z"
   },
   {
    "duration": 29,
    "start_time": "2022-10-04T19:21:27.726Z"
   },
   {
    "duration": 5,
    "start_time": "2022-10-04T19:21:27.757Z"
   },
   {
    "duration": 14,
    "start_time": "2022-10-04T19:21:27.763Z"
   },
   {
    "duration": 11,
    "start_time": "2022-10-04T19:21:27.780Z"
   },
   {
    "duration": 497,
    "start_time": "2022-10-04T19:21:27.793Z"
   },
   {
    "duration": 5,
    "start_time": "2022-10-04T19:21:28.292Z"
   },
   {
    "duration": 20,
    "start_time": "2022-10-04T19:21:28.299Z"
   },
   {
    "duration": 9,
    "start_time": "2022-10-04T19:21:28.321Z"
   },
   {
    "duration": 23,
    "start_time": "2022-10-04T19:21:28.332Z"
   },
   {
    "duration": 357,
    "start_time": "2022-10-04T19:21:28.357Z"
   },
   {
    "duration": 8,
    "start_time": "2022-10-04T19:21:28.716Z"
   },
   {
    "duration": 22,
    "start_time": "2022-10-04T19:21:28.725Z"
   },
   {
    "duration": 296,
    "start_time": "2022-10-04T19:21:28.753Z"
   },
   {
    "duration": 7,
    "start_time": "2022-10-04T19:21:29.054Z"
   },
   {
    "duration": 10,
    "start_time": "2022-10-04T19:21:29.063Z"
   },
   {
    "duration": 10,
    "start_time": "2022-10-04T19:21:29.075Z"
   },
   {
    "duration": 20,
    "start_time": "2022-10-04T19:21:29.087Z"
   },
   {
    "duration": 568,
    "start_time": "2022-10-04T19:21:29.109Z"
   },
   {
    "duration": 335,
    "start_time": "2022-10-04T19:21:29.679Z"
   },
   {
    "duration": 131,
    "start_time": "2022-10-04T19:21:30.016Z"
   },
   {
    "duration": 10,
    "start_time": "2022-10-04T19:21:30.153Z"
   },
   {
    "duration": 37,
    "start_time": "2022-10-04T19:21:30.167Z"
   },
   {
    "duration": 412,
    "start_time": "2022-10-04T19:21:30.207Z"
   },
   {
    "duration": 394,
    "start_time": "2022-10-04T19:21:30.621Z"
   },
   {
    "duration": 7,
    "start_time": "2022-10-04T19:21:31.018Z"
   },
   {
    "duration": 205,
    "start_time": "2022-10-04T19:21:31.027Z"
   },
   {
    "duration": 206,
    "start_time": "2022-10-04T19:21:31.234Z"
   },
   {
    "duration": 396,
    "start_time": "2022-10-04T19:21:31.443Z"
   },
   {
    "duration": 955,
    "start_time": "2022-10-04T19:21:31.842Z"
   },
   {
    "duration": 588,
    "start_time": "2022-10-04T19:21:32.799Z"
   },
   {
    "duration": 926,
    "start_time": "2022-10-04T19:21:33.390Z"
   },
   {
    "duration": 220,
    "start_time": "2022-10-04T19:21:34.319Z"
   },
   {
    "duration": 481,
    "start_time": "2022-10-04T19:21:34.541Z"
   },
   {
    "duration": 14,
    "start_time": "2022-10-04T19:21:35.024Z"
   },
   {
    "duration": 15,
    "start_time": "2022-10-04T19:21:35.053Z"
   },
   {
    "duration": 1404,
    "start_time": "2022-10-05T08:52:39.396Z"
   },
   {
    "duration": 15,
    "start_time": "2022-10-05T08:52:40.801Z"
   },
   {
    "duration": 3,
    "start_time": "2022-10-05T08:52:40.818Z"
   },
   {
    "duration": 10,
    "start_time": "2022-10-05T08:52:40.823Z"
   },
   {
    "duration": 23,
    "start_time": "2022-10-05T08:52:40.836Z"
   },
   {
    "duration": 65,
    "start_time": "2022-10-05T08:52:40.860Z"
   },
   {
    "duration": 7,
    "start_time": "2022-10-05T08:52:40.926Z"
   },
   {
    "duration": 6,
    "start_time": "2022-10-05T08:52:40.934Z"
   },
   {
    "duration": 13,
    "start_time": "2022-10-05T08:52:40.942Z"
   },
   {
    "duration": 12,
    "start_time": "2022-10-05T08:52:40.957Z"
   },
   {
    "duration": 466,
    "start_time": "2022-10-05T08:52:40.971Z"
   },
   {
    "duration": 5,
    "start_time": "2022-10-05T08:52:41.439Z"
   },
   {
    "duration": 33,
    "start_time": "2022-10-05T08:52:41.447Z"
   },
   {
    "duration": 6,
    "start_time": "2022-10-05T08:52:41.484Z"
   },
   {
    "duration": 14,
    "start_time": "2022-10-05T08:52:41.491Z"
   },
   {
    "duration": 369,
    "start_time": "2022-10-05T08:52:41.506Z"
   },
   {
    "duration": 8,
    "start_time": "2022-10-05T08:52:41.876Z"
   },
   {
    "duration": 22,
    "start_time": "2022-10-05T08:52:41.885Z"
   },
   {
    "duration": 257,
    "start_time": "2022-10-05T08:52:41.908Z"
   },
   {
    "duration": 7,
    "start_time": "2022-10-05T08:52:42.167Z"
   },
   {
    "duration": 11,
    "start_time": "2022-10-05T08:52:42.175Z"
   },
   {
    "duration": 21,
    "start_time": "2022-10-05T08:52:42.187Z"
   },
   {
    "duration": 10,
    "start_time": "2022-10-05T08:52:42.210Z"
   },
   {
    "duration": 521,
    "start_time": "2022-10-05T08:52:42.222Z"
   },
   {
    "duration": 322,
    "start_time": "2022-10-05T08:52:42.744Z"
   },
   {
    "duration": 117,
    "start_time": "2022-10-05T08:52:43.067Z"
   },
   {
    "duration": 16,
    "start_time": "2022-10-05T08:52:43.185Z"
   },
   {
    "duration": 5,
    "start_time": "2022-10-05T08:52:43.203Z"
   },
   {
    "duration": 353,
    "start_time": "2022-10-05T08:52:43.210Z"
   },
   {
    "duration": 328,
    "start_time": "2022-10-05T08:52:43.565Z"
   },
   {
    "duration": 10,
    "start_time": "2022-10-05T08:52:43.894Z"
   },
   {
    "duration": 172,
    "start_time": "2022-10-05T08:52:43.906Z"
   },
   {
    "duration": 197,
    "start_time": "2022-10-05T08:52:44.080Z"
   },
   {
    "duration": 292,
    "start_time": "2022-10-05T08:52:44.278Z"
   },
   {
    "duration": 406,
    "start_time": "2022-10-05T08:52:44.573Z"
   },
   {
    "duration": 267,
    "start_time": "2022-10-05T08:52:44.981Z"
   },
   {
    "duration": 511,
    "start_time": "2022-10-05T08:52:45.250Z"
   },
   {
    "duration": 181,
    "start_time": "2022-10-05T08:52:45.762Z"
   },
   {
    "duration": 395,
    "start_time": "2022-10-05T08:52:45.945Z"
   },
   {
    "duration": 11,
    "start_time": "2022-10-05T08:52:46.341Z"
   },
   {
    "duration": 12,
    "start_time": "2022-10-05T08:52:46.355Z"
   },
   {
    "duration": 49,
    "start_time": "2022-10-05T11:32:28.926Z"
   },
   {
    "duration": 1446,
    "start_time": "2022-10-05T11:32:35.574Z"
   },
   {
    "duration": 17,
    "start_time": "2022-10-05T11:32:37.022Z"
   },
   {
    "duration": 6,
    "start_time": "2022-10-05T11:32:37.040Z"
   },
   {
    "duration": 12,
    "start_time": "2022-10-05T11:32:37.048Z"
   },
   {
    "duration": 35,
    "start_time": "2022-10-05T11:32:37.062Z"
   },
   {
    "duration": 53,
    "start_time": "2022-10-05T11:32:37.099Z"
   },
   {
    "duration": 7,
    "start_time": "2022-10-05T11:32:37.154Z"
   },
   {
    "duration": 15,
    "start_time": "2022-10-05T11:32:37.162Z"
   },
   {
    "duration": 21,
    "start_time": "2022-10-05T11:32:37.179Z"
   },
   {
    "duration": 22,
    "start_time": "2022-10-05T11:32:37.201Z"
   },
   {
    "duration": 464,
    "start_time": "2022-10-05T11:32:37.224Z"
   },
   {
    "duration": 5,
    "start_time": "2022-10-05T11:32:37.691Z"
   },
   {
    "duration": 17,
    "start_time": "2022-10-05T11:32:37.698Z"
   },
   {
    "duration": 5,
    "start_time": "2022-10-05T11:32:37.717Z"
   },
   {
    "duration": 7,
    "start_time": "2022-10-05T11:32:37.723Z"
   },
   {
    "duration": 360,
    "start_time": "2022-10-05T11:32:37.732Z"
   },
   {
    "duration": 10,
    "start_time": "2022-10-05T11:32:38.094Z"
   },
   {
    "duration": 14,
    "start_time": "2022-10-05T11:32:38.106Z"
   },
   {
    "duration": 298,
    "start_time": "2022-10-05T11:32:38.122Z"
   },
   {
    "duration": 7,
    "start_time": "2022-10-05T11:32:38.423Z"
   },
   {
    "duration": 7,
    "start_time": "2022-10-05T11:32:38.432Z"
   },
   {
    "duration": 42,
    "start_time": "2022-10-05T11:32:38.441Z"
   },
   {
    "duration": 11,
    "start_time": "2022-10-05T11:32:38.485Z"
   },
   {
    "duration": 534,
    "start_time": "2022-10-05T11:32:38.498Z"
   },
   {
    "duration": 332,
    "start_time": "2022-10-05T11:32:39.034Z"
   },
   {
    "duration": 119,
    "start_time": "2022-10-05T11:32:39.368Z"
   },
   {
    "duration": 8,
    "start_time": "2022-10-05T11:32:39.488Z"
   },
   {
    "duration": 5,
    "start_time": "2022-10-05T11:32:39.498Z"
   },
   {
    "duration": 408,
    "start_time": "2022-10-05T11:32:39.505Z"
   },
   {
    "duration": 345,
    "start_time": "2022-10-05T11:32:39.915Z"
   },
   {
    "duration": 7,
    "start_time": "2022-10-05T11:32:40.262Z"
   },
   {
    "duration": 205,
    "start_time": "2022-10-05T11:32:40.277Z"
   },
   {
    "duration": 220,
    "start_time": "2022-10-05T11:32:40.484Z"
   },
   {
    "duration": 258,
    "start_time": "2022-10-05T11:32:40.706Z"
   },
   {
    "duration": 446,
    "start_time": "2022-10-05T11:32:40.966Z"
   },
   {
    "duration": 285,
    "start_time": "2022-10-05T11:32:41.416Z"
   },
   {
    "duration": 563,
    "start_time": "2022-10-05T11:32:41.703Z"
   },
   {
    "duration": 205,
    "start_time": "2022-10-05T11:32:42.268Z"
   },
   {
    "duration": 448,
    "start_time": "2022-10-05T11:32:42.476Z"
   },
   {
    "duration": 13,
    "start_time": "2022-10-05T11:32:42.926Z"
   },
   {
    "duration": 14,
    "start_time": "2022-10-05T11:32:42.941Z"
   },
   {
    "duration": 102,
    "start_time": "2022-10-05T12:05:12.746Z"
   },
   {
    "duration": 101,
    "start_time": "2022-10-05T12:07:17.937Z"
   },
   {
    "duration": 50,
    "start_time": "2022-10-05T12:08:31.354Z"
   },
   {
    "duration": 17,
    "start_time": "2022-10-05T12:13:32.940Z"
   },
   {
    "duration": 50,
    "start_time": "2022-10-05T12:13:35.911Z"
   },
   {
    "duration": 49,
    "start_time": "2022-10-05T12:13:59.145Z"
   },
   {
    "duration": 16,
    "start_time": "2022-10-05T12:13:59.586Z"
   },
   {
    "duration": 4,
    "start_time": "2022-10-05T12:14:02.066Z"
   },
   {
    "duration": 5,
    "start_time": "2022-10-05T12:35:44.874Z"
   },
   {
    "duration": 5,
    "start_time": "2022-10-05T12:35:49.842Z"
   },
   {
    "duration": 5,
    "start_time": "2022-10-05T12:35:54.755Z"
   },
   {
    "duration": 1147,
    "start_time": "2022-10-05T13:08:11.852Z"
   },
   {
    "duration": 53,
    "start_time": "2022-10-05T13:08:13.001Z"
   },
   {
    "duration": 20,
    "start_time": "2022-10-05T13:08:13.055Z"
   },
   {
    "duration": 15,
    "start_time": "2022-10-05T13:08:13.077Z"
   },
   {
    "duration": 4,
    "start_time": "2022-10-05T13:08:13.094Z"
   },
   {
    "duration": 13,
    "start_time": "2022-10-05T13:08:13.099Z"
   },
   {
    "duration": 18,
    "start_time": "2022-10-05T13:08:13.114Z"
   },
   {
    "duration": 85,
    "start_time": "2022-10-05T13:08:13.133Z"
   },
   {
    "duration": 7,
    "start_time": "2022-10-05T13:08:13.220Z"
   },
   {
    "duration": 8,
    "start_time": "2022-10-05T13:08:13.229Z"
   },
   {
    "duration": 19,
    "start_time": "2022-10-05T13:08:13.239Z"
   },
   {
    "duration": 24,
    "start_time": "2022-10-05T13:08:13.260Z"
   },
   {
    "duration": 469,
    "start_time": "2022-10-05T13:08:13.285Z"
   },
   {
    "duration": 5,
    "start_time": "2022-10-05T13:08:13.756Z"
   },
   {
    "duration": 34,
    "start_time": "2022-10-05T13:08:13.762Z"
   },
   {
    "duration": 6,
    "start_time": "2022-10-05T13:08:13.798Z"
   },
   {
    "duration": 16,
    "start_time": "2022-10-05T13:08:13.805Z"
   },
   {
    "duration": 350,
    "start_time": "2022-10-05T13:08:13.823Z"
   },
   {
    "duration": 8,
    "start_time": "2022-10-05T13:08:14.175Z"
   },
   {
    "duration": 12,
    "start_time": "2022-10-05T13:08:14.184Z"
   },
   {
    "duration": 294,
    "start_time": "2022-10-05T13:08:14.197Z"
   },
   {
    "duration": 7,
    "start_time": "2022-10-05T13:08:14.492Z"
   },
   {
    "duration": 6,
    "start_time": "2022-10-05T13:08:14.500Z"
   },
   {
    "duration": 15,
    "start_time": "2022-10-05T13:08:14.508Z"
   },
   {
    "duration": 11,
    "start_time": "2022-10-05T13:08:14.525Z"
   },
   {
    "duration": 550,
    "start_time": "2022-10-05T13:08:14.538Z"
   },
   {
    "duration": 352,
    "start_time": "2022-10-05T13:08:15.090Z"
   },
   {
    "duration": 152,
    "start_time": "2022-10-05T13:08:15.446Z"
   },
   {
    "duration": 10,
    "start_time": "2022-10-05T13:08:15.600Z"
   },
   {
    "duration": 16,
    "start_time": "2022-10-05T13:08:15.612Z"
   },
   {
    "duration": 418,
    "start_time": "2022-10-05T13:08:15.631Z"
   },
   {
    "duration": 353,
    "start_time": "2022-10-05T13:08:16.051Z"
   },
   {
    "duration": 7,
    "start_time": "2022-10-05T13:08:16.406Z"
   },
   {
    "duration": 202,
    "start_time": "2022-10-05T13:08:16.414Z"
   },
   {
    "duration": 192,
    "start_time": "2022-10-05T13:08:16.618Z"
   },
   {
    "duration": 307,
    "start_time": "2022-10-05T13:08:16.812Z"
   },
   {
    "duration": 464,
    "start_time": "2022-10-05T13:08:17.121Z"
   },
   {
    "duration": 280,
    "start_time": "2022-10-05T13:08:17.586Z"
   },
   {
    "duration": 563,
    "start_time": "2022-10-05T13:08:17.868Z"
   },
   {
    "duration": 211,
    "start_time": "2022-10-05T13:08:18.433Z"
   },
   {
    "duration": 456,
    "start_time": "2022-10-05T13:08:18.646Z"
   },
   {
    "duration": 13,
    "start_time": "2022-10-05T13:08:19.103Z"
   },
   {
    "duration": 14,
    "start_time": "2022-10-05T13:08:19.118Z"
   },
   {
    "duration": 230,
    "start_time": "2022-10-05T13:17:04.117Z"
   },
   {
    "duration": 3,
    "start_time": "2022-10-05T13:17:14.710Z"
   },
   {
    "duration": 181,
    "start_time": "2022-10-05T13:17:58.117Z"
   },
   {
    "duration": 63,
    "start_time": "2022-10-05T13:18:23.479Z"
   },
   {
    "duration": 4,
    "start_time": "2022-10-05T13:21:22.116Z"
   },
   {
    "duration": 10,
    "start_time": "2022-10-05T13:31:23.615Z"
   },
   {
    "duration": 23,
    "start_time": "2022-10-05T13:32:01.906Z"
   },
   {
    "duration": 115,
    "start_time": "2022-10-05T13:46:52.726Z"
   },
   {
    "duration": 12,
    "start_time": "2022-10-05T13:46:56.032Z"
   },
   {
    "duration": 7,
    "start_time": "2022-10-05T13:46:58.737Z"
   },
   {
    "duration": 9,
    "start_time": "2022-10-05T13:47:11.370Z"
   },
   {
    "duration": 8,
    "start_time": "2022-10-05T13:47:18.315Z"
   },
   {
    "duration": 24,
    "start_time": "2022-10-05T13:47:26.300Z"
   },
   {
    "duration": 19,
    "start_time": "2022-10-05T13:48:30.981Z"
   },
   {
    "duration": 62,
    "start_time": "2022-10-05T13:48:49.638Z"
   },
   {
    "duration": 245,
    "start_time": "2022-10-05T13:48:55.367Z"
   },
   {
    "duration": 20,
    "start_time": "2022-10-05T13:50:30.011Z"
   },
   {
    "duration": 92,
    "start_time": "2022-10-05T13:51:08.167Z"
   },
   {
    "duration": 4,
    "start_time": "2022-10-05T13:51:37.971Z"
   },
   {
    "duration": 4,
    "start_time": "2022-10-05T13:51:42.964Z"
   },
   {
    "duration": 22,
    "start_time": "2022-10-05T13:51:47.332Z"
   },
   {
    "duration": 1388,
    "start_time": "2022-10-05T13:52:52.124Z"
   },
   {
    "duration": 9,
    "start_time": "2022-10-05T13:53:01.781Z"
   },
   {
    "duration": 13,
    "start_time": "2022-10-05T13:53:09.574Z"
   },
   {
    "duration": 7,
    "start_time": "2022-10-05T13:53:14.071Z"
   },
   {
    "duration": 9,
    "start_time": "2022-10-05T13:53:27.160Z"
   },
   {
    "duration": 23,
    "start_time": "2022-10-05T13:57:00.987Z"
   },
   {
    "duration": 26,
    "start_time": "2022-10-05T13:57:24.205Z"
   },
   {
    "duration": 31,
    "start_time": "2022-10-05T13:57:55.354Z"
   },
   {
    "duration": 332,
    "start_time": "2022-10-05T14:07:09.038Z"
   },
   {
    "duration": 5,
    "start_time": "2022-10-05T14:09:45.710Z"
   },
   {
    "duration": 4,
    "start_time": "2022-10-05T14:09:51.498Z"
   },
   {
    "duration": 26,
    "start_time": "2022-10-05T14:10:34.879Z"
   },
   {
    "duration": 25,
    "start_time": "2022-10-05T14:51:19.657Z"
   },
   {
    "duration": 19,
    "start_time": "2022-10-05T14:51:55.400Z"
   },
   {
    "duration": 12,
    "start_time": "2022-10-05T14:52:04.784Z"
   },
   {
    "duration": 15,
    "start_time": "2022-10-05T14:52:27.115Z"
   },
   {
    "duration": 15,
    "start_time": "2022-10-05T14:52:30.243Z"
   },
   {
    "duration": 13,
    "start_time": "2022-10-05T14:52:36.524Z"
   },
   {
    "duration": 14,
    "start_time": "2022-10-05T14:52:42.789Z"
   },
   {
    "duration": 21,
    "start_time": "2022-10-05T14:52:52.870Z"
   },
   {
    "duration": 16,
    "start_time": "2022-10-05T14:52:57.151Z"
   },
   {
    "duration": 17,
    "start_time": "2022-10-05T14:52:59.903Z"
   },
   {
    "duration": 14,
    "start_time": "2022-10-05T14:53:05.423Z"
   },
   {
    "duration": 32,
    "start_time": "2022-10-05T14:53:33.715Z"
   },
   {
    "duration": 29,
    "start_time": "2022-10-05T14:53:37.124Z"
   },
   {
    "duration": 30,
    "start_time": "2022-10-05T14:53:44.036Z"
   },
   {
    "duration": 25,
    "start_time": "2022-10-05T14:54:03.135Z"
   },
   {
    "duration": 12,
    "start_time": "2022-10-05T14:56:30.305Z"
   },
   {
    "duration": 24,
    "start_time": "2022-10-05T14:56:46.275Z"
   },
   {
    "duration": 25,
    "start_time": "2022-10-05T14:57:37.321Z"
   },
   {
    "duration": 14,
    "start_time": "2022-10-05T14:59:04.180Z"
   },
   {
    "duration": 22,
    "start_time": "2022-10-05T14:59:17.953Z"
   },
   {
    "duration": 13,
    "start_time": "2022-10-05T15:01:02.194Z"
   },
   {
    "duration": 13,
    "start_time": "2022-10-05T15:04:54.270Z"
   },
   {
    "duration": 12,
    "start_time": "2022-10-05T15:05:09.105Z"
   },
   {
    "duration": 17,
    "start_time": "2022-10-05T15:06:11.801Z"
   },
   {
    "duration": 17,
    "start_time": "2022-10-05T15:06:37.804Z"
   },
   {
    "duration": 17,
    "start_time": "2022-10-05T15:06:56.206Z"
   },
   {
    "duration": 19,
    "start_time": "2022-10-05T15:07:25.315Z"
   },
   {
    "duration": 13,
    "start_time": "2022-10-05T15:07:38.939Z"
   },
   {
    "duration": 16,
    "start_time": "2022-10-05T15:07:43.068Z"
   },
   {
    "duration": 22,
    "start_time": "2022-10-05T15:08:25.650Z"
   },
   {
    "duration": 9,
    "start_time": "2022-10-05T15:18:53.501Z"
   },
   {
    "duration": 10,
    "start_time": "2022-10-05T15:18:58.342Z"
   },
   {
    "duration": 12,
    "start_time": "2022-10-05T15:23:10.301Z"
   },
   {
    "duration": 19,
    "start_time": "2022-10-05T15:23:18.422Z"
   },
   {
    "duration": 22,
    "start_time": "2022-10-05T15:28:53.792Z"
   },
   {
    "duration": 25,
    "start_time": "2022-10-05T15:29:33.933Z"
   },
   {
    "duration": 21,
    "start_time": "2022-10-05T15:32:22.951Z"
   },
   {
    "duration": 23,
    "start_time": "2022-10-05T15:32:27.682Z"
   },
   {
    "duration": 27,
    "start_time": "2022-10-05T15:32:45.347Z"
   },
   {
    "duration": 18,
    "start_time": "2022-10-05T15:32:52.196Z"
   },
   {
    "duration": 21,
    "start_time": "2022-10-05T15:33:59.773Z"
   },
   {
    "duration": 22,
    "start_time": "2022-10-05T15:34:58.612Z"
   },
   {
    "duration": 21,
    "start_time": "2022-10-05T15:35:09.430Z"
   },
   {
    "duration": 20,
    "start_time": "2022-10-05T15:35:25.720Z"
   },
   {
    "duration": 25,
    "start_time": "2022-10-05T15:35:37.609Z"
   },
   {
    "duration": 20,
    "start_time": "2022-10-05T15:35:56.243Z"
   },
   {
    "duration": 25,
    "start_time": "2022-10-05T15:35:59.604Z"
   },
   {
    "duration": 26,
    "start_time": "2022-10-05T15:36:33.553Z"
   },
   {
    "duration": 33,
    "start_time": "2022-10-05T15:37:07.204Z"
   },
   {
    "duration": 24,
    "start_time": "2022-10-05T15:37:50.114Z"
   },
   {
    "duration": 27,
    "start_time": "2022-10-05T15:38:47.180Z"
   },
   {
    "duration": 29,
    "start_time": "2022-10-05T15:38:55.306Z"
   },
   {
    "duration": 21,
    "start_time": "2022-10-05T15:38:59.810Z"
   },
   {
    "duration": 20,
    "start_time": "2022-10-05T15:39:16.012Z"
   },
   {
    "duration": 21,
    "start_time": "2022-10-05T15:39:20.292Z"
   },
   {
    "duration": 20,
    "start_time": "2022-10-05T15:39:22.878Z"
   },
   {
    "duration": 24,
    "start_time": "2022-10-05T15:39:27.661Z"
   },
   {
    "duration": 23,
    "start_time": "2022-10-05T15:42:21.347Z"
   },
   {
    "duration": 14,
    "start_time": "2022-10-05T15:43:04.300Z"
   },
   {
    "duration": 11,
    "start_time": "2022-10-05T15:43:12.153Z"
   },
   {
    "duration": 62,
    "start_time": "2022-10-05T15:49:19.462Z"
   },
   {
    "duration": 232,
    "start_time": "2022-10-05T15:52:18.821Z"
   },
   {
    "duration": 24,
    "start_time": "2022-10-05T15:52:42.520Z"
   },
   {
    "duration": 19,
    "start_time": "2022-10-05T15:52:54.601Z"
   },
   {
    "duration": 9,
    "start_time": "2022-10-05T15:54:32.357Z"
   },
   {
    "duration": 58,
    "start_time": "2022-10-05T15:57:38.237Z"
   },
   {
    "duration": 3,
    "start_time": "2022-10-05T15:58:47.958Z"
   },
   {
    "duration": 28,
    "start_time": "2022-10-05T15:58:54.534Z"
   },
   {
    "duration": 27,
    "start_time": "2022-10-05T15:59:12.960Z"
   },
   {
    "duration": 49,
    "start_time": "2022-10-05T16:01:36.993Z"
   },
   {
    "duration": 4,
    "start_time": "2022-10-05T16:03:01.507Z"
   },
   {
    "duration": 11,
    "start_time": "2022-10-05T16:03:09.388Z"
   },
   {
    "duration": 9,
    "start_time": "2022-10-05T16:03:20.030Z"
   },
   {
    "duration": 32,
    "start_time": "2022-10-05T16:03:50.714Z"
   },
   {
    "duration": 10,
    "start_time": "2022-10-05T16:04:02.053Z"
   },
   {
    "duration": 6,
    "start_time": "2022-10-05T16:04:06.421Z"
   },
   {
    "duration": 32,
    "start_time": "2022-10-05T16:04:11.132Z"
   },
   {
    "duration": 11,
    "start_time": "2022-10-05T16:04:49.122Z"
   },
   {
    "duration": 36,
    "start_time": "2022-10-05T16:05:07.716Z"
   },
   {
    "duration": 188,
    "start_time": "2022-10-05T16:07:44.544Z"
   },
   {
    "duration": 1114,
    "start_time": "2022-10-05T16:07:59.907Z"
   },
   {
    "duration": 54,
    "start_time": "2022-10-05T16:08:01.023Z"
   },
   {
    "duration": 20,
    "start_time": "2022-10-05T16:08:01.078Z"
   },
   {
    "duration": 18,
    "start_time": "2022-10-05T16:08:01.100Z"
   },
   {
    "duration": 4,
    "start_time": "2022-10-05T16:08:01.119Z"
   },
   {
    "duration": 10,
    "start_time": "2022-10-05T16:08:01.125Z"
   },
   {
    "duration": 8,
    "start_time": "2022-10-05T16:08:01.137Z"
   },
   {
    "duration": 45,
    "start_time": "2022-10-05T16:08:01.146Z"
   },
   {
    "duration": 16,
    "start_time": "2022-10-05T16:08:01.192Z"
   },
   {
    "duration": 12,
    "start_time": "2022-10-05T16:08:01.210Z"
   },
   {
    "duration": 18,
    "start_time": "2022-10-05T16:08:01.224Z"
   },
   {
    "duration": 52,
    "start_time": "2022-10-05T16:08:01.244Z"
   },
   {
    "duration": 53,
    "start_time": "2022-10-05T16:08:01.298Z"
   },
   {
    "duration": 36,
    "start_time": "2022-10-05T16:08:01.353Z"
   },
   {
    "duration": 7,
    "start_time": "2022-10-05T16:08:01.390Z"
   },
   {
    "duration": 6,
    "start_time": "2022-10-05T16:08:01.399Z"
   },
   {
    "duration": 16,
    "start_time": "2022-10-05T16:08:01.407Z"
   },
   {
    "duration": 22,
    "start_time": "2022-10-05T16:08:01.424Z"
   },
   {
    "duration": 500,
    "start_time": "2022-10-05T16:08:01.448Z"
   },
   {
    "duration": 5,
    "start_time": "2022-10-05T16:08:01.950Z"
   },
   {
    "duration": 25,
    "start_time": "2022-10-05T16:08:01.956Z"
   },
   {
    "duration": 27,
    "start_time": "2022-10-05T16:08:01.982Z"
   },
   {
    "duration": 38,
    "start_time": "2022-10-05T16:08:02.011Z"
   },
   {
    "duration": 359,
    "start_time": "2022-10-05T16:08:02.051Z"
   },
   {
    "duration": 10,
    "start_time": "2022-10-05T16:08:02.412Z"
   },
   {
    "duration": 14,
    "start_time": "2022-10-05T16:08:02.423Z"
   },
   {
    "duration": 305,
    "start_time": "2022-10-05T16:08:02.439Z"
   },
   {
    "duration": 7,
    "start_time": "2022-10-05T16:08:02.748Z"
   },
   {
    "duration": 19,
    "start_time": "2022-10-05T16:08:02.757Z"
   },
   {
    "duration": 12,
    "start_time": "2022-10-05T16:08:02.778Z"
   },
   {
    "duration": 11,
    "start_time": "2022-10-05T16:08:02.792Z"
   },
   {
    "duration": 575,
    "start_time": "2022-10-05T16:08:02.805Z"
   },
   {
    "duration": 343,
    "start_time": "2022-10-05T16:08:03.382Z"
   },
   {
    "duration": 119,
    "start_time": "2022-10-05T16:08:03.727Z"
   },
   {
    "duration": 8,
    "start_time": "2022-10-05T16:08:03.848Z"
   },
   {
    "duration": 20,
    "start_time": "2022-10-05T16:08:03.857Z"
   },
   {
    "duration": 410,
    "start_time": "2022-10-05T16:08:03.879Z"
   },
   {
    "duration": 356,
    "start_time": "2022-10-05T16:08:04.291Z"
   },
   {
    "duration": 8,
    "start_time": "2022-10-05T16:08:04.648Z"
   },
   {
    "duration": 203,
    "start_time": "2022-10-05T16:08:04.658Z"
   },
   {
    "duration": 197,
    "start_time": "2022-10-05T16:08:04.863Z"
   },
   {
    "duration": 318,
    "start_time": "2022-10-05T16:08:05.062Z"
   },
   {
    "duration": 511,
    "start_time": "2022-10-05T16:08:05.382Z"
   },
   {
    "duration": 297,
    "start_time": "2022-10-05T16:08:05.895Z"
   },
   {
    "duration": 592,
    "start_time": "2022-10-05T16:08:06.194Z"
   },
   {
    "duration": 221,
    "start_time": "2022-10-05T16:08:06.788Z"
   },
   {
    "duration": 483,
    "start_time": "2022-10-05T16:08:07.011Z"
   },
   {
    "duration": 14,
    "start_time": "2022-10-05T16:08:07.496Z"
   },
   {
    "duration": 16,
    "start_time": "2022-10-05T16:08:07.512Z"
   },
   {
    "duration": 365,
    "start_time": "2022-10-05T16:11:36.784Z"
   },
   {
    "duration": 274,
    "start_time": "2022-10-05T16:15:22.828Z"
   },
   {
    "duration": 131,
    "start_time": "2022-10-05T16:17:08.945Z"
   },
   {
    "duration": 201,
    "start_time": "2022-10-05T16:17:13.912Z"
   },
   {
    "duration": 127,
    "start_time": "2022-10-05T16:17:26.058Z"
   },
   {
    "duration": 69089,
    "start_time": "2022-10-05T16:18:24.706Z"
   },
   {
    "duration": 972,
    "start_time": "2022-10-05T16:19:42.003Z"
   },
   {
    "duration": 141,
    "start_time": "2022-10-05T16:22:24.535Z"
   },
   {
    "duration": 7,
    "start_time": "2022-10-05T16:22:29.703Z"
   },
   {
    "duration": 276,
    "start_time": "2022-10-05T16:22:32.543Z"
   },
   {
    "duration": 124,
    "start_time": "2022-10-05T16:22:37.368Z"
   },
   {
    "duration": 128,
    "start_time": "2022-10-05T16:23:02.259Z"
   },
   {
    "duration": 12,
    "start_time": "2022-10-05T16:23:24.062Z"
   },
   {
    "duration": 11,
    "start_time": "2022-10-05T16:24:27.381Z"
   },
   {
    "duration": 0,
    "start_time": "2022-10-05T16:26:48.696Z"
   },
   {
    "duration": 0,
    "start_time": "2022-10-05T16:26:48.697Z"
   },
   {
    "duration": 0,
    "start_time": "2022-10-05T16:26:48.698Z"
   },
   {
    "duration": 0,
    "start_time": "2022-10-05T16:26:48.700Z"
   },
   {
    "duration": 0,
    "start_time": "2022-10-05T16:26:48.701Z"
   },
   {
    "duration": 0,
    "start_time": "2022-10-05T16:26:48.702Z"
   },
   {
    "duration": 0,
    "start_time": "2022-10-05T16:26:48.704Z"
   },
   {
    "duration": 0,
    "start_time": "2022-10-05T16:26:48.705Z"
   },
   {
    "duration": 0,
    "start_time": "2022-10-05T16:26:48.706Z"
   },
   {
    "duration": 0,
    "start_time": "2022-10-05T16:26:48.707Z"
   },
   {
    "duration": 0,
    "start_time": "2022-10-05T16:26:48.708Z"
   },
   {
    "duration": 0,
    "start_time": "2022-10-05T16:26:48.710Z"
   },
   {
    "duration": 0,
    "start_time": "2022-10-05T16:26:48.711Z"
   },
   {
    "duration": 0,
    "start_time": "2022-10-05T16:26:48.712Z"
   },
   {
    "duration": 0,
    "start_time": "2022-10-05T16:26:48.713Z"
   },
   {
    "duration": 0,
    "start_time": "2022-10-05T16:26:48.776Z"
   },
   {
    "duration": 0,
    "start_time": "2022-10-05T16:26:48.777Z"
   },
   {
    "duration": 0,
    "start_time": "2022-10-05T16:26:48.778Z"
   },
   {
    "duration": 0,
    "start_time": "2022-10-05T16:26:48.779Z"
   },
   {
    "duration": 0,
    "start_time": "2022-10-05T16:26:48.780Z"
   },
   {
    "duration": 0,
    "start_time": "2022-10-05T16:26:48.781Z"
   },
   {
    "duration": 0,
    "start_time": "2022-10-05T16:26:48.782Z"
   },
   {
    "duration": 0,
    "start_time": "2022-10-05T16:26:48.783Z"
   },
   {
    "duration": 0,
    "start_time": "2022-10-05T16:26:48.784Z"
   },
   {
    "duration": 1,
    "start_time": "2022-10-05T16:26:48.785Z"
   },
   {
    "duration": 0,
    "start_time": "2022-10-05T16:26:48.787Z"
   },
   {
    "duration": 0,
    "start_time": "2022-10-05T16:26:48.789Z"
   },
   {
    "duration": 0,
    "start_time": "2022-10-05T16:26:48.790Z"
   },
   {
    "duration": 0,
    "start_time": "2022-10-05T16:26:48.791Z"
   },
   {
    "duration": 0,
    "start_time": "2022-10-05T16:26:48.792Z"
   },
   {
    "duration": 0,
    "start_time": "2022-10-05T16:26:48.794Z"
   },
   {
    "duration": 0,
    "start_time": "2022-10-05T16:26:48.795Z"
   },
   {
    "duration": 0,
    "start_time": "2022-10-05T16:26:48.796Z"
   },
   {
    "duration": 0,
    "start_time": "2022-10-05T16:26:48.798Z"
   },
   {
    "duration": 0,
    "start_time": "2022-10-05T16:26:48.800Z"
   },
   {
    "duration": 0,
    "start_time": "2022-10-05T16:26:48.801Z"
   },
   {
    "duration": 0,
    "start_time": "2022-10-05T16:26:48.802Z"
   },
   {
    "duration": 0,
    "start_time": "2022-10-05T16:26:48.803Z"
   },
   {
    "duration": 0,
    "start_time": "2022-10-05T16:26:48.804Z"
   },
   {
    "duration": 0,
    "start_time": "2022-10-05T16:26:48.805Z"
   },
   {
    "duration": 0,
    "start_time": "2022-10-05T16:26:48.806Z"
   },
   {
    "duration": 0,
    "start_time": "2022-10-05T16:26:48.808Z"
   },
   {
    "duration": 0,
    "start_time": "2022-10-05T16:26:48.808Z"
   },
   {
    "duration": 0,
    "start_time": "2022-10-05T16:26:48.810Z"
   },
   {
    "duration": 0,
    "start_time": "2022-10-05T16:26:48.811Z"
   },
   {
    "duration": 0,
    "start_time": "2022-10-05T16:26:48.812Z"
   },
   {
    "duration": 0,
    "start_time": "2022-10-05T16:26:48.877Z"
   },
   {
    "duration": 0,
    "start_time": "2022-10-05T16:26:48.878Z"
   },
   {
    "duration": 0,
    "start_time": "2022-10-05T16:26:48.879Z"
   },
   {
    "duration": 0,
    "start_time": "2022-10-05T16:26:48.880Z"
   },
   {
    "duration": 0,
    "start_time": "2022-10-05T16:26:48.881Z"
   },
   {
    "duration": 1260,
    "start_time": "2022-10-05T16:27:14.455Z"
   },
   {
    "duration": 54,
    "start_time": "2022-10-05T16:27:15.717Z"
   },
   {
    "duration": 21,
    "start_time": "2022-10-05T16:27:15.776Z"
   },
   {
    "duration": 18,
    "start_time": "2022-10-05T16:27:15.799Z"
   },
   {
    "duration": 22,
    "start_time": "2022-10-05T16:27:15.819Z"
   },
   {
    "duration": 32,
    "start_time": "2022-10-05T16:27:15.843Z"
   },
   {
    "duration": 10,
    "start_time": "2022-10-05T16:27:15.877Z"
   },
   {
    "duration": 34,
    "start_time": "2022-10-05T16:27:15.889Z"
   },
   {
    "duration": 15,
    "start_time": "2022-10-05T16:27:15.927Z"
   },
   {
    "duration": 10,
    "start_time": "2022-10-05T16:27:15.944Z"
   },
   {
    "duration": 19,
    "start_time": "2022-10-05T16:27:15.977Z"
   },
   {
    "duration": 20,
    "start_time": "2022-10-05T16:27:15.998Z"
   },
   {
    "duration": 72,
    "start_time": "2022-10-05T16:27:16.020Z"
   },
   {
    "duration": 27,
    "start_time": "2022-10-05T16:27:16.093Z"
   },
   {
    "duration": 7,
    "start_time": "2022-10-05T16:27:16.122Z"
   },
   {
    "duration": 9,
    "start_time": "2022-10-05T16:27:16.131Z"
   },
   {
    "duration": 39,
    "start_time": "2022-10-05T16:27:16.141Z"
   },
   {
    "duration": 12,
    "start_time": "2022-10-05T16:27:16.182Z"
   },
   {
    "duration": 508,
    "start_time": "2022-10-05T16:27:16.196Z"
   },
   {
    "duration": 5,
    "start_time": "2022-10-05T16:27:16.706Z"
   },
   {
    "duration": 18,
    "start_time": "2022-10-05T16:27:16.713Z"
   },
   {
    "duration": 6,
    "start_time": "2022-10-05T16:27:16.733Z"
   },
   {
    "duration": 7,
    "start_time": "2022-10-05T16:27:16.740Z"
   },
   {
    "duration": 413,
    "start_time": "2022-10-05T16:27:16.748Z"
   },
   {
    "duration": 18,
    "start_time": "2022-10-05T16:27:17.163Z"
   },
   {
    "duration": 10,
    "start_time": "2022-10-05T16:27:17.183Z"
   },
   {
    "duration": 302,
    "start_time": "2022-10-05T16:27:17.197Z"
   },
   {
    "duration": 224,
    "start_time": "2022-10-05T16:27:17.501Z"
   },
   {
    "duration": 0,
    "start_time": "2022-10-05T16:27:17.726Z"
   },
   {
    "duration": 0,
    "start_time": "2022-10-05T16:27:17.728Z"
   },
   {
    "duration": 0,
    "start_time": "2022-10-05T16:27:17.729Z"
   },
   {
    "duration": 0,
    "start_time": "2022-10-05T16:27:17.730Z"
   },
   {
    "duration": 0,
    "start_time": "2022-10-05T16:27:17.731Z"
   },
   {
    "duration": 1,
    "start_time": "2022-10-05T16:27:17.732Z"
   },
   {
    "duration": 0,
    "start_time": "2022-10-05T16:27:17.734Z"
   },
   {
    "duration": 0,
    "start_time": "2022-10-05T16:27:17.735Z"
   },
   {
    "duration": 0,
    "start_time": "2022-10-05T16:27:17.736Z"
   },
   {
    "duration": 0,
    "start_time": "2022-10-05T16:27:17.737Z"
   },
   {
    "duration": 0,
    "start_time": "2022-10-05T16:27:17.738Z"
   },
   {
    "duration": 0,
    "start_time": "2022-10-05T16:27:17.740Z"
   },
   {
    "duration": 0,
    "start_time": "2022-10-05T16:27:17.741Z"
   },
   {
    "duration": 0,
    "start_time": "2022-10-05T16:27:17.742Z"
   },
   {
    "duration": 0,
    "start_time": "2022-10-05T16:27:17.743Z"
   },
   {
    "duration": 0,
    "start_time": "2022-10-05T16:27:17.776Z"
   },
   {
    "duration": 0,
    "start_time": "2022-10-05T16:27:17.778Z"
   },
   {
    "duration": 0,
    "start_time": "2022-10-05T16:27:17.779Z"
   },
   {
    "duration": 0,
    "start_time": "2022-10-05T16:27:17.780Z"
   },
   {
    "duration": 0,
    "start_time": "2022-10-05T16:27:17.781Z"
   },
   {
    "duration": 0,
    "start_time": "2022-10-05T16:27:17.782Z"
   },
   {
    "duration": 0,
    "start_time": "2022-10-05T16:27:17.784Z"
   },
   {
    "duration": 0,
    "start_time": "2022-10-05T16:27:17.784Z"
   },
   {
    "duration": 250,
    "start_time": "2022-10-05T16:28:48.330Z"
   },
   {
    "duration": 119,
    "start_time": "2022-10-05T16:29:03.348Z"
   },
   {
    "duration": 288,
    "start_time": "2022-10-05T16:29:26.391Z"
   },
   {
    "duration": 49,
    "start_time": "2022-10-05T16:31:05.508Z"
   },
   {
    "duration": 192,
    "start_time": "2022-10-05T16:31:20.412Z"
   },
   {
    "duration": 13,
    "start_time": "2022-10-05T16:31:28.997Z"
   },
   {
    "duration": 273,
    "start_time": "2022-10-05T16:31:29.647Z"
   },
   {
    "duration": 57,
    "start_time": "2022-10-05T16:32:04.139Z"
   },
   {
    "duration": 1171,
    "start_time": "2022-10-05T16:33:35.980Z"
   },
   {
    "duration": 52,
    "start_time": "2022-10-05T16:33:37.153Z"
   },
   {
    "duration": 20,
    "start_time": "2022-10-05T16:33:37.207Z"
   },
   {
    "duration": 15,
    "start_time": "2022-10-05T16:33:37.229Z"
   },
   {
    "duration": 4,
    "start_time": "2022-10-05T16:33:37.245Z"
   },
   {
    "duration": 31,
    "start_time": "2022-10-05T16:33:37.250Z"
   },
   {
    "duration": 9,
    "start_time": "2022-10-05T16:33:37.283Z"
   },
   {
    "duration": 28,
    "start_time": "2022-10-05T16:33:37.294Z"
   },
   {
    "duration": 15,
    "start_time": "2022-10-05T16:33:37.324Z"
   },
   {
    "duration": 36,
    "start_time": "2022-10-05T16:33:37.342Z"
   },
   {
    "duration": 19,
    "start_time": "2022-10-05T16:33:37.379Z"
   },
   {
    "duration": 21,
    "start_time": "2022-10-05T16:33:37.400Z"
   },
   {
    "duration": 75,
    "start_time": "2022-10-05T16:33:37.424Z"
   },
   {
    "duration": 31,
    "start_time": "2022-10-05T16:33:37.501Z"
   },
   {
    "duration": 7,
    "start_time": "2022-10-05T16:33:37.534Z"
   },
   {
    "duration": 5,
    "start_time": "2022-10-05T16:33:37.543Z"
   },
   {
    "duration": 10,
    "start_time": "2022-10-05T16:33:37.577Z"
   },
   {
    "duration": 11,
    "start_time": "2022-10-05T16:33:37.588Z"
   },
   {
    "duration": 479,
    "start_time": "2022-10-05T16:33:37.601Z"
   },
   {
    "duration": 5,
    "start_time": "2022-10-05T16:33:38.082Z"
   },
   {
    "duration": 19,
    "start_time": "2022-10-05T16:33:38.088Z"
   },
   {
    "duration": 6,
    "start_time": "2022-10-05T16:33:38.108Z"
   },
   {
    "duration": 6,
    "start_time": "2022-10-05T16:33:38.116Z"
   },
   {
    "duration": 386,
    "start_time": "2022-10-05T16:33:38.123Z"
   },
   {
    "duration": 9,
    "start_time": "2022-10-05T16:33:38.511Z"
   },
   {
    "duration": 12,
    "start_time": "2022-10-05T16:33:38.522Z"
   },
   {
    "duration": 303,
    "start_time": "2022-10-05T16:33:38.535Z"
   },
   {
    "duration": 7,
    "start_time": "2022-10-05T16:33:38.842Z"
   },
   {
    "duration": 28,
    "start_time": "2022-10-05T16:33:38.850Z"
   },
   {
    "duration": 12,
    "start_time": "2022-10-05T16:33:38.879Z"
   },
   {
    "duration": 10,
    "start_time": "2022-10-05T16:33:38.892Z"
   },
   {
    "duration": 556,
    "start_time": "2022-10-05T16:33:38.904Z"
   },
   {
    "duration": 338,
    "start_time": "2022-10-05T16:33:39.462Z"
   },
   {
    "duration": 129,
    "start_time": "2022-10-05T16:33:39.802Z"
   },
   {
    "duration": 8,
    "start_time": "2022-10-05T16:33:39.932Z"
   },
   {
    "duration": 5,
    "start_time": "2022-10-05T16:33:39.942Z"
   },
   {
    "duration": 409,
    "start_time": "2022-10-05T16:33:39.949Z"
   },
   {
    "duration": 363,
    "start_time": "2022-10-05T16:33:40.360Z"
   },
   {
    "duration": 7,
    "start_time": "2022-10-05T16:33:40.725Z"
   },
   {
    "duration": 198,
    "start_time": "2022-10-05T16:33:40.734Z"
   },
   {
    "duration": 203,
    "start_time": "2022-10-05T16:33:40.934Z"
   },
   {
    "duration": 273,
    "start_time": "2022-10-05T16:33:41.138Z"
   },
   {
    "duration": 497,
    "start_time": "2022-10-05T16:33:41.412Z"
   },
   {
    "duration": 298,
    "start_time": "2022-10-05T16:33:41.910Z"
   },
   {
    "duration": 568,
    "start_time": "2022-10-05T16:33:42.210Z"
   },
   {
    "duration": 196,
    "start_time": "2022-10-05T16:33:42.780Z"
   },
   {
    "duration": 442,
    "start_time": "2022-10-05T16:33:42.978Z"
   },
   {
    "duration": 13,
    "start_time": "2022-10-05T16:33:43.422Z"
   },
   {
    "duration": 16,
    "start_time": "2022-10-05T16:33:43.436Z"
   },
   {
    "duration": 108,
    "start_time": "2022-10-05T16:39:51.458Z"
   },
   {
    "duration": 10,
    "start_time": "2022-10-05T16:39:59.100Z"
   },
   {
    "duration": 9,
    "start_time": "2022-10-05T16:40:18.175Z"
   },
   {
    "duration": 116,
    "start_time": "2022-10-05T16:40:21.799Z"
   },
   {
    "duration": 110,
    "start_time": "2022-10-05T16:40:35.056Z"
   },
   {
    "duration": 119,
    "start_time": "2022-10-05T16:40:41.426Z"
   },
   {
    "duration": 127,
    "start_time": "2022-10-05T16:40:54.428Z"
   },
   {
    "duration": 112,
    "start_time": "2022-10-05T16:41:07.518Z"
   },
   {
    "duration": 115,
    "start_time": "2022-10-05T16:41:12.453Z"
   },
   {
    "duration": 118,
    "start_time": "2022-10-05T16:41:28.169Z"
   },
   {
    "duration": 290,
    "start_time": "2022-10-05T16:42:27.263Z"
   },
   {
    "duration": 414,
    "start_time": "2022-10-05T16:42:39.481Z"
   },
   {
    "duration": 110,
    "start_time": "2022-10-05T16:43:05.564Z"
   },
   {
    "duration": 110,
    "start_time": "2022-10-05T17:03:55.590Z"
   },
   {
    "duration": 7,
    "start_time": "2022-10-05T17:04:00.909Z"
   },
   {
    "duration": 8,
    "start_time": "2022-10-05T17:04:02.614Z"
   },
   {
    "duration": 15,
    "start_time": "2022-10-05T17:04:09.999Z"
   },
   {
    "duration": 11,
    "start_time": "2022-10-05T17:04:16.200Z"
   },
   {
    "duration": 120,
    "start_time": "2022-10-05T17:04:17.024Z"
   },
   {
    "duration": 502,
    "start_time": "2022-10-05T17:04:44.705Z"
   },
   {
    "duration": 488,
    "start_time": "2022-10-05T17:05:35.506Z"
   },
   {
    "duration": 88,
    "start_time": "2022-10-05T17:06:39.793Z"
   },
   {
    "duration": 301,
    "start_time": "2022-10-05T17:09:44.225Z"
   },
   {
    "duration": 400,
    "start_time": "2022-10-05T17:10:04.119Z"
   },
   {
    "duration": 353,
    "start_time": "2022-10-05T17:10:09.820Z"
   },
   {
    "duration": 344,
    "start_time": "2022-10-05T17:10:14.917Z"
   },
   {
    "duration": 362,
    "start_time": "2022-10-05T17:10:18.276Z"
   },
   {
    "duration": 365,
    "start_time": "2022-10-05T17:10:27.013Z"
   },
   {
    "duration": 325,
    "start_time": "2022-10-05T17:10:37.662Z"
   },
   {
    "duration": 403,
    "start_time": "2022-10-05T17:12:29.653Z"
   },
   {
    "duration": 348,
    "start_time": "2022-10-05T17:12:55.273Z"
   },
   {
    "duration": 362,
    "start_time": "2022-10-05T17:13:36.733Z"
   },
   {
    "duration": 333,
    "start_time": "2022-10-05T17:14:14.802Z"
   },
   {
    "duration": 321,
    "start_time": "2022-10-05T17:15:57.806Z"
   },
   {
    "duration": 394,
    "start_time": "2022-10-05T17:16:12.992Z"
   },
   {
    "duration": 50,
    "start_time": "2022-10-05T17:21:24.350Z"
   },
   {
    "duration": 345,
    "start_time": "2022-10-05T17:21:28.366Z"
   },
   {
    "duration": 55,
    "start_time": "2022-10-05T17:21:33.960Z"
   },
   {
    "duration": 331,
    "start_time": "2022-10-05T17:21:37.744Z"
   },
   {
    "duration": 320,
    "start_time": "2022-10-05T17:21:45.921Z"
   },
   {
    "duration": 68,
    "start_time": "2022-10-05T17:30:44.124Z"
   },
   {
    "duration": 194,
    "start_time": "2022-10-05T17:32:27.503Z"
   },
   {
    "duration": 55,
    "start_time": "2022-10-05T17:42:17.104Z"
   },
   {
    "duration": 53,
    "start_time": "2022-10-05T17:43:37.504Z"
   },
   {
    "duration": 456,
    "start_time": "2022-10-05T17:44:02.549Z"
   },
   {
    "duration": 709,
    "start_time": "2022-10-05T17:50:26.115Z"
   },
   {
    "duration": 584,
    "start_time": "2022-10-05T17:51:21.427Z"
   },
   {
    "duration": 51,
    "start_time": "2022-10-05T18:15:29.492Z"
   },
   {
    "duration": 55,
    "start_time": "2022-10-05T18:16:43.701Z"
   },
   {
    "duration": 1104,
    "start_time": "2022-10-05T18:18:29.878Z"
   },
   {
    "duration": 53,
    "start_time": "2022-10-05T18:18:30.984Z"
   },
   {
    "duration": 19,
    "start_time": "2022-10-05T18:18:31.038Z"
   },
   {
    "duration": 14,
    "start_time": "2022-10-05T18:18:31.059Z"
   },
   {
    "duration": 5,
    "start_time": "2022-10-05T18:18:31.074Z"
   },
   {
    "duration": 13,
    "start_time": "2022-10-05T18:18:31.080Z"
   },
   {
    "duration": 9,
    "start_time": "2022-10-05T18:18:31.095Z"
   },
   {
    "duration": 24,
    "start_time": "2022-10-05T18:18:31.106Z"
   },
   {
    "duration": 15,
    "start_time": "2022-10-05T18:18:31.132Z"
   },
   {
    "duration": 31,
    "start_time": "2022-10-05T18:18:31.150Z"
   },
   {
    "duration": 19,
    "start_time": "2022-10-05T18:18:31.182Z"
   },
   {
    "duration": 28,
    "start_time": "2022-10-05T18:18:31.202Z"
   },
   {
    "duration": 81,
    "start_time": "2022-10-05T18:18:31.232Z"
   },
   {
    "duration": 25,
    "start_time": "2022-10-05T18:18:31.315Z"
   },
   {
    "duration": 8,
    "start_time": "2022-10-05T18:18:31.341Z"
   },
   {
    "duration": 12,
    "start_time": "2022-10-05T18:18:31.351Z"
   },
   {
    "duration": 29,
    "start_time": "2022-10-05T18:18:31.377Z"
   },
   {
    "duration": 15,
    "start_time": "2022-10-05T18:18:31.408Z"
   },
   {
    "duration": 462,
    "start_time": "2022-10-05T18:18:31.424Z"
   },
   {
    "duration": 5,
    "start_time": "2022-10-05T18:18:31.888Z"
   },
   {
    "duration": 35,
    "start_time": "2022-10-05T18:18:31.894Z"
   },
   {
    "duration": 6,
    "start_time": "2022-10-05T18:18:31.930Z"
   },
   {
    "duration": 25,
    "start_time": "2022-10-05T18:18:31.937Z"
   },
   {
    "duration": 339,
    "start_time": "2022-10-05T18:18:31.964Z"
   },
   {
    "duration": 8,
    "start_time": "2022-10-05T18:18:32.305Z"
   },
   {
    "duration": 28,
    "start_time": "2022-10-05T18:18:32.314Z"
   },
   {
    "duration": 270,
    "start_time": "2022-10-05T18:18:32.343Z"
   },
   {
    "duration": 114,
    "start_time": "2022-10-05T18:18:32.616Z"
   },
   {
    "duration": 5,
    "start_time": "2022-10-05T18:18:32.732Z"
   },
   {
    "duration": 33,
    "start_time": "2022-10-05T18:18:32.739Z"
   },
   {
    "duration": 47,
    "start_time": "2022-10-05T18:18:32.773Z"
   },
   {
    "duration": 25,
    "start_time": "2022-10-05T18:18:32.822Z"
   },
   {
    "duration": 539,
    "start_time": "2022-10-05T18:18:32.849Z"
   },
   {
    "duration": 335,
    "start_time": "2022-10-05T18:18:33.390Z"
   },
   {
    "duration": 198,
    "start_time": "2022-10-05T18:18:33.727Z"
   },
   {
    "duration": 8,
    "start_time": "2022-10-05T18:18:33.927Z"
   },
   {
    "duration": 27,
    "start_time": "2022-10-05T18:18:33.936Z"
   },
   {
    "duration": 341,
    "start_time": "2022-10-05T18:18:33.965Z"
   },
   {
    "duration": 314,
    "start_time": "2022-10-05T18:18:34.308Z"
   },
   {
    "duration": 344,
    "start_time": "2022-10-05T18:18:34.624Z"
   },
   {
    "duration": 9,
    "start_time": "2022-10-05T18:18:34.969Z"
   },
   {
    "duration": 200,
    "start_time": "2022-10-05T18:18:34.980Z"
   },
   {
    "duration": 226,
    "start_time": "2022-10-05T18:18:35.182Z"
   },
   {
    "duration": 261,
    "start_time": "2022-10-05T18:18:35.410Z"
   },
   {
    "duration": 536,
    "start_time": "2022-10-05T18:18:35.673Z"
   },
   {
    "duration": 271,
    "start_time": "2022-10-05T18:18:36.211Z"
   },
   {
    "duration": 454,
    "start_time": "2022-10-05T18:18:36.483Z"
   },
   {
    "duration": 230,
    "start_time": "2022-10-05T18:18:36.938Z"
   },
   {
    "duration": 616,
    "start_time": "2022-10-05T18:18:37.169Z"
   },
   {
    "duration": 13,
    "start_time": "2022-10-05T18:18:37.786Z"
   },
   {
    "duration": 20,
    "start_time": "2022-10-05T18:18:37.800Z"
   },
   {
    "duration": 21,
    "start_time": "2022-10-05T18:20:36.618Z"
   },
   {
    "duration": 24,
    "start_time": "2022-10-05T18:21:10.174Z"
   },
   {
    "duration": 24,
    "start_time": "2022-10-05T18:21:20.728Z"
   },
   {
    "duration": 22,
    "start_time": "2022-10-05T18:21:26.372Z"
   },
   {
    "duration": 1150,
    "start_time": "2022-10-05T18:24:18.817Z"
   },
   {
    "duration": 52,
    "start_time": "2022-10-05T18:24:19.969Z"
   },
   {
    "duration": 19,
    "start_time": "2022-10-05T18:24:20.023Z"
   },
   {
    "duration": 25,
    "start_time": "2022-10-05T18:24:20.044Z"
   },
   {
    "duration": 17,
    "start_time": "2022-10-05T18:24:20.071Z"
   },
   {
    "duration": 19,
    "start_time": "2022-10-05T18:24:20.089Z"
   },
   {
    "duration": 10,
    "start_time": "2022-10-05T18:24:20.110Z"
   },
   {
    "duration": 30,
    "start_time": "2022-10-05T18:24:20.122Z"
   },
   {
    "duration": 15,
    "start_time": "2022-10-05T18:24:20.154Z"
   },
   {
    "duration": 18,
    "start_time": "2022-10-05T18:24:20.171Z"
   },
   {
    "duration": 27,
    "start_time": "2022-10-05T18:24:20.191Z"
   },
   {
    "duration": 26,
    "start_time": "2022-10-05T18:24:20.220Z"
   },
   {
    "duration": 70,
    "start_time": "2022-10-05T18:24:20.248Z"
   },
   {
    "duration": 27,
    "start_time": "2022-10-05T18:24:20.319Z"
   },
   {
    "duration": 17,
    "start_time": "2022-10-05T18:24:20.347Z"
   },
   {
    "duration": 17,
    "start_time": "2022-10-05T18:24:20.366Z"
   },
   {
    "duration": 41,
    "start_time": "2022-10-05T18:24:20.385Z"
   },
   {
    "duration": 23,
    "start_time": "2022-10-05T18:24:20.428Z"
   },
   {
    "duration": 471,
    "start_time": "2022-10-05T18:24:20.453Z"
   },
   {
    "duration": 5,
    "start_time": "2022-10-05T18:24:20.925Z"
   },
   {
    "duration": 31,
    "start_time": "2022-10-05T18:24:20.932Z"
   },
   {
    "duration": 8,
    "start_time": "2022-10-05T18:24:20.964Z"
   },
   {
    "duration": 14,
    "start_time": "2022-10-05T18:24:20.973Z"
   },
   {
    "duration": 328,
    "start_time": "2022-10-05T18:24:20.989Z"
   },
   {
    "duration": 9,
    "start_time": "2022-10-05T18:24:21.319Z"
   },
   {
    "duration": 11,
    "start_time": "2022-10-05T18:24:21.330Z"
   },
   {
    "duration": 302,
    "start_time": "2022-10-05T18:24:21.342Z"
   },
   {
    "duration": 130,
    "start_time": "2022-10-05T18:24:21.647Z"
   },
   {
    "duration": 7,
    "start_time": "2022-10-05T18:24:21.778Z"
   },
   {
    "duration": 6,
    "start_time": "2022-10-05T18:24:21.786Z"
   },
   {
    "duration": 15,
    "start_time": "2022-10-05T18:24:21.793Z"
   },
   {
    "duration": 13,
    "start_time": "2022-10-05T18:24:21.809Z"
   },
   {
    "duration": 552,
    "start_time": "2022-10-05T18:24:21.824Z"
   },
   {
    "duration": 354,
    "start_time": "2022-10-05T18:24:22.378Z"
   },
   {
    "duration": 187,
    "start_time": "2022-10-05T18:24:22.734Z"
   },
   {
    "duration": 8,
    "start_time": "2022-10-05T18:24:22.923Z"
   },
   {
    "duration": 6,
    "start_time": "2022-10-05T18:24:22.933Z"
   },
   {
    "duration": 347,
    "start_time": "2022-10-05T18:24:22.941Z"
   },
   {
    "duration": 322,
    "start_time": "2022-10-05T18:24:23.289Z"
   },
   {
    "duration": 329,
    "start_time": "2022-10-05T18:24:23.613Z"
   },
   {
    "duration": 7,
    "start_time": "2022-10-05T18:24:23.943Z"
   },
   {
    "duration": 188,
    "start_time": "2022-10-05T18:24:23.952Z"
   },
   {
    "duration": 181,
    "start_time": "2022-10-05T18:24:24.142Z"
   },
   {
    "duration": 267,
    "start_time": "2022-10-05T18:24:24.324Z"
   },
   {
    "duration": 540,
    "start_time": "2022-10-05T18:24:24.593Z"
   },
   {
    "duration": 315,
    "start_time": "2022-10-05T18:24:25.135Z"
   },
   {
    "duration": 442,
    "start_time": "2022-10-05T18:24:25.452Z"
   },
   {
    "duration": 192,
    "start_time": "2022-10-05T18:24:25.896Z"
   },
   {
    "duration": 600,
    "start_time": "2022-10-05T18:24:26.090Z"
   },
   {
    "duration": 14,
    "start_time": "2022-10-05T18:24:26.691Z"
   },
   {
    "duration": 11,
    "start_time": "2022-10-05T18:24:26.707Z"
   },
   {
    "duration": 1231,
    "start_time": "2022-10-06T08:23:25.609Z"
   },
   {
    "duration": 98,
    "start_time": "2022-10-06T08:23:26.842Z"
   },
   {
    "duration": 22,
    "start_time": "2022-10-06T08:23:26.941Z"
   },
   {
    "duration": 21,
    "start_time": "2022-10-06T08:23:26.965Z"
   },
   {
    "duration": 4,
    "start_time": "2022-10-06T08:23:26.989Z"
   },
   {
    "duration": 18,
    "start_time": "2022-10-06T08:23:26.994Z"
   },
   {
    "duration": 18,
    "start_time": "2022-10-06T08:23:27.014Z"
   },
   {
    "duration": 32,
    "start_time": "2022-10-06T08:23:27.034Z"
   },
   {
    "duration": 18,
    "start_time": "2022-10-06T08:23:27.068Z"
   },
   {
    "duration": 14,
    "start_time": "2022-10-06T08:23:27.088Z"
   },
   {
    "duration": 31,
    "start_time": "2022-10-06T08:23:27.103Z"
   },
   {
    "duration": 54,
    "start_time": "2022-10-06T08:23:27.135Z"
   },
   {
    "duration": 26,
    "start_time": "2022-10-06T08:23:27.191Z"
   },
   {
    "duration": 45,
    "start_time": "2022-10-06T09:28:02.618Z"
   },
   {
    "duration": 1339,
    "start_time": "2022-10-06T09:28:08.125Z"
   },
   {
    "duration": 110,
    "start_time": "2022-10-06T09:28:09.466Z"
   },
   {
    "duration": 18,
    "start_time": "2022-10-06T09:28:09.578Z"
   },
   {
    "duration": 31,
    "start_time": "2022-10-06T09:28:09.598Z"
   },
   {
    "duration": 3,
    "start_time": "2022-10-06T09:28:09.631Z"
   },
   {
    "duration": 11,
    "start_time": "2022-10-06T09:28:09.636Z"
   },
   {
    "duration": 12,
    "start_time": "2022-10-06T09:28:09.648Z"
   },
   {
    "duration": 22,
    "start_time": "2022-10-06T09:28:09.661Z"
   },
   {
    "duration": 33,
    "start_time": "2022-10-06T09:28:09.685Z"
   },
   {
    "duration": 16,
    "start_time": "2022-10-06T09:28:09.722Z"
   },
   {
    "duration": 25,
    "start_time": "2022-10-06T09:28:09.740Z"
   },
   {
    "duration": 45,
    "start_time": "2022-10-06T09:28:09.767Z"
   },
   {
    "duration": 25,
    "start_time": "2022-10-06T09:28:09.814Z"
   },
   {
    "duration": 48,
    "start_time": "2022-10-06T09:28:09.841Z"
   },
   {
    "duration": 30,
    "start_time": "2022-10-06T09:28:09.891Z"
   },
   {
    "duration": 18,
    "start_time": "2022-10-06T09:28:09.923Z"
   },
   {
    "duration": 9,
    "start_time": "2022-10-06T09:28:09.943Z"
   },
   {
    "duration": 12,
    "start_time": "2022-10-06T09:28:09.953Z"
   },
   {
    "duration": 14,
    "start_time": "2022-10-06T09:28:09.966Z"
   },
   {
    "duration": 555,
    "start_time": "2022-10-06T09:28:09.982Z"
   },
   {
    "duration": 5,
    "start_time": "2022-10-06T09:28:10.539Z"
   },
   {
    "duration": 17,
    "start_time": "2022-10-06T09:28:10.546Z"
   },
   {
    "duration": 7,
    "start_time": "2022-10-06T09:28:10.564Z"
   },
   {
    "duration": 28,
    "start_time": "2022-10-06T09:28:10.573Z"
   },
   {
    "duration": 341,
    "start_time": "2022-10-06T09:28:10.603Z"
   },
   {
    "duration": 10,
    "start_time": "2022-10-06T09:28:10.946Z"
   },
   {
    "duration": 15,
    "start_time": "2022-10-06T09:28:10.958Z"
   },
   {
    "duration": 299,
    "start_time": "2022-10-06T09:28:10.977Z"
   },
   {
    "duration": 123,
    "start_time": "2022-10-06T09:28:11.278Z"
   },
   {
    "duration": 6,
    "start_time": "2022-10-06T09:28:11.418Z"
   },
   {
    "duration": 8,
    "start_time": "2022-10-06T09:28:11.426Z"
   },
   {
    "duration": 19,
    "start_time": "2022-10-06T09:28:11.436Z"
   },
   {
    "duration": 14,
    "start_time": "2022-10-06T09:28:11.457Z"
   },
   {
    "duration": 602,
    "start_time": "2022-10-06T09:28:11.473Z"
   },
   {
    "duration": 409,
    "start_time": "2022-10-06T09:28:12.077Z"
   },
   {
    "duration": 123,
    "start_time": "2022-10-06T09:28:12.488Z"
   },
   {
    "duration": 9,
    "start_time": "2022-10-06T09:28:12.614Z"
   },
   {
    "duration": 9,
    "start_time": "2022-10-06T09:28:12.624Z"
   },
   {
    "duration": 332,
    "start_time": "2022-10-06T09:28:12.635Z"
   },
   {
    "duration": 309,
    "start_time": "2022-10-06T09:28:12.969Z"
   },
   {
    "duration": 350,
    "start_time": "2022-10-06T09:28:13.280Z"
   },
   {
    "duration": 7,
    "start_time": "2022-10-06T09:28:13.631Z"
   },
   {
    "duration": 203,
    "start_time": "2022-10-06T09:28:13.639Z"
   },
   {
    "duration": 199,
    "start_time": "2022-10-06T09:28:13.844Z"
   },
   {
    "duration": 284,
    "start_time": "2022-10-06T09:28:14.044Z"
   },
   {
    "duration": 684,
    "start_time": "2022-10-06T09:28:14.330Z"
   },
   {
    "duration": 288,
    "start_time": "2022-10-06T09:28:15.016Z"
   },
   {
    "duration": 489,
    "start_time": "2022-10-06T09:28:15.305Z"
   },
   {
    "duration": 201,
    "start_time": "2022-10-06T09:28:15.800Z"
   },
   {
    "duration": 574,
    "start_time": "2022-10-06T09:28:16.003Z"
   },
   {
    "duration": 13,
    "start_time": "2022-10-06T09:28:16.578Z"
   },
   {
    "duration": 17,
    "start_time": "2022-10-06T09:28:16.604Z"
   },
   {
    "duration": 10,
    "start_time": "2022-10-06T09:28:48.920Z"
   },
   {
    "duration": 20,
    "start_time": "2022-10-06T09:29:07.934Z"
   },
   {
    "duration": 377,
    "start_time": "2022-10-06T10:04:30.659Z"
   },
   {
    "duration": 309,
    "start_time": "2022-10-06T10:04:35.685Z"
   },
   {
    "duration": 1295,
    "start_time": "2022-12-29T17:34:55.968Z"
   },
   {
    "duration": 187,
    "start_time": "2022-12-29T17:34:57.265Z"
   },
   {
    "duration": 20,
    "start_time": "2022-12-29T17:34:57.454Z"
   },
   {
    "duration": 13,
    "start_time": "2022-12-29T17:34:57.476Z"
   },
   {
    "duration": 4,
    "start_time": "2022-12-29T17:34:57.491Z"
   },
   {
    "duration": 11,
    "start_time": "2022-12-29T17:34:57.497Z"
   },
   {
    "duration": 8,
    "start_time": "2022-12-29T17:34:57.510Z"
   },
   {
    "duration": 21,
    "start_time": "2022-12-29T17:34:57.520Z"
   },
   {
    "duration": 42,
    "start_time": "2022-12-29T17:34:57.543Z"
   },
   {
    "duration": 11,
    "start_time": "2022-12-29T17:34:57.588Z"
   },
   {
    "duration": 19,
    "start_time": "2022-12-29T17:34:57.601Z"
   },
   {
    "duration": 20,
    "start_time": "2022-12-29T17:34:57.622Z"
   },
   {
    "duration": 51,
    "start_time": "2022-12-29T17:34:57.644Z"
   },
   {
    "duration": 53,
    "start_time": "2022-12-29T17:34:57.697Z"
   },
   {
    "duration": 44,
    "start_time": "2022-12-29T17:34:57.752Z"
   },
   {
    "duration": 7,
    "start_time": "2022-12-29T17:34:57.798Z"
   },
   {
    "duration": 6,
    "start_time": "2022-12-29T17:34:57.807Z"
   },
   {
    "duration": 16,
    "start_time": "2022-12-29T17:34:57.815Z"
   },
   {
    "duration": 18,
    "start_time": "2022-12-29T17:34:57.832Z"
   },
   {
    "duration": 492,
    "start_time": "2022-12-29T17:34:57.852Z"
   },
   {
    "duration": 4,
    "start_time": "2022-12-29T17:34:58.346Z"
   },
   {
    "duration": 27,
    "start_time": "2022-12-29T17:34:58.352Z"
   },
   {
    "duration": 6,
    "start_time": "2022-12-29T17:34:58.380Z"
   },
   {
    "duration": 9,
    "start_time": "2022-12-29T17:34:58.388Z"
   },
   {
    "duration": 381,
    "start_time": "2022-12-29T17:34:58.399Z"
   },
   {
    "duration": 9,
    "start_time": "2022-12-29T17:34:58.781Z"
   },
   {
    "duration": 13,
    "start_time": "2022-12-29T17:34:58.792Z"
   },
   {
    "duration": 322,
    "start_time": "2022-12-29T17:34:58.808Z"
   },
   {
    "duration": 132,
    "start_time": "2022-12-29T17:34:59.132Z"
   },
   {
    "duration": 14,
    "start_time": "2022-12-29T17:34:59.265Z"
   },
   {
    "duration": 11,
    "start_time": "2022-12-29T17:34:59.280Z"
   },
   {
    "duration": 14,
    "start_time": "2022-12-29T17:34:59.293Z"
   },
   {
    "duration": 12,
    "start_time": "2022-12-29T17:34:59.309Z"
   },
   {
    "duration": 613,
    "start_time": "2022-12-29T17:34:59.323Z"
   },
   {
    "duration": 373,
    "start_time": "2022-12-29T17:34:59.938Z"
   },
   {
    "duration": 218,
    "start_time": "2022-12-29T17:35:00.313Z"
   },
   {
    "duration": 9,
    "start_time": "2022-12-29T17:35:00.533Z"
   },
   {
    "duration": 19,
    "start_time": "2022-12-29T17:35:00.544Z"
   },
   {
    "duration": 352,
    "start_time": "2022-12-29T17:35:00.565Z"
   },
   {
    "duration": 359,
    "start_time": "2022-12-29T17:35:00.918Z"
   },
   {
    "duration": 375,
    "start_time": "2022-12-29T17:35:01.279Z"
   },
   {
    "duration": 7,
    "start_time": "2022-12-29T17:35:01.656Z"
   },
   {
    "duration": 199,
    "start_time": "2022-12-29T17:35:01.664Z"
   },
   {
    "duration": 190,
    "start_time": "2022-12-29T17:35:01.865Z"
   },
   {
    "duration": 236,
    "start_time": "2022-12-29T17:35:02.056Z"
   },
   {
    "duration": 588,
    "start_time": "2022-12-29T17:35:02.293Z"
   },
   {
    "duration": 261,
    "start_time": "2022-12-29T17:35:02.883Z"
   },
   {
    "duration": 451,
    "start_time": "2022-12-29T17:35:03.146Z"
   },
   {
    "duration": 192,
    "start_time": "2022-12-29T17:35:03.599Z"
   },
   {
    "duration": 690,
    "start_time": "2022-12-29T17:35:03.793Z"
   },
   {
    "duration": 14,
    "start_time": "2022-12-29T17:35:04.485Z"
   },
   {
    "duration": 17,
    "start_time": "2022-12-29T17:35:04.501Z"
   }
  ],
  "kernelspec": {
   "display_name": "Python 3 (ipykernel)",
   "language": "python",
   "name": "python3"
  },
  "language_info": {
   "codemirror_mode": {
    "name": "ipython",
    "version": 3
   },
   "file_extension": ".py",
   "mimetype": "text/x-python",
   "name": "python",
   "nbconvert_exporter": "python",
   "pygments_lexer": "ipython3",
   "version": "3.9.12"
  },
  "toc": {
   "base_numbering": 1,
   "nav_menu": {
    "height": "551px",
    "width": "673px"
   },
   "number_sections": true,
   "sideBar": true,
   "skip_h1_title": true,
   "title_cell": "Table of Contents",
   "title_sidebar": "Contents",
   "toc_cell": false,
   "toc_position": {},
   "toc_section_display": true,
   "toc_window_display": true
  }
 },
 "nbformat": 4,
 "nbformat_minor": 2
}
